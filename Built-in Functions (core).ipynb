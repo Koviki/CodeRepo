{
 "cells": [
  {
   "cell_type": "markdown",
   "id": "398ae354",
   "metadata": {},
   "source": [
    "<h1>Build-In Functions</h1>"
   ]
  },
  {
   "cell_type": "markdown",
   "id": "4bc211dd",
   "metadata": {},
   "source": [
    "<b>Len</b>"
   ]
  },
  {
   "cell_type": "code",
   "execution_count": 1,
   "id": "634bc807",
   "metadata": {},
   "outputs": [
    {
     "name": "stdout",
     "output_type": "stream",
     "text": [
      "3 5 5 4\n"
     ]
    }
   ],
   "source": [
    "a=[56,\"kinjal\",67.9]\n",
    "b=(673,\"Hello\",\"Come On\",98,.98)\n",
    "c={673,\"Hello\",\"Come On\",98,.98}\n",
    "d={\n",
    "    'Kolkata':'700040',\n",
    "    'Delhi':'100010',\n",
    "    'Mumbai':'200020',\n",
    "    'Chennai':'300030',\n",
    "}\n",
    "print(len(a),len(b),len(c),len(d))"
   ]
  },
  {
   "cell_type": "markdown",
   "id": "8dd9a1b8",
   "metadata": {},
   "source": [
    "<b>Count</b>"
   ]
  },
  {
   "cell_type": "code",
   "execution_count": 2,
   "id": "0bce7437",
   "metadata": {},
   "outputs": [
    {
     "name": "stdout",
     "output_type": "stream",
     "text": [
      "3 3\n"
     ]
    },
    {
     "ename": "AttributeError",
     "evalue": "'dict' object has no attribute 'count'",
     "output_type": "error",
     "traceback": [
      "\u001b[1;31m---------------------------------------------------------------------------\u001b[0m",
      "\u001b[1;31mAttributeError\u001b[0m                            Traceback (most recent call last)",
      "\u001b[1;32mC:\\Users\\KINJAL~1\\AppData\\Local\\Temp/ipykernel_21044/3597999271.py\u001b[0m in \u001b[0;36m<module>\u001b[1;34m\u001b[0m\n\u001b[0;32m     11\u001b[0m \u001b[0mprint\u001b[0m\u001b[1;33m(\u001b[0m\u001b[0ma\u001b[0m\u001b[1;33m.\u001b[0m\u001b[0mcount\u001b[0m\u001b[1;33m(\u001b[0m\u001b[1;36m22\u001b[0m\u001b[1;33m)\u001b[0m\u001b[1;33m,\u001b[0m\u001b[0mb\u001b[0m\u001b[1;33m.\u001b[0m\u001b[0mcount\u001b[0m\u001b[1;33m(\u001b[0m\u001b[1;36m22\u001b[0m\u001b[1;33m)\u001b[0m\u001b[1;33m)\u001b[0m\u001b[1;33m\u001b[0m\u001b[1;33m\u001b[0m\u001b[0m\n\u001b[0;32m     12\u001b[0m \u001b[1;31m#print(c.count(22)) #will throw error\u001b[0m\u001b[1;33m\u001b[0m\u001b[1;33m\u001b[0m\u001b[0m\n\u001b[1;32m---> 13\u001b[1;33m \u001b[0mprint\u001b[0m\u001b[1;33m(\u001b[0m\u001b[0md\u001b[0m\u001b[1;33m.\u001b[0m\u001b[0mcount\u001b[0m\u001b[1;33m(\u001b[0m\u001b[1;34m'700040'\u001b[0m\u001b[1;33m)\u001b[0m\u001b[1;33m)\u001b[0m \u001b[1;31m#will throw error\u001b[0m\u001b[1;33m\u001b[0m\u001b[1;33m\u001b[0m\u001b[0m\n\u001b[0m",
      "\u001b[1;31mAttributeError\u001b[0m: 'dict' object has no attribute 'count'"
     ]
    }
   ],
   "source": [
    "a=(22, 45, 23, 78, 22, 22, 6.89)\n",
    "b=[22, 45, 23, 78, 22, 22, 6.89]\n",
    "c={22, 45, 23, 78, 22, 22, 6.89}\n",
    "d={\n",
    "    1:'700040',\n",
    "    2:'100010',\n",
    "    1:'700040',\n",
    "    4:'300030',\n",
    "    1:'700040'\n",
    "}\n",
    "print(a.count(22),b.count(22))\n",
    "#print(c.count(22)) #will throw error\n",
    "print(d.count('700040')) #will throw error"
   ]
  },
  {
   "cell_type": "markdown",
   "id": "6fe6271b",
   "metadata": {},
   "source": [
    "<b>Index</b>"
   ]
  },
  {
   "cell_type": "code",
   "execution_count": 3,
   "id": "843d77fb",
   "metadata": {},
   "outputs": [
    {
     "name": "stdout",
     "output_type": "stream",
     "text": [
      "3 1\n"
     ]
    },
    {
     "ename": "AttributeError",
     "evalue": "'set' object has no attribute 'index'",
     "output_type": "error",
     "traceback": [
      "\u001b[1;31m---------------------------------------------------------------------------\u001b[0m",
      "\u001b[1;31mAttributeError\u001b[0m                            Traceback (most recent call last)",
      "\u001b[1;32mC:\\Users\\KINJAL~1\\AppData\\Local\\Temp/ipykernel_21044/1681030954.py\u001b[0m in \u001b[0;36m<module>\u001b[1;34m\u001b[0m\n\u001b[0;32m      4\u001b[0m \u001b[1;33m\u001b[0m\u001b[0m\n\u001b[0;32m      5\u001b[0m \u001b[0mprint\u001b[0m\u001b[1;33m(\u001b[0m\u001b[0ma\u001b[0m\u001b[1;33m.\u001b[0m\u001b[0mindex\u001b[0m\u001b[1;33m(\u001b[0m\u001b[1;36m22\u001b[0m\u001b[1;33m)\u001b[0m\u001b[1;33m,\u001b[0m\u001b[0mb\u001b[0m\u001b[1;33m.\u001b[0m\u001b[0mindex\u001b[0m\u001b[1;33m(\u001b[0m\u001b[1;36m22\u001b[0m\u001b[1;33m)\u001b[0m\u001b[1;33m)\u001b[0m\u001b[1;33m\u001b[0m\u001b[1;33m\u001b[0m\u001b[0m\n\u001b[1;32m----> 6\u001b[1;33m \u001b[0mprint\u001b[0m\u001b[1;33m(\u001b[0m\u001b[0mc\u001b[0m\u001b[1;33m.\u001b[0m\u001b[0mindex\u001b[0m\u001b[1;33m(\u001b[0m\u001b[1;36m22\u001b[0m\u001b[1;33m)\u001b[0m\u001b[1;33m)\u001b[0m \u001b[1;31m#will throw error\u001b[0m\u001b[1;33m\u001b[0m\u001b[1;33m\u001b[0m\u001b[0m\n\u001b[0m",
      "\u001b[1;31mAttributeError\u001b[0m: 'set' object has no attribute 'index'"
     ]
    }
   ],
   "source": [
    "a=(45, 23, 78, 22, 6.89)\n",
    "b=[45, 22 ,8, 6.89]\n",
    "c={22, 45, 23, 78, 22, 22, 6.89}\n",
    "\n",
    "print(a.index(22),b.index(22))\n",
    "print(c.index(22)) #will throw error"
   ]
  },
  {
   "cell_type": "code",
   "execution_count": 4,
   "id": "6c91e6d0",
   "metadata": {},
   "outputs": [
    {
     "name": "stdout",
     "output_type": "stream",
     "text": [
      "0\n"
     ]
    }
   ],
   "source": [
    "#If the searching element is present multiple times then it will return 0 as the position\n",
    "\n",
    "a=(22, 45, 23, 78, 22, 22, 6.89)\n",
    "print(a.index(22))"
   ]
  },
  {
   "cell_type": "markdown",
   "id": "c51caa54",
   "metadata": {},
   "source": [
    "<b>Sorted</b>"
   ]
  },
  {
   "cell_type": "code",
   "execution_count": 5,
   "id": "e5fafe8f",
   "metadata": {},
   "outputs": [
    {
     "name": "stdout",
     "output_type": "stream",
     "text": [
      "[6.89, 22, 22, 22, 23, 45, 78]\n",
      "[6.89, 22, 22, 22, 23, 45, 78]\n",
      "[6.89, 22, 23, 45, 78]\n",
      "[1, 2, 4]\n"
     ]
    }
   ],
   "source": [
    "a=(22, 45, 23, 78, 22, 22, 6.89)\n",
    "b=[22, 45, 23, 78, 22, 22, 6.89]\n",
    "c={22, 45, 23, 78, 22, 22, 6.89}\n",
    "d={\n",
    "    1:'700040',\n",
    "    2:'100010',\n",
    "    1:'700040',\n",
    "    4:'300030',\n",
    "    1:'700040'\n",
    "}\n",
    "\n",
    "print(sorted(a))\n",
    "print(sorted(b))\n",
    "print(sorted(c))\n",
    "print(sorted(d))"
   ]
  },
  {
   "cell_type": "markdown",
   "id": "eb4e5fa9",
   "metadata": {},
   "source": [
    "<b>Min, Max, Sum</b>"
   ]
  },
  {
   "cell_type": "code",
   "execution_count": 6,
   "id": "2655f344",
   "metadata": {},
   "outputs": [
    {
     "name": "stdout",
     "output_type": "stream",
     "text": [
      "6.89 78 218.89\n",
      "6.89 78 218.89\n",
      "6.89 78 174.89\n",
      "1 4 7\n"
     ]
    }
   ],
   "source": [
    "a=(22, 45, 23, 78, 22, 22, 6.89)\n",
    "b=[22, 45, 23, 78, 22, 22, 6.89]\n",
    "c={22, 45, 23, 78, 22, 22, 6.89}\n",
    "d={\n",
    "    1:'700040',\n",
    "    2:'100010',\n",
    "    1:'700040',\n",
    "    4:'300030',\n",
    "    1:'700040'\n",
    "}\n",
    "\n",
    "print(min(a),max(a),sum(a))\n",
    "print(min(b),max(b),sum(b))\n",
    "print(min(c),max(c),sum(c))\n",
    "print(min(d),max(d),sum(d))"
   ]
  },
  {
   "cell_type": "markdown",
   "id": "b7421776",
   "metadata": {},
   "source": [
    "<b>Abs</b>"
   ]
  },
  {
   "cell_type": "code",
   "execution_count": 8,
   "id": "7d042911",
   "metadata": {},
   "outputs": [
    {
     "name": "stdout",
     "output_type": "stream",
     "text": [
      "9.87\n",
      "8.54400374531753\n"
     ]
    }
   ],
   "source": [
    "a=-9.87\n",
    "b=3+8j\n",
    "print(abs(a))\n",
    "print(abs(b))"
   ]
  },
  {
   "cell_type": "markdown",
   "id": "55a271c3",
   "metadata": {},
   "source": [
    "<b>All</b>"
   ]
  },
  {
   "cell_type": "code",
   "execution_count": 14,
   "id": "abc903cb",
   "metadata": {},
   "outputs": [
    {
     "name": "stdout",
     "output_type": "stream",
     "text": [
      "True\n",
      "False\n"
     ]
    }
   ],
   "source": [
    "#returns true if all are true\n",
    "\n",
    "a = [True, True, True]\n",
    "x = all(a)\n",
    "print(x)\n",
    "\n",
    "b = [True, False, True]\n",
    "y = all(b)\n",
    "print(y)"
   ]
  },
  {
   "cell_type": "code",
   "execution_count": 15,
   "id": "89299165",
   "metadata": {},
   "outputs": [
    {
     "name": "stdout",
     "output_type": "stream",
     "text": [
      "False False False True\n"
     ]
    }
   ],
   "source": [
    "a=(True,False,True,True)\n",
    "b=[True,False,True,True]\n",
    "c={True,False,True,True}\n",
    "d={\n",
    "    1:'700040',\n",
    "    2:'100010',\n",
    "    1:'700040',\n",
    "    4:'300030',\n",
    "    1:'700040'\n",
    "}\n",
    "print(all(a),all(b),all(c),all(d))"
   ]
  },
  {
   "cell_type": "markdown",
   "id": "8c3fedce",
   "metadata": {},
   "source": [
    "<b>Any</b>"
   ]
  },
  {
   "cell_type": "code",
   "execution_count": 19,
   "id": "2089bd07",
   "metadata": {},
   "outputs": [
    {
     "name": "stdout",
     "output_type": "stream",
     "text": [
      "False True True True\n"
     ]
    }
   ],
   "source": [
    "#The any() function returns True if any item in an iterable are true, otherwise it returns False.\n",
    "\n",
    "a=(False,False,False,False)\n",
    "b=[True,False,True,True]\n",
    "c={True,False,True,True}\n",
    "d={\n",
    "    1:'700040',\n",
    "    2:'100010',\n",
    "    1:'700040',\n",
    "    4:'300030',\n",
    "    1:'700040'\n",
    "}\n",
    "print(any(a),any(b),any(c),any(d))"
   ]
  },
  {
   "cell_type": "markdown",
   "id": "4daf4f8f",
   "metadata": {},
   "source": [
    "<b>Ascii</b>"
   ]
  },
  {
   "cell_type": "code",
   "execution_count": 21,
   "id": "fccbabb4",
   "metadata": {},
   "outputs": [
    {
     "name": "stdout",
     "output_type": "stream",
     "text": [
      "'My name is St\\xe5le with 6443'\n"
     ]
    }
   ],
   "source": [
    "print(ascii(\"My name is Ståle\"))"
   ]
  },
  {
   "cell_type": "code",
   "execution_count": 23,
   "id": "61209b65",
   "metadata": {},
   "outputs": [
    {
     "name": "stdout",
     "output_type": "stream",
     "text": [
      "{False, True}\n",
      "{1: '700040', 2: '100010', 4: '300030'}\n"
     ]
    }
   ],
   "source": [
    "c={True,False,True,True}\n",
    "d={\n",
    "    1:'700040',\n",
    "    2:'100010',\n",
    "    1:'700040',\n",
    "    4:'300030',\n",
    "    1:'700040'\n",
    "}\n",
    "print(ascii(c))\n",
    "print(ascii(d))"
   ]
  },
  {
   "cell_type": "markdown",
   "id": "5010e3fb",
   "metadata": {},
   "source": [
    "<b>Bin</n>"
   ]
  },
  {
   "cell_type": "code",
   "execution_count": 25,
   "id": "3b25ae8b",
   "metadata": {},
   "outputs": [
    {
     "name": "stdout",
     "output_type": "stream",
     "text": [
      "0b1100\n"
     ]
    },
    {
     "ename": "TypeError",
     "evalue": "'str' object cannot be interpreted as an integer",
     "output_type": "error",
     "traceback": [
      "\u001b[1;31m---------------------------------------------------------------------------\u001b[0m",
      "\u001b[1;31mTypeError\u001b[0m                                 Traceback (most recent call last)",
      "\u001b[1;32mC:\\Users\\KINJAL~1\\AppData\\Local\\Temp/ipykernel_21044/3164469921.py\u001b[0m in \u001b[0;36m<module>\u001b[1;34m\u001b[0m\n\u001b[0;32m      2\u001b[0m \u001b[1;33m\u001b[0m\u001b[0m\n\u001b[0;32m      3\u001b[0m \u001b[0mprint\u001b[0m\u001b[1;33m(\u001b[0m\u001b[0mbin\u001b[0m\u001b[1;33m(\u001b[0m\u001b[1;36m12\u001b[0m\u001b[1;33m)\u001b[0m\u001b[1;33m)\u001b[0m\u001b[1;33m\u001b[0m\u001b[1;33m\u001b[0m\u001b[0m\n\u001b[1;32m----> 4\u001b[1;33m \u001b[0mprint\u001b[0m\u001b[1;33m(\u001b[0m\u001b[0mbin\u001b[0m\u001b[1;33m(\u001b[0m\u001b[1;34m'Kinjal'\u001b[0m\u001b[1;33m)\u001b[0m\u001b[1;33m)\u001b[0m\u001b[1;33m\u001b[0m\u001b[1;33m\u001b[0m\u001b[0m\n\u001b[0m",
      "\u001b[1;31mTypeError\u001b[0m: 'str' object cannot be interpreted as an integer"
     ]
    }
   ],
   "source": [
    "#prints binary value\n",
    "\n",
    "print(bin(12))\n",
    "print(bin('Kinjal'))  #Accepts only an integer value"
   ]
  },
  {
   "cell_type": "markdown",
   "id": "7bbb1714",
   "metadata": {},
   "source": [
    "<b>Bool</b>"
   ]
  },
  {
   "cell_type": "code",
   "execution_count": 26,
   "id": "f8fdacb6",
   "metadata": {},
   "outputs": [
    {
     "name": "stdout",
     "output_type": "stream",
     "text": [
      "True True True True\n"
     ]
    }
   ],
   "source": [
    "#The object will always return True, unless an object is empty, like [], (), {}, False, 0,None\n",
    "\n",
    "a=(False,False,False,False)\n",
    "b=[True,False,True,True]\n",
    "c={True,False,True,True}\n",
    "d={\n",
    "    1:'700040',\n",
    "    2:'100010',\n",
    "    1:'700040',\n",
    "    4:'300030',\n",
    "    1:'700040'\n",
    "}\n",
    "print(bool(a),bool(b),bool(c),bool(d))"
   ]
  },
  {
   "cell_type": "markdown",
   "id": "6504d867",
   "metadata": {},
   "source": [
    "<b>Byte Array</b>"
   ]
  },
  {
   "cell_type": "code",
   "execution_count": 27,
   "id": "9eb4fc12",
   "metadata": {},
   "outputs": [
    {
     "name": "stdout",
     "output_type": "stream",
     "text": [
      "bytearray(b'\\x00\\x00\\x00\\x00')\n"
     ]
    }
   ],
   "source": [
    "print(bytearray(4))"
   ]
  },
  {
   "cell_type": "code",
   "execution_count": 17,
   "id": "19e624a2",
   "metadata": {},
   "outputs": [
    {
     "name": "stdout",
     "output_type": "stream",
     "text": [
      "20\n",
      "42\n",
      "bytearray(b'Kinjal is a good boy')\n",
      "bytearray(b'\\xff\\xfeK\\x00i\\x00n\\x00j\\x00a\\x00l\\x00 \\x00i\\x00s\\x00 \\x00a\\x00 \\x00g\\x00o\\x00o\\x00d\\x00 \\x00b\\x00o\\x00y\\x00')\n",
      "bytearray(b' c')\n"
     ]
    }
   ],
   "source": [
    "#The encoding is a must for string\n",
    "\n",
    "arr1=bytearray(\"Kinjal is a good boy\",'utf-8')\n",
    "arr2=bytearray(\"Kinjal is a good boy\",'utf-16')\n",
    "x=[32,99]  #If the list consist of string or float it will throw error\n",
    "\n",
    "print(len(arr1))\n",
    "print(len(arr2))\n",
    "print(bytearray(\"Kinjal is a good boy\",'utf-8'))\n",
    "print(bytearray(\"Kinjal is a good boy\",'utf-16'))\n",
    "print(bytearray(x))"
   ]
  },
  {
   "cell_type": "code",
   "execution_count": 22,
   "id": "4ef01a40",
   "metadata": {},
   "outputs": [
    {
     "name": "stdout",
     "output_type": "stream",
     "text": [
      "b'KinjalrRoy'\n",
      "b'Kinjal?rRoy'\n"
     ]
    }
   ],
   "source": [
    "str1 = 'KinjalÖrRoy'\n",
    " \n",
    "# Giving ascii encoding and ignore error\n",
    "print(bytes(str1, 'ascii', errors='ignore'))\n",
    "print(bytes(str1, 'ascii', errors='replace'))"
   ]
  },
  {
   "cell_type": "code",
   "execution_count": 12,
   "id": "013f1218",
   "metadata": {},
   "outputs": [
    {
     "name": "stdout",
     "output_type": "stream",
     "text": [
      "75\n",
      "105\n",
      "110\n",
      "106\n",
      "97\n",
      "108\n",
      "32\n",
      "105\n",
      "115\n",
      "32\n",
      "97\n",
      "32\n",
      "103\n",
      "111\n",
      "111\n",
      "100\n",
      "32\n",
      "98\n",
      "111\n",
      "121\n"
     ]
    }
   ],
   "source": [
    "arr=bytearray(\"Kinjal is a good boy\",'utf-8')\n",
    "for i in range(len(arr)):\n",
    "    print(arr[i])\n",
    "    i=i+1"
   ]
  },
  {
   "cell_type": "markdown",
   "id": "dcf62de3",
   "metadata": {},
   "source": [
    "<b>Bytes</b>"
   ]
  },
  {
   "cell_type": "code",
   "execution_count": 18,
   "id": "b4f0c53e",
   "metadata": {},
   "outputs": [
    {
     "name": "stdout",
     "output_type": "stream",
     "text": [
      "Byte conversion with ignore error : b'KinjalrRoy'\n",
      "Byte conversion with replace error : b'Kinjal?rRoy'\n"
     ]
    },
    {
     "ename": "UnicodeEncodeError",
     "evalue": "'ascii' codec can't encode character '\\xd6' in position 6: ordinal not in range(128)",
     "output_type": "error",
     "traceback": [
      "\u001b[1;31m---------------------------------------------------------------------------\u001b[0m",
      "\u001b[1;31mUnicodeEncodeError\u001b[0m                        Traceback (most recent call last)",
      "\u001b[1;32mC:\\Users\\KINJAL~1\\AppData\\Local\\Temp/ipykernel_24104/2802528123.py\u001b[0m in \u001b[0;36m<module>\u001b[1;34m\u001b[0m\n\u001b[0;32m     16\u001b[0m \u001b[1;31m# throws exception\u001b[0m\u001b[1;33m\u001b[0m\u001b[1;33m\u001b[0m\u001b[0m\n\u001b[0;32m     17\u001b[0m print(\"Byte conversion with strict error : \" +\n\u001b[1;32m---> 18\u001b[1;33m       str(bytes(str1, 'ascii', errors='strict')))\n\u001b[0m\u001b[0;32m     19\u001b[0m \u001b[1;33m\u001b[0m\u001b[0m\n",
      "\u001b[1;31mUnicodeEncodeError\u001b[0m: 'ascii' codec can't encode character '\\xd6' in position 6: ordinal not in range(128)"
     ]
    }
   ],
   "source": [
    "#The difference between bytes() and bytearray() is that bytes() returns an object that cannot be modified, and bytearray() \n",
    "#returns an object that can be modified.\n",
    "\n",
    "# initializing string\n",
    "str1 = 'KinjalÖrRoy'\n",
    " \n",
    "# Giving ascii encoding and ignore error\n",
    "print(\"Byte conversion with ignore error : \" +\n",
    "      str(bytes(str1, 'ascii', errors='ignore')))\n",
    " \n",
    "# Giving ascii encoding and replace error\n",
    "print(\"Byte conversion with replace error : \" +\n",
    "      str(bytes(str1, 'ascii', errors='replace')))\n",
    " \n",
    "# Giving ascii encoding and strict error\n",
    "# throws exception\n",
    "print(\"Byte conversion with strict error : \" +\n",
    "      str(bytes(str1, 'ascii', errors='strict')))\n",
    "\n"
   ]
  },
  {
   "cell_type": "markdown",
   "id": "9f090693",
   "metadata": {},
   "source": [
    "<b>Callable</b>"
   ]
  },
  {
   "cell_type": "code",
   "execution_count": 28,
   "id": "137e125a",
   "metadata": {},
   "outputs": [
    {
     "name": "stdout",
     "output_type": "stream",
     "text": [
      "True\n",
      "True\n",
      "False\n"
     ]
    }
   ],
   "source": [
    "def onlyReturn():\n",
    "    return 5\n",
    "\n",
    "a=onlyReturn\n",
    "print(callable(a))\n",
    "print(callable(onlyReturn))\n",
    "print(callable(onlyReturn()))\n"
   ]
  },
  {
   "cell_type": "code",
   "execution_count": 33,
   "id": "5583adff",
   "metadata": {},
   "outputs": [
    {
     "name": "stdout",
     "output_type": "stream",
     "text": [
      "True\n",
      "Kinjal is a good boy\n"
     ]
    }
   ],
   "source": [
    "#classes are also callable\n",
    "class forPrint:\n",
    "    def __call__(self):\n",
    "        print(\"Kinjal is a good boy\")\n",
    "        \n",
    "print(callable(forPrint))\n",
    "\n",
    "#to prove it is callable\n",
    "x=forPrint()\n",
    "x()\n",
    "        "
   ]
  },
  {
   "cell_type": "markdown",
   "id": "47d59aa3",
   "metadata": {},
   "source": [
    "<b>Char</b>"
   ]
  },
  {
   "cell_type": "code",
   "execution_count": 9,
   "id": "4201ee2d",
   "metadata": {},
   "outputs": [
    {
     "name": "stdout",
     "output_type": "stream",
     "text": [
      "d\n"
     ]
    }
   ],
   "source": [
    "#pass the unicode value and it will return the character\n",
    "\n",
    "a=chr(100)\n",
    "print(a)"
   ]
  },
  {
   "cell_type": "markdown",
   "id": "8cf63712",
   "metadata": {},
   "source": [
    "<b>Compile</b>"
   ]
  },
  {
   "cell_type": "code",
   "execution_count": 19,
   "id": "9190b647",
   "metadata": {},
   "outputs": [
    {
     "name": "stdout",
     "output_type": "stream",
     "text": [
      "The multiplication value is:200\n"
     ]
    }
   ],
   "source": [
    "#you can write the entire code and keep it in the variable and then run it on the go\n",
    "\n",
    "srccode='x=10\\ny=20\\nz=x*y\\nprint(\"The multiplication value is:\" +str(z))'\n",
    "\n",
    "execcode=compile(srccode,'multistring','exec')\n",
    "exec(execcode)\n",
    "\n"
   ]
  },
  {
   "cell_type": "code",
   "execution_count": 7,
   "id": "1cd1ac8b",
   "metadata": {},
   "outputs": [
    {
     "name": "stdout",
     "output_type": "stream",
     "text": [
      "Kinjal is a good boy\n",
      "Multiplication is good for Health   6\n"
     ]
    }
   ],
   "source": [
    "#running the code from another python file\n",
    "\n",
    "f = open('C:\\\\Users\\Kinjal Roy\\\\My_test.py', 'r')\n",
    "temp = f.read()\n",
    "f.close()\n",
    " \n",
    "code = compile(temp, 'My_test.py', 'exec')\n",
    "exec(code)"
   ]
  },
  {
   "cell_type": "markdown",
   "id": "012ec6b9",
   "metadata": {},
   "source": [
    "<b>Dict Function</b>"
   ]
  },
  {
   "cell_type": "code",
   "execution_count": 1,
   "id": "70cb5b2b",
   "metadata": {},
   "outputs": [
    {
     "name": "stdout",
     "output_type": "stream",
     "text": [
      "{'a': 1, 'b': 2, 'c': 3, 'd': 4}\n"
     ]
    }
   ],
   "source": [
    "# passing keyword arguments to dict() method\n",
    "myDict = dict(a=1, b=2, c=3, d=4)\n",
    " \n",
    "print(myDict)"
   ]
  },
  {
   "cell_type": "markdown",
   "id": "7bc4ccd5",
   "metadata": {},
   "source": [
    "<b>Enumerate</b>"
   ]
  },
  {
   "cell_type": "code",
   "execution_count": 7,
   "id": "eccca04b",
   "metadata": {},
   "outputs": [
    {
     "name": "stdout",
     "output_type": "stream",
     "text": [
      "[(0, 'kinjal'), (1, 'kunal'), (2, 'hari')]\n",
      "[(5, 'kinjal'), (6, 'kunal'), (7, 'hari')]\n"
     ]
    }
   ],
   "source": [
    "a=['kinjal','kunal','hari']\n",
    "b=enumerate(a)\n",
    "c=enumerate(a,5) #starting number as argument\n",
    "\n",
    "print(list(b))\n",
    "print(list(c))\n"
   ]
  },
  {
   "cell_type": "markdown",
   "id": "cae8314a",
   "metadata": {},
   "source": [
    "<b>Eval</b>"
   ]
  },
  {
   "cell_type": "code",
   "execution_count": 13,
   "id": "1fbc009f",
   "metadata": {},
   "outputs": [
    {
     "name": "stdout",
     "output_type": "stream",
     "text": [
      "x*(x+1)*(x+2)\n",
      "60\n"
     ]
    }
   ],
   "source": [
    "expression = 'x*(x+1)*(x+2)'\n",
    "print(expression)\n",
    "\n",
    "x = 3\n",
    "\n",
    "result = eval(expression)\n",
    "print(result)"
   ]
  },
  {
   "cell_type": "markdown",
   "id": "3760b283",
   "metadata": {},
   "source": [
    "<b>Filter</b>"
   ]
  },
  {
   "cell_type": "code",
   "execution_count": 17,
   "id": "f336f93d",
   "metadata": {},
   "outputs": [
    {
     "name": "stdout",
     "output_type": "stream",
     "text": [
      "[1, 3, 5, 13]\n",
      "[0, 2, 8]\n"
     ]
    }
   ],
   "source": [
    "# a list contains both even and odd numbers.\n",
    "seq = [0, 1, 2, 3, 5, 8, 13]\n",
    "\n",
    "# result contains odd numbers of the list\n",
    "result = filter(lambda x: x % 2 != 0, seq)\n",
    "print(list(result))\n",
    "\n",
    "# result contains even numbers of the list\n",
    "result = filter(lambda x: x % 2 == 0, seq)\n",
    "print(list(result))\n"
   ]
  },
  {
   "cell_type": "markdown",
   "id": "01b3e39a",
   "metadata": {},
   "source": [
    "<b>Format</b>"
   ]
  },
  {
   "cell_type": "code",
   "execution_count": 20,
   "id": "33bba8f6",
   "metadata": {},
   "outputs": [
    {
     "name": "stdout",
     "output_type": "stream",
     "text": [
      "Hi ! My name is Kinjal and I am 35 years old\n"
     ]
    }
   ],
   "source": [
    "a='Kinjal'\n",
    "b=35\n",
    "\n",
    "print(\"Hi ! My name is {} and I am {} years old\"\n",
    "      .format(a, b))"
   ]
  },
  {
   "cell_type": "code",
   "execution_count": 23,
   "id": "45cb46f4",
   "metadata": {},
   "outputs": [
    {
     "name": "stdout",
     "output_type": "stream",
     "text": [
      "I designed this rhyme to explain in due time\n",
      "All I know\n",
      "Time is a \tvaluable thing\n"
     ]
    }
   ],
   "source": [
    "print('I designed this rhyme to explain in due time\\nAll I know')\n",
    "print('Time is a \\tvaluable thing')"
   ]
  },
  {
   "cell_type": "code",
   "execution_count": 28,
   "id": "3a7ba9fb",
   "metadata": {},
   "outputs": [
    {
     "name": "stdout",
     "output_type": "stream",
     "text": [
      "Watch it fly by\u0007s the pendulum swings\n",
      "Watch it fly by\\as the pendulum swings\n"
     ]
    }
   ],
   "source": [
    "print('Watch it fly by\\as the pendulum swings') #doesn'r print /\n",
    "print('Watch it fly by\\\\as the pendulum swings')"
   ]
  },
  {
   "cell_type": "code",
   "execution_count": 29,
   "id": "122afc6a",
   "metadata": {},
   "outputs": [
    {
     "name": "stdout",
     "output_type": "stream",
     "text": [
      "It doesn't even matter how hard you try\n"
     ]
    }
   ],
   "source": [
    "print('It doesn\\'t even matter how hard you try')"
   ]
  },
  {
   "cell_type": "code",
   "execution_count": 34,
   "id": "ac7b2f47",
   "metadata": {},
   "outputs": [
    {
     "name": "stdout",
     "output_type": "stream",
     "text": [
      "It is so \"unreal\"\n"
     ]
    }
   ],
   "source": [
    "print('It is so \"unreal\"')"
   ]
  },
  {
   "cell_type": "code",
   "execution_count": 35,
   "id": "07774646",
   "metadata": {},
   "outputs": [
    {
     "name": "stdout",
     "output_type": "stream",
     "text": [
      "Every Operating Systems should know the use of Source Open programming and programmer\n"
     ]
    }
   ],
   "source": [
    "print(\"Every {3} should know the use of {2} {1} programming and {0}\"\n",
    "      .format(\"programmer\", \"Open\", \"Source\", \"Operating Systems\"))"
   ]
  },
  {
   "cell_type": "code",
   "execution_count": 3,
   "id": "435cdea2",
   "metadata": {},
   "outputs": [
    {
     "name": "stdout",
     "output_type": "stream",
     "text": [
      "       geeksforgeeks\n",
      "Interngeeks         \n",
      "Interng\n"
     ]
    }
   ],
   "source": [
    "print(\"%20s\" % ('geeksforgeeks', ))  #20spaces before\n",
    "print(\"%-20s\" % ('Interngeeks', ))  #20 spaces after\n",
    "print(\"%.5s\" % ('Interngeeks', ))  #percent of string to be printed\n"
   ]
  },
  {
   "cell_type": "code",
   "execution_count": 4,
   "id": "d95b2a1b",
   "metadata": {},
   "outputs": [
    {
     "name": "stdout",
     "output_type": "stream",
     "text": [
      "I wondered why the program was troubling me. Thenit dawned on me it was a bug .\n"
     ]
    }
   ],
   "source": [
    "#positional values for string\n",
    "\n",
    "type = 'bug'\n",
    "\n",
    "result = 'troubling'\n",
    "\n",
    "print('I wondered why the program was %s me. Then\\\n",
    "it dawned on me it was a %s .' % (result, type))\n"
   ]
  },
  {
   "cell_type": "code",
   "execution_count": 5,
   "id": "26fda07a",
   "metadata": {},
   "outputs": [
    {
     "name": "stdout",
     "output_type": "stream",
     "text": [
      "amazon is so useful. I tried to lookup mobile and they had a nice one that cost 12000 rupees.\n"
     ]
    }
   ],
   "source": [
    "#positional values with integers ans string\n",
    "\n",
    "match = 12000\n",
    "\n",
    "site = 'amazon'\n",
    "\n",
    "print(\"%s is so useful. I tried to look\\\n",
    "up mobile and they had a nice one that cost %d rupees.\" % (site, match))\n"
   ]
  },
  {
   "cell_type": "code",
   "execution_count": 6,
   "id": "5dd8d870",
   "metadata": {},
   "outputs": [
    {
     "name": "stdout",
     "output_type": "stream",
     "text": [
      "My name is Tony Howard Stark AKA the Iron Man.\n"
     ]
    }
   ],
   "source": [
    "#Using dictionary to stuff values\n",
    "\n",
    "introduction = 'My name is {first_name} {middle_name} {last_name} AKA the {aka}.'\n",
    "full_name = {\n",
    "    'first_name': 'Tony',\n",
    "    'middle_name': 'Howard',\n",
    "    'last_name': 'Stark',\n",
    "    'aka': 'Iron Man',\n",
    "}\n",
    "\n",
    "# Notice the use of \"**\" operator to unpack the values.\n",
    "print(introduction.format(**full_name))\n"
   ]
  },
  {
   "cell_type": "markdown",
   "id": "134eb67b",
   "metadata": {},
   "source": [
    "<b>Iter()</b>"
   ]
  },
  {
   "cell_type": "code",
   "execution_count": 9,
   "id": "c92d45ba",
   "metadata": {},
   "outputs": [
    {
     "name": "stdout",
     "output_type": "stream",
     "text": [
      "Values at 1st iteration : \n",
      "1\n",
      "2\n",
      "3\n",
      "4\n",
      "5\n",
      "Values at 2nd iteration : \n"
     ]
    },
    {
     "ename": "StopIteration",
     "evalue": "",
     "output_type": "error",
     "traceback": [
      "\u001b[1;31m---------------------------------------------------------------------------\u001b[0m",
      "\u001b[1;31mStopIteration\u001b[0m                             Traceback (most recent call last)",
      "\u001b[1;32mC:\\Users\\KINJAL~1\\AppData\\Local\\Temp/ipykernel_21380/3540427283.py\u001b[0m in \u001b[0;36m<module>\u001b[1;34m\u001b[0m\n\u001b[0;32m     11\u001b[0m \u001b[0mprint\u001b[0m\u001b[1;33m(\u001b[0m\u001b[1;34m\"Values at 2nd iteration : \"\u001b[0m\u001b[1;33m)\u001b[0m\u001b[1;33m\u001b[0m\u001b[1;33m\u001b[0m\u001b[0m\n\u001b[0;32m     12\u001b[0m \u001b[1;32mfor\u001b[0m \u001b[0mi\u001b[0m \u001b[1;32min\u001b[0m \u001b[0mrange\u001b[0m\u001b[1;33m(\u001b[0m\u001b[1;36m0\u001b[0m\u001b[1;33m,\u001b[0m \u001b[1;36m5\u001b[0m\u001b[1;33m)\u001b[0m\u001b[1;33m:\u001b[0m\u001b[1;33m\u001b[0m\u001b[1;33m\u001b[0m\u001b[0m\n\u001b[1;32m---> 13\u001b[1;33m     \u001b[0mprint\u001b[0m\u001b[1;33m(\u001b[0m\u001b[0mnext\u001b[0m\u001b[1;33m(\u001b[0m\u001b[0mlis1\u001b[0m\u001b[1;33m)\u001b[0m\u001b[1;33m)\u001b[0m\u001b[1;33m\u001b[0m\u001b[1;33m\u001b[0m\u001b[0m\n\u001b[0m",
      "\u001b[1;31mStopIteration\u001b[0m: "
     ]
    }
   ],
   "source": [
    "lis1 = [1, 2, 3, 4, 5]\n",
    "# converting list using iter()\n",
    "lis1 = iter(lis1)\n",
    " \n",
    "# prints this\n",
    "print(\"Values at 1st iteration : \")\n",
    "for i in range(0, 5):\n",
    "    print(next(lis1))\n",
    " \n",
    "# doesn't print this\n",
    "print(\"Values at 2nd iteration : \")\n",
    "for i in range(0, 5):\n",
    "    print(next(lis1))"
   ]
  },
  {
   "cell_type": "markdown",
   "id": "32b757a5",
   "metadata": {},
   "source": [
    "<b>List()</b>"
   ]
  },
  {
   "cell_type": "code",
   "execution_count": 10,
   "id": "9cda0b25",
   "metadata": {},
   "outputs": [
    {
     "name": "stdout",
     "output_type": "stream",
     "text": [
      "['A', 'B', 'C', 'D', 'E', 'F']\n"
     ]
    }
   ],
   "source": [
    "# initializing a string\n",
    "string = \"ABCDEF\"\n",
    "\n",
    "# using list() function to create a list\n",
    "list1 = list(string)\n",
    "\n",
    "# printing list1\n",
    "print(list1)\n"
   ]
  },
  {
   "cell_type": "code",
   "execution_count": 11,
   "id": "761f4258",
   "metadata": {},
   "outputs": [
    {
     "name": "stdout",
     "output_type": "stream",
     "text": [
      "['A', 'B', 'C', 'D', 'E']\n"
     ]
    }
   ],
   "source": [
    "# initializing a tuple\n",
    "tuple1 = ('A', 'B', 'C', 'D', 'E')\n",
    "\n",
    "# using list() function to create a list\n",
    "list1 = list(tuple1)\n",
    "\n",
    "# printing list1\n",
    "print(list1)\n"
   ]
  },
  {
   "cell_type": "code",
   "execution_count": 12,
   "id": "7d9c3097",
   "metadata": {},
   "outputs": [
    {
     "name": "stdout",
     "output_type": "stream",
     "text": [
      "['B', 'C', 'E', 'D', 'A']\n",
      "['A', 'B', 'C', 'D', 'E']\n"
     ]
    }
   ],
   "source": [
    "# initializing a set\n",
    "set1 = {'A', 'B', 'C', 'D', 'E'}\n",
    "\n",
    "\n",
    "# initializing a dictionary\n",
    "dictionary = {'A': 1, 'B': 2, 'C': 3, 'D': 4, 'E': 5}\n",
    "\n",
    "\n",
    "# using list() to create a list\n",
    "list1 = list(set1)\n",
    "list2 = list(dictionary)\n",
    "\n",
    "# printing\n",
    "print(list1)\n",
    "print(list2)\n"
   ]
  },
  {
   "cell_type": "markdown",
   "id": "d539502a",
   "metadata": {},
   "source": [
    "<b>Map()</b>"
   ]
  },
  {
   "cell_type": "code",
   "execution_count": 13,
   "id": "7715b29a",
   "metadata": {},
   "outputs": [
    {
     "name": "stdout",
     "output_type": "stream",
     "text": [
      "[2, 4, 6, 8]\n"
     ]
    }
   ],
   "source": [
    "# Python program to demonstrate working\n",
    "# of map.\n",
    "\n",
    "# Return double of n\n",
    "def addition(n):\n",
    "\treturn n + n\n",
    "\n",
    "# We double all numbers using map()\n",
    "numbers = (1, 2, 3, 4)\n",
    "result = map(addition, numbers)\n",
    "print(list(result))\n"
   ]
  },
  {
   "cell_type": "code",
   "execution_count": 15,
   "id": "9979bd39",
   "metadata": {},
   "outputs": [
    {
     "name": "stdout",
     "output_type": "stream",
     "text": [
      "[1, 4, 9, 16]\n"
     ]
    }
   ],
   "source": [
    "# Double all numbers using map and lambda\n",
    "\n",
    "numbers = (1, 2, 3, 4)\n",
    "result = map(lambda x: x * x, numbers)\n",
    "print(list(result))\n"
   ]
  },
  {
   "cell_type": "markdown",
   "id": "afa736d1",
   "metadata": {},
   "source": [
    "<b>Max() and Min()</b>"
   ]
  },
  {
   "cell_type": "code",
   "execution_count": 16,
   "id": "11a9df7c",
   "metadata": {},
   "outputs": [
    {
     "name": "stdout",
     "output_type": "stream",
     "text": [
      "geeks\n"
     ]
    }
   ],
   "source": [
    "var1 = \"geeks\"\n",
    "var2 = \"for\"\n",
    "var3 = \"geek\"\n",
    "\n",
    "max_val = max(var1, var2, var3,key=len)\n",
    "print(max_val)\n"
   ]
  },
  {
   "cell_type": "code",
   "execution_count": 18,
   "id": "13d509cc",
   "metadata": {},
   "outputs": [
    {
     "name": "stdout",
     "output_type": "stream",
     "text": [
      "The maximum is at position 6\n"
     ]
    }
   ],
   "source": [
    "# function to find minimum and maximum position in list\n",
    "def minimum(a, n):\n",
    "\n",
    "    # inbuilt function to find the position of maximum\n",
    "    maxpos = a.index(max(a))\n",
    "\n",
    "    # printing the position\n",
    "    print (\"The maximum is at position\", maxpos + 1)\n",
    "\n",
    "# driver code\n",
    "a = [3, 4, 1, 3, 4, 5]\n",
    "minimum(a, len(a))\n"
   ]
  },
  {
   "cell_type": "code",
   "execution_count": 19,
   "id": "84c6d08f",
   "metadata": {},
   "outputs": [
    {
     "name": "stdout",
     "output_type": "stream",
     "text": [
      "s\n"
     ]
    }
   ],
   "source": [
    "string = \"GeeksforGeeks\"\n",
    "\n",
    "max_val = max(string)\n",
    "print(max_val)\n"
   ]
  },
  {
   "cell_type": "code",
   "execution_count": 20,
   "id": "58212c8d",
   "metadata": {},
   "outputs": [
    {
     "name": "stdout",
     "output_type": "stream",
     "text": [
      "Geeks\n"
     ]
    }
   ],
   "source": [
    "string_list = [\"Geeks\", \"for\", \"Geek\"]\n",
    "\n",
    "max_val = max(string_list, key=len)\n",
    "print(max_val)\n"
   ]
  },
  {
   "cell_type": "markdown",
   "id": "8f76b064",
   "metadata": {},
   "source": [
    "<b>Range()</b>"
   ]
  },
  {
   "cell_type": "code",
   "execution_count": 21,
   "id": "c915e02c",
   "metadata": {},
   "outputs": [
    {
     "name": "stdout",
     "output_type": "stream",
     "text": [
      "0 1 2 3 4 5 \n"
     ]
    }
   ],
   "source": [
    "# range (stop) takes one argument.\n",
    "# range (start, stop) takes two arguments.\n",
    "# range (start, stop, step) takes three arguments.\n",
    "\n",
    "# printing first 6\n",
    "# whole number\n",
    "for i in range(6):\n",
    "\tprint(i, end=\" \")\n",
    "print()\n"
   ]
  },
  {
   "cell_type": "code",
   "execution_count": 22,
   "id": "fdeaa81f",
   "metadata": {},
   "outputs": [
    {
     "name": "stdout",
     "output_type": "stream",
     "text": [
      "5 6 7 8 9 10 11 12 13 14 15 16 17 18 19 "
     ]
    }
   ],
   "source": [
    "# printing a natural\n",
    "# number from 5 to 20\n",
    "for i in range(5, 20):\n",
    "\tprint(i, end=\" \")\n"
   ]
  },
  {
   "cell_type": "code",
   "execution_count": 23,
   "id": "f08bb998",
   "metadata": {},
   "outputs": [
    {
     "name": "stdout",
     "output_type": "stream",
     "text": [
      "0 2 4 6 8 \n"
     ]
    }
   ],
   "source": [
    "for i in range(0, 10, 2):\n",
    "\tprint(i, end=\" \")\n",
    "print()\n"
   ]
  },
  {
   "cell_type": "markdown",
   "id": "a33a0c50",
   "metadata": {},
   "source": [
    "<b>Explode()</b>"
   ]
  },
  {
   "cell_type": "code",
   "execution_count": 75,
   "id": "67b472db",
   "metadata": {},
   "outputs": [
    {
     "data": {
      "text/html": [
       "<div>\n",
       "<style scoped>\n",
       "    .dataframe tbody tr th:only-of-type {\n",
       "        vertical-align: middle;\n",
       "    }\n",
       "\n",
       "    .dataframe tbody tr th {\n",
       "        vertical-align: top;\n",
       "    }\n",
       "\n",
       "    .dataframe thead th {\n",
       "        text-align: right;\n",
       "    }\n",
       "</style>\n",
       "<table border=\"1\" class=\"dataframe\">\n",
       "  <thead>\n",
       "    <tr style=\"text-align: right;\">\n",
       "      <th></th>\n",
       "      <th>A</th>\n",
       "      <th>B</th>\n",
       "      <th>C</th>\n",
       "    </tr>\n",
       "  </thead>\n",
       "  <tbody>\n",
       "    <tr>\n",
       "      <th>0</th>\n",
       "      <td>[0, 1, 2]</td>\n",
       "      <td>1</td>\n",
       "      <td>[a, b, c]</td>\n",
       "    </tr>\n",
       "    <tr>\n",
       "      <th>1</th>\n",
       "      <td>foo</td>\n",
       "      <td>1</td>\n",
       "      <td>NaN</td>\n",
       "    </tr>\n",
       "    <tr>\n",
       "      <th>2</th>\n",
       "      <td>[]</td>\n",
       "      <td>1</td>\n",
       "      <td>[]</td>\n",
       "    </tr>\n",
       "    <tr>\n",
       "      <th>3</th>\n",
       "      <td>[3, 4]</td>\n",
       "      <td>1</td>\n",
       "      <td>[d, e]</td>\n",
       "    </tr>\n",
       "  </tbody>\n",
       "</table>\n",
       "</div>"
      ],
      "text/plain": [
       "           A  B          C\n",
       "0  [0, 1, 2]  1  [a, b, c]\n",
       "1        foo  1        NaN\n",
       "2         []  1         []\n",
       "3     [3, 4]  1     [d, e]"
      ]
     },
     "metadata": {},
     "output_type": "display_data"
    }
   ],
   "source": [
    "import numpy as np\n",
    "\n",
    "df = pd.DataFrame({'A': [[0, 1, 2], 'foo', [], [3, 4]],\n",
    "                   'B': 1,\n",
    "                   'C': [['a', 'b', 'c'], np.nan, [], ['d', 'e']]})\n",
    "display(df)"
   ]
  },
  {
   "cell_type": "code",
   "execution_count": 76,
   "id": "a8290139",
   "metadata": {},
   "outputs": [
    {
     "data": {
      "text/html": [
       "<div>\n",
       "<style scoped>\n",
       "    .dataframe tbody tr th:only-of-type {\n",
       "        vertical-align: middle;\n",
       "    }\n",
       "\n",
       "    .dataframe tbody tr th {\n",
       "        vertical-align: top;\n",
       "    }\n",
       "\n",
       "    .dataframe thead th {\n",
       "        text-align: right;\n",
       "    }\n",
       "</style>\n",
       "<table border=\"1\" class=\"dataframe\">\n",
       "  <thead>\n",
       "    <tr style=\"text-align: right;\">\n",
       "      <th></th>\n",
       "      <th>A</th>\n",
       "      <th>B</th>\n",
       "      <th>C</th>\n",
       "    </tr>\n",
       "  </thead>\n",
       "  <tbody>\n",
       "    <tr>\n",
       "      <th>0</th>\n",
       "      <td>0</td>\n",
       "      <td>1</td>\n",
       "      <td>[a, b, c]</td>\n",
       "    </tr>\n",
       "    <tr>\n",
       "      <th>0</th>\n",
       "      <td>1</td>\n",
       "      <td>1</td>\n",
       "      <td>[a, b, c]</td>\n",
       "    </tr>\n",
       "    <tr>\n",
       "      <th>0</th>\n",
       "      <td>2</td>\n",
       "      <td>1</td>\n",
       "      <td>[a, b, c]</td>\n",
       "    </tr>\n",
       "    <tr>\n",
       "      <th>1</th>\n",
       "      <td>foo</td>\n",
       "      <td>1</td>\n",
       "      <td>NaN</td>\n",
       "    </tr>\n",
       "    <tr>\n",
       "      <th>2</th>\n",
       "      <td>NaN</td>\n",
       "      <td>1</td>\n",
       "      <td>[]</td>\n",
       "    </tr>\n",
       "    <tr>\n",
       "      <th>3</th>\n",
       "      <td>3</td>\n",
       "      <td>1</td>\n",
       "      <td>[d, e]</td>\n",
       "    </tr>\n",
       "    <tr>\n",
       "      <th>3</th>\n",
       "      <td>4</td>\n",
       "      <td>1</td>\n",
       "      <td>[d, e]</td>\n",
       "    </tr>\n",
       "  </tbody>\n",
       "</table>\n",
       "</div>"
      ],
      "text/plain": [
       "     A  B          C\n",
       "0    0  1  [a, b, c]\n",
       "0    1  1  [a, b, c]\n",
       "0    2  1  [a, b, c]\n",
       "1  foo  1        NaN\n",
       "2  NaN  1         []\n",
       "3    3  1     [d, e]\n",
       "3    4  1     [d, e]"
      ]
     },
     "execution_count": 76,
     "metadata": {},
     "output_type": "execute_result"
    }
   ],
   "source": [
    "df.explode('A')"
   ]
  },
  {
   "cell_type": "markdown",
   "id": "927b81a5",
   "metadata": {},
   "source": [
    "<b>Split()</b>"
   ]
  },
  {
   "cell_type": "code",
   "execution_count": 79,
   "id": "78f98578",
   "metadata": {},
   "outputs": [
    {
     "name": "stdout",
     "output_type": "stream",
     "text": [
      "['Ram', 'Shyam', 'Jadu']\n"
     ]
    }
   ],
   "source": [
    "a=\"Ram,Shyam,Jadu\"\n",
    "b=a.split(',')\n",
    "print(b)"
   ]
  },
  {
   "cell_type": "code",
   "execution_count": 84,
   "id": "de7c6b82",
   "metadata": {},
   "outputs": [
    {
     "data": {
      "text/plain": [
       "0        Del,Kol\n",
       "1    Del,Kol,Mum\n",
       "2            Kol\n",
       "3        Mum,Del\n",
       "Name: Office_Spread, dtype: object"
      ]
     },
     "metadata": {},
     "output_type": "display_data"
    },
    {
     "data": {
      "text/plain": [
       "0         [Del, Kol]\n",
       "1    [Del, Kol, Mum]\n",
       "2              [Kol]\n",
       "3         [Mum, Del]\n",
       "Name: Office_Spread, dtype: object"
      ]
     },
     "metadata": {},
     "output_type": "display_data"
    }
   ],
   "source": [
    "#Split on Dataframe\n",
    "\n",
    "import pandas as pd\n",
    "df=pd.read_csv(\"D:\\Data Science\\Data Sets\\Employee Array.csv\")\n",
    "display(df['Office_Spread'])\n",
    "\n",
    "\n",
    "display(df['Office_Spread'].str.split(','))"
   ]
  },
  {
   "cell_type": "markdown",
   "id": "4dbb7c51",
   "metadata": {},
   "source": [
    "<b>Ravel()</b>"
   ]
  },
  {
   "cell_type": "code",
   "execution_count": 6,
   "id": "bceaae02",
   "metadata": {},
   "outputs": [
    {
     "name": "stdout",
     "output_type": "stream",
     "text": [
      "['Rahul' list(['Kinjal', 'Koyal']) 'Keya']\n"
     ]
    }
   ],
   "source": [
    "#Ravel will work on array not list\n",
    "\n",
    "import numpy as np\n",
    "a=['Rahul',['Kinjal','Koyal'],'Keya'] #this is a list\n",
    "b=np.array(a,dtype=object)  #this is an array\n",
    "out = b.ravel()\n",
    "print(out)"
   ]
  },
  {
   "cell_type": "code",
   "execution_count": 5,
   "id": "f2f691e3",
   "metadata": {},
   "outputs": [
    {
     "data": {
      "text/plain": [
       "['Rahul', ['Kinjal', 'Koyal'], 'Keya']"
      ]
     },
     "execution_count": 5,
     "metadata": {},
     "output_type": "execute_result"
    }
   ],
   "source": [
    "np.array(b).flatten().tolist()"
   ]
  },
  {
   "cell_type": "code",
   "execution_count": 22,
   "id": "82265a9c",
   "metadata": {},
   "outputs": [
    {
     "name": "stdout",
     "output_type": "stream",
     "text": [
      "[ 1  3  5 11 35 56]\n"
     ]
    },
    {
     "data": {
      "text/plain": [
       "array([ 1,  3,  5, 11, 35, 56])"
      ]
     },
     "execution_count": 22,
     "metadata": {},
     "output_type": "execute_result"
    }
   ],
   "source": [
    "import numpy as np  \n",
    "x = np.array([[1, 3, 5], [11, 35, 56]])  \n",
    "y=np.ravel(x) #works on array and returns array\n",
    "\n",
    "print(y) \n",
    "y"
   ]
  },
  {
   "cell_type": "markdown",
   "id": "8cd11c38",
   "metadata": {},
   "source": [
    "<b>Stack()</b>"
   ]
  },
  {
   "cell_type": "code",
   "execution_count": 26,
   "id": "dc8e1387",
   "metadata": {},
   "outputs": [
    {
     "data": {
      "text/html": [
       "<div>\n",
       "<style scoped>\n",
       "    .dataframe tbody tr th:only-of-type {\n",
       "        vertical-align: middle;\n",
       "    }\n",
       "\n",
       "    .dataframe tbody tr th {\n",
       "        vertical-align: top;\n",
       "    }\n",
       "\n",
       "    .dataframe thead th {\n",
       "        text-align: right;\n",
       "    }\n",
       "</style>\n",
       "<table border=\"1\" class=\"dataframe\">\n",
       "  <thead>\n",
       "    <tr style=\"text-align: right;\">\n",
       "      <th></th>\n",
       "      <th>weight</th>\n",
       "      <th>height</th>\n",
       "      <th>breadth</th>\n",
       "    </tr>\n",
       "  </thead>\n",
       "  <tbody>\n",
       "    <tr>\n",
       "      <th>cat</th>\n",
       "      <td>0</td>\n",
       "      <td>1</td>\n",
       "      <td>34</td>\n",
       "    </tr>\n",
       "    <tr>\n",
       "      <th>dog</th>\n",
       "      <td>2</td>\n",
       "      <td>3</td>\n",
       "      <td>39</td>\n",
       "    </tr>\n",
       "  </tbody>\n",
       "</table>\n",
       "</div>"
      ],
      "text/plain": [
       "     weight  height  breadth\n",
       "cat       0       1       34\n",
       "dog       2       3       39"
      ]
     },
     "metadata": {},
     "output_type": "display_data"
    },
    {
     "data": {
      "text/plain": [
       "cat  weight      0\n",
       "     height      1\n",
       "     breadth    34\n",
       "dog  weight      2\n",
       "     height      3\n",
       "     breadth    39\n",
       "dtype: int64"
      ]
     },
     "metadata": {},
     "output_type": "display_data"
    }
   ],
   "source": [
    "#works on Dataframe\n",
    "import pandas as pd\n",
    "df = pd.DataFrame([[0, 1,34], [2, 3,39]],index=['cat', 'dog'],columns=['weight', 'height','breadth'])\n",
    "display(df)\n",
    "display(df.stack())"
   ]
  },
  {
   "cell_type": "markdown",
   "id": "e8e2d921",
   "metadata": {},
   "source": [
    "<b>Reset_Index()</b>"
   ]
  },
  {
   "cell_type": "code",
   "execution_count": 28,
   "id": "5311e3c1",
   "metadata": {},
   "outputs": [
    {
     "data": {
      "text/html": [
       "<div>\n",
       "<style scoped>\n",
       "    .dataframe tbody tr th:only-of-type {\n",
       "        vertical-align: middle;\n",
       "    }\n",
       "\n",
       "    .dataframe tbody tr th {\n",
       "        vertical-align: top;\n",
       "    }\n",
       "\n",
       "    .dataframe thead th {\n",
       "        text-align: right;\n",
       "    }\n",
       "</style>\n",
       "<table border=\"1\" class=\"dataframe\">\n",
       "  <thead>\n",
       "    <tr style=\"text-align: right;\">\n",
       "      <th></th>\n",
       "      <th>weight</th>\n",
       "      <th>height</th>\n",
       "      <th>breadth</th>\n",
       "    </tr>\n",
       "  </thead>\n",
       "  <tbody>\n",
       "    <tr>\n",
       "      <th>cat</th>\n",
       "      <td>0</td>\n",
       "      <td>1</td>\n",
       "      <td>34</td>\n",
       "    </tr>\n",
       "    <tr>\n",
       "      <th>dog</th>\n",
       "      <td>2</td>\n",
       "      <td>3</td>\n",
       "      <td>39</td>\n",
       "    </tr>\n",
       "  </tbody>\n",
       "</table>\n",
       "</div>"
      ],
      "text/plain": [
       "     weight  height  breadth\n",
       "cat       0       1       34\n",
       "dog       2       3       39"
      ]
     },
     "metadata": {},
     "output_type": "display_data"
    },
    {
     "data": {
      "text/html": [
       "<div>\n",
       "<style scoped>\n",
       "    .dataframe tbody tr th:only-of-type {\n",
       "        vertical-align: middle;\n",
       "    }\n",
       "\n",
       "    .dataframe tbody tr th {\n",
       "        vertical-align: top;\n",
       "    }\n",
       "\n",
       "    .dataframe thead th {\n",
       "        text-align: right;\n",
       "    }\n",
       "</style>\n",
       "<table border=\"1\" class=\"dataframe\">\n",
       "  <thead>\n",
       "    <tr style=\"text-align: right;\">\n",
       "      <th></th>\n",
       "      <th>level_0</th>\n",
       "      <th>level_1</th>\n",
       "      <th>0</th>\n",
       "    </tr>\n",
       "  </thead>\n",
       "  <tbody>\n",
       "    <tr>\n",
       "      <th>0</th>\n",
       "      <td>cat</td>\n",
       "      <td>weight</td>\n",
       "      <td>0</td>\n",
       "    </tr>\n",
       "    <tr>\n",
       "      <th>1</th>\n",
       "      <td>cat</td>\n",
       "      <td>height</td>\n",
       "      <td>1</td>\n",
       "    </tr>\n",
       "    <tr>\n",
       "      <th>2</th>\n",
       "      <td>cat</td>\n",
       "      <td>breadth</td>\n",
       "      <td>34</td>\n",
       "    </tr>\n",
       "    <tr>\n",
       "      <th>3</th>\n",
       "      <td>dog</td>\n",
       "      <td>weight</td>\n",
       "      <td>2</td>\n",
       "    </tr>\n",
       "    <tr>\n",
       "      <th>4</th>\n",
       "      <td>dog</td>\n",
       "      <td>height</td>\n",
       "      <td>3</td>\n",
       "    </tr>\n",
       "    <tr>\n",
       "      <th>5</th>\n",
       "      <td>dog</td>\n",
       "      <td>breadth</td>\n",
       "      <td>39</td>\n",
       "    </tr>\n",
       "  </tbody>\n",
       "</table>\n",
       "</div>"
      ],
      "text/plain": [
       "  level_0  level_1   0\n",
       "0     cat   weight   0\n",
       "1     cat   height   1\n",
       "2     cat  breadth  34\n",
       "3     dog   weight   2\n",
       "4     dog   height   3\n",
       "5     dog  breadth  39"
      ]
     },
     "execution_count": 28,
     "metadata": {},
     "output_type": "execute_result"
    }
   ],
   "source": [
    "#mind that cat and dog values aren't values. They are index here\n",
    "df = pd.DataFrame([[0, 1,34], [2, 3,39]],index=['cat', 'dog'],columns=['weight', 'height','breadth'])\n",
    "display(df)\n",
    "df.stack().reset_index()"
   ]
  },
  {
   "cell_type": "markdown",
   "id": "d3f55039",
   "metadata": {},
   "source": [
    "<b>Slice()</b>"
   ]
  },
  {
   "cell_type": "code",
   "execution_count": 29,
   "id": "ff3e9f9e",
   "metadata": {},
   "outputs": [
    {
     "name": "stdout",
     "output_type": "stream",
     "text": [
      " World\n"
     ]
    }
   ],
   "source": [
    "String = 'Hello World'\n",
    "slice_obj = slice(5,11)\n",
    "print(String[slice_obj])\n"
   ]
  },
  {
   "cell_type": "code",
   "execution_count": null,
   "id": "557f5ac6",
   "metadata": {},
   "outputs": [],
   "source": []
  }
 ],
 "metadata": {
  "kernelspec": {
   "display_name": "Python 3 (ipykernel)",
   "language": "python",
   "name": "python3"
  },
  "language_info": {
   "codemirror_mode": {
    "name": "ipython",
    "version": 3
   },
   "file_extension": ".py",
   "mimetype": "text/x-python",
   "name": "python",
   "nbconvert_exporter": "python",
   "pygments_lexer": "ipython3",
   "version": "3.9.7"
  }
 },
 "nbformat": 4,
 "nbformat_minor": 5
}
