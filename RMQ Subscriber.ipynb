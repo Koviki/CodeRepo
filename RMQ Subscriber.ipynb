{
 "cells": [
  {
   "cell_type": "code",
   "execution_count": 1,
   "id": "14843ae0",
   "metadata": {},
   "outputs": [],
   "source": [
    "import pika\n",
    "import pandas as pd\n",
    "from io import StringIO\n"
   ]
  },
  {
   "cell_type": "code",
   "execution_count": 2,
   "id": "55f7b3a0",
   "metadata": {},
   "outputs": [],
   "source": [
    "# Initialize an empty DataFrame\n",
    "df = pd.DataFrame()\n"
   ]
  },
  {
   "cell_type": "code",
   "execution_count": 3,
   "id": "4ede9e63",
   "metadata": {},
   "outputs": [],
   "source": [
    "# RabbitMQ connection parameters\n",
    "rabbitmq_host = 'localhost'\n",
    "queue_name = 'my_queue'\n"
   ]
  },
  {
   "cell_type": "code",
   "execution_count": 4,
   "id": "242c77e8",
   "metadata": {},
   "outputs": [],
   "source": [
    "def callback(ch, method, properties, body):\n",
    "    global df\n",
    "    # Assuming the body is a string of comma-separated values\n",
    "    message = body.decode('utf-8')\n",
    "    # Convert the message to a file-like object\n",
    "    message_io = StringIO(message)\n",
    "    # Create a DataFrame from the message\n",
    "    message_df = pd.read_csv(message_io, header=None)\n",
    "    # Append the message DataFrame to the main DataFrame\n",
    "    df = pd.concat([df, message_df], ignore_index=True)\n",
    "    print(df)\n",
    "    "
   ]
  },
  {
   "cell_type": "code",
   "execution_count": 5,
   "id": "483927b9",
   "metadata": {},
   "outputs": [
    {
     "name": "stdout",
     "output_type": "stream",
     "text": [
      " [*] Waiting for messages. To exit press CTRL+C\n",
      "   0  1  2\n",
      "0  a  b  c\n",
      "   0  1  2\n",
      "0  a  b  c\n",
      "1  a  b  c\n",
      "   0  1  2\n",
      "0  a  b  c\n",
      "1  a  b  c\n",
      "2  d  e  f\n",
      "   0  1  2\n",
      "0  a  b  c\n",
      "1  a  b  c\n",
      "2  d  e  f\n",
      "3  g  h  i\n",
      "   0  1  2\n",
      "0  a  b  c\n",
      "1  a  b  c\n",
      "2  d  e  f\n",
      "3  g  h  i\n",
      "4  a  b  c\n",
      "   0  1  2\n",
      "0  a  b  c\n",
      "1  a  b  c\n",
      "2  d  e  f\n",
      "3  g  h  i\n",
      "4  a  b  c\n",
      "5  a  b  c\n",
      "   0  1  2\n",
      "0  a  b  c\n",
      "1  a  b  c\n",
      "2  d  e  f\n",
      "3  g  h  i\n",
      "4  a  b  c\n",
      "5  a  b  c\n",
      "6  d  e  f\n",
      "   0  1  2\n",
      "0  a  b  c\n",
      "1  a  b  c\n",
      "2  d  e  f\n",
      "3  g  h  i\n",
      "4  a  b  c\n",
      "5  a  b  c\n",
      "6  d  e  f\n",
      "7  g  h  i\n"
     ]
    },
    {
     "ename": "AMQPHeartbeatTimeout",
     "evalue": "No activity or too many missed heartbeats in the last 60 seconds",
     "output_type": "error",
     "traceback": [
      "\u001b[1;31m---------------------------------------------------------------------------\u001b[0m",
      "\u001b[1;31mAMQPHeartbeatTimeout\u001b[0m                      Traceback (most recent call last)",
      "Cell \u001b[1;32mIn[5], line 14\u001b[0m\n\u001b[0;32m     11\u001b[0m \u001b[38;5;28mprint\u001b[39m(\u001b[38;5;124m'\u001b[39m\u001b[38;5;124m [*] Waiting for messages. To exit press CTRL+C\u001b[39m\u001b[38;5;124m'\u001b[39m)\n\u001b[0;32m     13\u001b[0m \u001b[38;5;66;03m# Start consuming messages from the queue\u001b[39;00m\n\u001b[1;32m---> 14\u001b[0m \u001b[43mchannel\u001b[49m\u001b[38;5;241;43m.\u001b[39;49m\u001b[43mstart_consuming\u001b[49m\u001b[43m(\u001b[49m\u001b[43m)\u001b[49m\n",
      "File \u001b[1;32m~\\anaconda3\\lib\\site-packages\\pika\\adapters\\blocking_connection.py:1883\u001b[0m, in \u001b[0;36mBlockingChannel.start_consuming\u001b[1;34m(self)\u001b[0m\n\u001b[0;32m   1880\u001b[0m \u001b[38;5;66;03m# Process events as long as consumers exist on this channel\u001b[39;00m\n\u001b[0;32m   1881\u001b[0m \u001b[38;5;28;01mwhile\u001b[39;00m \u001b[38;5;28mself\u001b[39m\u001b[38;5;241m.\u001b[39m_consumer_infos:\n\u001b[0;32m   1882\u001b[0m     \u001b[38;5;66;03m# This will raise ChannelClosed if channel is closed by broker\u001b[39;00m\n\u001b[1;32m-> 1883\u001b[0m     \u001b[38;5;28;43mself\u001b[39;49m\u001b[38;5;241;43m.\u001b[39;49m\u001b[43m_process_data_events\u001b[49m\u001b[43m(\u001b[49m\u001b[43mtime_limit\u001b[49m\u001b[38;5;241;43m=\u001b[39;49m\u001b[38;5;28;43;01mNone\u001b[39;49;00m\u001b[43m)\u001b[49m\n",
      "File \u001b[1;32m~\\anaconda3\\lib\\site-packages\\pika\\adapters\\blocking_connection.py:2044\u001b[0m, in \u001b[0;36mBlockingChannel._process_data_events\u001b[1;34m(self, time_limit)\u001b[0m\n\u001b[0;32m   2025\u001b[0m \u001b[38;5;28;01mdef\u001b[39;00m \u001b[38;5;21m_process_data_events\u001b[39m(\u001b[38;5;28mself\u001b[39m, time_limit):\n\u001b[0;32m   2026\u001b[0m     \u001b[38;5;124;03m\"\"\"Wrapper for `BlockingConnection.process_data_events()` with common\u001b[39;00m\n\u001b[0;32m   2027\u001b[0m \u001b[38;5;124;03m    channel-specific logic that raises ChannelClosed if broker closed this\u001b[39;00m\n\u001b[0;32m   2028\u001b[0m \u001b[38;5;124;03m    channel.\u001b[39;00m\n\u001b[1;32m   (...)\u001b[0m\n\u001b[0;32m   2042\u001b[0m \n\u001b[0;32m   2043\u001b[0m \u001b[38;5;124;03m    \"\"\"\u001b[39;00m\n\u001b[1;32m-> 2044\u001b[0m     \u001b[38;5;28;43mself\u001b[39;49m\u001b[38;5;241;43m.\u001b[39;49m\u001b[43mconnection\u001b[49m\u001b[38;5;241;43m.\u001b[39;49m\u001b[43mprocess_data_events\u001b[49m\u001b[43m(\u001b[49m\u001b[43mtime_limit\u001b[49m\u001b[38;5;241;43m=\u001b[39;49m\u001b[43mtime_limit\u001b[49m\u001b[43m)\u001b[49m\n\u001b[0;32m   2045\u001b[0m     \u001b[38;5;28;01mif\u001b[39;00m \u001b[38;5;28mself\u001b[39m\u001b[38;5;241m.\u001b[39mis_closed \u001b[38;5;129;01mand\u001b[39;00m \u001b[38;5;28misinstance\u001b[39m(\u001b[38;5;28mself\u001b[39m\u001b[38;5;241m.\u001b[39m_closing_reason,\n\u001b[0;32m   2046\u001b[0m                                      exceptions\u001b[38;5;241m.\u001b[39mChannelClosedByBroker):\n\u001b[0;32m   2047\u001b[0m         LOGGER\u001b[38;5;241m.\u001b[39mdebug(\u001b[38;5;124m'\u001b[39m\u001b[38;5;124mChannel close by broker detected, raising \u001b[39m\u001b[38;5;132;01m%r\u001b[39;00m\u001b[38;5;124m; \u001b[39m\u001b[38;5;132;01m%r\u001b[39;00m\u001b[38;5;124m'\u001b[39m,\n\u001b[0;32m   2048\u001b[0m                      \u001b[38;5;28mself\u001b[39m\u001b[38;5;241m.\u001b[39m_closing_reason, \u001b[38;5;28mself\u001b[39m)\n",
      "File \u001b[1;32m~\\anaconda3\\lib\\site-packages\\pika\\adapters\\blocking_connection.py:842\u001b[0m, in \u001b[0;36mBlockingConnection.process_data_events\u001b[1;34m(self, time_limit)\u001b[0m\n\u001b[0;32m    838\u001b[0m common_terminator \u001b[38;5;241m=\u001b[39m \u001b[38;5;28;01mlambda\u001b[39;00m: \u001b[38;5;28mbool\u001b[39m(dispatch_acquired \u001b[38;5;129;01mand\u001b[39;00m\n\u001b[0;32m    839\u001b[0m                                  (\u001b[38;5;28mself\u001b[39m\u001b[38;5;241m.\u001b[39m_channels_pending_dispatch \u001b[38;5;129;01mor\u001b[39;00m\n\u001b[0;32m    840\u001b[0m                                   \u001b[38;5;28mself\u001b[39m\u001b[38;5;241m.\u001b[39m_ready_events))\n\u001b[0;32m    841\u001b[0m \u001b[38;5;28;01mif\u001b[39;00m time_limit \u001b[38;5;129;01mis\u001b[39;00m \u001b[38;5;28;01mNone\u001b[39;00m:\n\u001b[1;32m--> 842\u001b[0m     \u001b[38;5;28;43mself\u001b[39;49m\u001b[38;5;241;43m.\u001b[39;49m\u001b[43m_flush_output\u001b[49m\u001b[43m(\u001b[49m\u001b[43mcommon_terminator\u001b[49m\u001b[43m)\u001b[49m\n\u001b[0;32m    843\u001b[0m \u001b[38;5;28;01melse\u001b[39;00m:\n\u001b[0;32m    844\u001b[0m     \u001b[38;5;28;01mwith\u001b[39;00m _IoloopTimerContext(time_limit, \u001b[38;5;28mself\u001b[39m\u001b[38;5;241m.\u001b[39m_impl) \u001b[38;5;28;01mas\u001b[39;00m timer:\n",
      "File \u001b[1;32m~\\anaconda3\\lib\\site-packages\\pika\\adapters\\blocking_connection.py:523\u001b[0m, in \u001b[0;36mBlockingConnection._flush_output\u001b[1;34m(self, *waiters)\u001b[0m\n\u001b[0;32m    519\u001b[0m \u001b[38;5;28;01mif\u001b[39;00m \u001b[38;5;129;01mnot\u001b[39;00m \u001b[38;5;28misinstance\u001b[39m(\u001b[38;5;28mself\u001b[39m\u001b[38;5;241m.\u001b[39m_closed_result\u001b[38;5;241m.\u001b[39mvalue\u001b[38;5;241m.\u001b[39merror,\n\u001b[0;32m    520\u001b[0m                   exceptions\u001b[38;5;241m.\u001b[39mConnectionClosedByClient):\n\u001b[0;32m    521\u001b[0m     LOGGER\u001b[38;5;241m.\u001b[39merror(\u001b[38;5;124m'\u001b[39m\u001b[38;5;124mUnexpected connection close detected: \u001b[39m\u001b[38;5;132;01m%r\u001b[39;00m\u001b[38;5;124m'\u001b[39m,\n\u001b[0;32m    522\u001b[0m                  \u001b[38;5;28mself\u001b[39m\u001b[38;5;241m.\u001b[39m_closed_result\u001b[38;5;241m.\u001b[39mvalue\u001b[38;5;241m.\u001b[39merror)\n\u001b[1;32m--> 523\u001b[0m     \u001b[38;5;28;01mraise\u001b[39;00m \u001b[38;5;28mself\u001b[39m\u001b[38;5;241m.\u001b[39m_closed_result\u001b[38;5;241m.\u001b[39mvalue\u001b[38;5;241m.\u001b[39merror\n\u001b[0;32m    524\u001b[0m \u001b[38;5;28;01melse\u001b[39;00m:\n\u001b[0;32m    525\u001b[0m     LOGGER\u001b[38;5;241m.\u001b[39minfo(\u001b[38;5;124m'\u001b[39m\u001b[38;5;124mUser-initiated close: result=\u001b[39m\u001b[38;5;132;01m%r\u001b[39;00m\u001b[38;5;124m'\u001b[39m,\n\u001b[0;32m    526\u001b[0m                 \u001b[38;5;28mself\u001b[39m\u001b[38;5;241m.\u001b[39m_closed_result\u001b[38;5;241m.\u001b[39mvalue)\n",
      "\u001b[1;31mAMQPHeartbeatTimeout\u001b[0m: No activity or too many missed heartbeats in the last 60 seconds"
     ]
    }
   ],
   "source": [
    "# Connect to RabbitMQ\n",
    "connection = pika.BlockingConnection(pika.ConnectionParameters(host=rabbitmq_host))\n",
    "channel = connection.channel()\n",
    "\n",
    "# Make sure the queue exists and is durable\n",
    "channel.queue_declare(queue=queue_name, durable=True)\n",
    "\n",
    "# Set up the subscription on the queue\n",
    "channel.basic_consume(queue=queue_name, on_message_callback=callback, auto_ack=True)\n",
    "\n",
    "print(' [*] Waiting for messages. To exit press CTRL+C')\n",
    "\n",
    "# Start consuming messages from the queue\n",
    "channel.start_consuming()"
   ]
  },
  {
   "cell_type": "code",
   "execution_count": null,
   "id": "8ad67f82",
   "metadata": {},
   "outputs": [],
   "source": []
  }
 ],
 "metadata": {
  "kernelspec": {
   "display_name": "Python 3 (ipykernel)",
   "language": "python",
   "name": "python3"
  },
  "language_info": {
   "codemirror_mode": {
    "name": "ipython",
    "version": 3
   },
   "file_extension": ".py",
   "mimetype": "text/x-python",
   "name": "python",
   "nbconvert_exporter": "python",
   "pygments_lexer": "ipython3",
   "version": "3.9.7"
  }
 },
 "nbformat": 4,
 "nbformat_minor": 5
}
