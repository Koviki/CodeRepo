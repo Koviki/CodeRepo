{
 "cells": [
  {
   "cell_type": "code",
   "execution_count": null,
   "id": "70910214",
   "metadata": {},
   "outputs": [],
   "source": [
    "#Reading the data from multiple files into a data frame\n",
    "\n",
    "import pandas as pd\n",
    "import paramiko\n",
    "import re\n",
    "\n",
    "hostname = \"***************\"\n",
    "port = 22\n",
    "username = \"***************\"\n",
    "password = \"***************\"\n",
    "remote_dir = \"***************\"\n",
    "\n",
    "client = paramiko.SSHClient()\n",
    "client.set_missing_host_key_policy(paramiko.AutoAddPolicy())\n",
    "client.connect(hostname=hostname, port=port, username=username, password=password, banner_timeout=200)\n",
    "\n",
    "with client.open_sftp() as sftp:\n",
    "    files = sftp.listdir(remote_dir)\n",
    "    csv_files = [f for f in files if re.match(r'.+\\.csv$', f)]\n",
    "    dfs = []\n",
    "    for file in csv_files:        \n",
    "        with sftp.open(remote_dir + file) as f:\n",
    "            temp_df = pd.read_csv(f, header=None)\n",
    "            dfs.append(temp_df)\n",
    "    df = pd.concat(dfs)\n",
    "\n",
    "\n",
    "df = df.rename(columns={df.columns[0]: 'ECID', df.columns[1]: 'NR', df.columns[2]: 'TimeStamp'})\n",
    "client.close()\n",
    "display(df)"
   ]
  },
  {
   "cell_type": "code",
   "execution_count": null,
   "id": "debb6602",
   "metadata": {},
   "outputs": [],
   "source": [
    "del[df['NR']]\n",
    "\n",
    "df1=df\n",
    "# Drop rows whose first column has any value other than integers\n",
    "df1 = df1[df1['ECID'].str.isnumeric() | df1['ECID'].isnull()]\n",
    "display(df1)\n",
    "\n",
    "\n",
    "df1.to_csv('D://Impression//Part8_Sub1.csv', index=False)"
   ]
  },
  {
   "cell_type": "code",
   "execution_count": null,
   "id": "70d97ba1",
   "metadata": {},
   "outputs": [],
   "source": []
  }
 ],
 "metadata": {
  "kernelspec": {
   "display_name": "Python 3 (ipykernel)",
   "language": "python",
   "name": "python3"
  },
  "language_info": {
   "codemirror_mode": {
    "name": "ipython",
    "version": 3
   },
   "file_extension": ".py",
   "mimetype": "text/x-python",
   "name": "python",
   "nbconvert_exporter": "python",
   "pygments_lexer": "ipython3",
   "version": "3.9.7"
  }
 },
 "nbformat": 4,
 "nbformat_minor": 5
}
