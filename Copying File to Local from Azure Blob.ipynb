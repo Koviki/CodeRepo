{
 "cells": [
  {
   "cell_type": "code",
   "execution_count": null,
   "id": "f781cf56",
   "metadata": {},
   "outputs": [],
   "source": [
    "pip install Utils"
   ]
  },
  {
   "cell_type": "code",
   "execution_count": null,
   "id": "61e3f862",
   "metadata": {},
   "outputs": [],
   "source": [
    "# import os, uuid\n",
    "# import sys\n",
    "# from azure.storage.blob import BlobServiceClient, BlobClient, ContainerClient, __version__\n",
    "# import csv"
   ]
  },
  {
   "cell_type": "code",
   "execution_count": null,
   "id": "2843ab6b",
   "metadata": {},
   "outputs": [],
   "source": [
    "# CONNECTION_STRING=\"DefaultEndpointsProtocol=https;AccountName=msftadintel1483425946;AccountKey=/Cxn1abl9zkdv8y6+pLxxuMfY74YxHFdaGlL9OsKOH8J18IHOQM1pH1ULNf2vWdsInY/mvm8z/Q9jz5vUSYB5A==;EndpointSuffix=core.windows.net\"\n",
    "# CONTAINER_NAME=\"williamsf1\"\n",
    "# destination_blob=\"XBP_assets\"\n",
    "\n",
    "# blob_client = BlobClient.from_connection_string(conn_str=CONNECTION_STRING, container_name=CONTAINER_NAME, blob_name=destination_blob)"
   ]
  },
  {
   "cell_type": "code",
   "execution_count": null,
   "id": "6cf6d2b9",
   "metadata": {},
   "outputs": [],
   "source": [
    "blob_svc = BlobServiceClient.from_connection_string(conn_str=CONNECTION_STRING)"
   ]
  },
  {
   "cell_type": "code",
   "execution_count": null,
   "id": "2bfed95c",
   "metadata": {},
   "outputs": [],
   "source": [
    "\n",
    "import os, uuid\n",
    "import sys\n",
    "from azure.storage.blob import BlobServiceClient, BlobClient, ContainerClient, __version__\n",
    "import csv\n",
    "\n",
    "\n",
    "connection_string = \"DefaultEndpointsProtocol=https;AccountName=aepdata;AccountKey=vAg0yQrQM7PQzZWnSJg6s3RSsYsvSYVWLj0FyB67yrgjoXt4a++h0hf090uEIeSTRd0wzxvPV7N6+AStflik3Q==;EndpointSuffix=core.windows.net\"\n",
    "blob_svc = BlobServiceClient.from_connection_string(conn_str=connection_string)\n",
    "list_of_blobs = []\n",
    "\n",
    "\n",
    "print(\"\\nList blobs in the container\")\n",
    "with open('D:/file.csv', 'w') as f:\n",
    "    \n",
    "    containers = blob_svc.list_containers()\n",
    "    \n",
    "    for c in containers:\n",
    "        container_client = blob_svc.get_container_client(c.name)\n",
    "        blob_list = container_client.list_blobs()\n",
    "        for blob in blob_list:\n",
    "            print(\"\\t Blob name: \"+c.name +'/'+  blob.name) #this will print on the console\n",
    "            f.write('/'+blob.name) #this will write on the csv file just the blob name\n",
    "            f.write('\\n') "
   ]
  },
  {
   "cell_type": "code",
   "execution_count": null,
   "id": "3f90201a",
   "metadata": {},
   "outputs": [],
   "source": [
    "from azure.storage.blob import BlobServiceClient\n",
    "\n",
    "# Azure\n",
    "# Get this from Settings/Access keys in your Storage account on Azure portal\n",
    "account_name = \"msftadintel1483425946\"\n",
    "connection_string = \"DefaultEndpointsProtocol=https;AccountName=msftadintel1483425946;AccountKey=/Cxn1abl9zkdv8y6+pLxxuMfY74YxHFdaGlL9OsKOH8J18IHOQM1pH1ULNf2vWdsInY/mvm8z/Q9jz5vUSYB5A==;EndpointSuffix=core.windows.net\"\n",
    "\n",
    "# Source\n",
    "source_container_name = \"williamsf1\"\n",
    "source_file_path = \"Dump1/\" + filename\n",
    "blob_service_client = BlobServiceClient.from_connection_string(connection_string)\n",
    "source_blob = (f\"https://{account_name}.blob.core.windows.net/{source_container_name}/{source_file_path}\")\n",
    "\n",
    "# Target\n",
    "target_container_name = \"aep-training-data\"\n",
    "target_file_path = \"dump2/kk.xlsx\"\n",
    "copied_blob = blob_service_client.get_blob_client(target_container_name, target_file_path)\n",
    "copied_blob.start_copy_from_url(source_blob)\n",
    "\n",
    "# # If you would like to delete the source file\n",
    "# remove_blob = blob_service_client.get_blob_client(source_container_name, source_file_path)\n",
    "# remove_blob.delete_blob()"
   ]
  },
  {
   "cell_type": "code",
   "execution_count": null,
   "id": "2925dbe7",
   "metadata": {},
   "outputs": [],
   "source": [
    "#Code for Struct\n",
    "\n",
    "\n",
    "import os, uuid\n",
    "import sys\n",
    "from azure.storage.blob import BlobServiceClient, BlobClient, ContainerClient, __version__\n",
    "import csv\n",
    "import pandas as pd\n",
    "\n",
    "\n",
    "connection_string = \"DefaultEndpointsProtocol=https;AccountName=msftadintel1483425946;AccountKey=/Cxn1abl9zkdv8y6+pLxxuMfY74YxHFdaGlL9OsKOH8J18IHOQM1pH1ULNf2vWdsInY/mvm8z/Q9jz5vUSYB5A==;EndpointSuffix=core.windows.net\"\n",
    "blob_svc = BlobServiceClient.from_connection_string(conn_str=connection_string)\n",
    "list_of_blobs = []\n",
    "\n",
    "\n",
    "print(\"\\nList blobs in the container\")\n",
    "with open('D:/file.csv', 'w') as f:\n",
    "    container_client = blob_svc.get_container_client('williamsf1')\n",
    "    blob_list = container_client.list_blobs()\n",
    "    for blob in blob_list:\n",
    "        print(blob.name) #this will print on the console\n",
    "#         f.write('/'+blob.name) #this will write on the csv file just the blob name\n",
    "#         f.write('\\n') \n"
   ]
  },
  {
   "cell_type": "code",
   "execution_count": null,
   "id": "33275f86",
   "metadata": {},
   "outputs": [],
   "source": [
    "df=pd.read_csv('D:/file.csv', header=None)\n",
    "display(df)"
   ]
  },
  {
   "cell_type": "code",
   "execution_count": null,
   "id": "3fc82181",
   "metadata": {},
   "outputs": [],
   "source": []
  },
  {
   "cell_type": "code",
   "execution_count": null,
   "id": "51ab3f34",
   "metadata": {},
   "outputs": [],
   "source": []
  }
 ],
 "metadata": {
  "kernelspec": {
   "display_name": "Python 3 (ipykernel)",
   "language": "python",
   "name": "python3"
  },
  "language_info": {
   "codemirror_mode": {
    "name": "ipython",
    "version": 3
   },
   "file_extension": ".py",
   "mimetype": "text/x-python",
   "name": "python",
   "nbconvert_exporter": "python",
   "pygments_lexer": "ipython3",
   "version": "3.9.7"
  }
 },
 "nbformat": 4,
 "nbformat_minor": 5
}
