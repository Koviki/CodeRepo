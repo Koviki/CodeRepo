{
 "cells": [
  {
   "cell_type": "markdown",
   "id": "e1bfcbcc",
   "metadata": {},
   "source": [
    "<h1>Numeric Data Types</h1>"
   ]
  },
  {
   "cell_type": "code",
   "execution_count": 24,
   "id": "8fb3d01a",
   "metadata": {},
   "outputs": [
    {
     "name": "stdout",
     "output_type": "stream",
     "text": [
      "<class 'int'> <class 'float'> <class 'complex'> <class 'bool'>\n"
     ]
    }
   ],
   "source": [
    "a=5\n",
    "b=1.8\n",
    "c=6+8j\n",
    "d=True\n",
    "print(type(a),type(b),type(c),type(d))"
   ]
  },
  {
   "cell_type": "markdown",
   "id": "3457c1ff",
   "metadata": {},
   "source": [
    "<b>Type Conversions</b>"
   ]
  },
  {
   "cell_type": "code",
   "execution_count": 31,
   "id": "bfe5c1e9",
   "metadata": {},
   "outputs": [
    {
     "name": "stdout",
     "output_type": "stream",
     "text": [
      "1 <class 'int'>\n",
      "5.0 <class 'float'>\n",
      "1.8 <class 'str'>\n",
      "1.8 <class 'float'>\n",
      "True <class 'bool'>\n",
      "1 <class 'int'>\n"
     ]
    }
   ],
   "source": [
    "e=int(b)\n",
    "f=float(a)\n",
    "g=str(b)\n",
    "print(e, type(e))\n",
    "print(f, type(f))\n",
    "print(g, type(g))\n",
    "h=float(g)\n",
    "\n",
    "i=f>e #comparison between int and float is legit\n",
    "j=int(i)\n",
    "print(h, type(h))\n",
    "print(i, type(i))\n",
    "print(j, type(j))"
   ]
  },
  {
   "cell_type": "markdown",
   "id": "d7a271e1",
   "metadata": {},
   "source": [
    "<h1>Sequencial Data types</h1>"
   ]
  },
  {
   "cell_type": "markdown",
   "id": "767f08fd",
   "metadata": {},
   "source": [
    "<b>List and Tuples</b>"
   ]
  },
  {
   "cell_type": "code",
   "execution_count": 81,
   "id": "3a93aeba",
   "metadata": {},
   "outputs": [
    {
     "name": "stdout",
     "output_type": "stream",
     "text": [
      "[23, 54, 43] <class 'list'>\n",
      "[23, 'Ken', 4.5] <class 'list'>\n",
      "(23, 14, 23) <class 'tuple'>\n",
      "(23, 'Ken', 4.5) <class 'tuple'>\n"
     ]
    }
   ],
   "source": [
    "#Both List and Tuple supoprt non-heterogeneous dataset\n",
    "\n",
    "a=[23,54,43]\n",
    "b=[23,'Ken',4.5]\n",
    "c=(23,14,23)\n",
    "d=(23,'Ken',4.5)\n",
    "\n",
    "print(a,type(a))\n",
    "print(b,type(b))\n",
    "print(c,type(c))\n",
    "print(d,type(d))"
   ]
  },
  {
   "cell_type": "code",
   "execution_count": 82,
   "id": "36fa56a8",
   "metadata": {},
   "outputs": [
    {
     "name": "stdout",
     "output_type": "stream",
     "text": [
      "False <class 'bool'>\n"
     ]
    }
   ],
   "source": [
    "#Comparing List\n",
    "\n",
    "a=[23,54,43]\n",
    "b=[45,23,9]\n",
    "c=a>b\n",
    "print(c,type(c))"
   ]
  },
  {
   "cell_type": "markdown",
   "id": "eb450a9e",
   "metadata": {},
   "source": [
    "<b>String</b>"
   ]
  },
  {
   "cell_type": "code",
   "execution_count": 48,
   "id": "d4532bae",
   "metadata": {},
   "outputs": [
    {
     "name": "stdout",
     "output_type": "stream",
     "text": [
      "Kinjal <class 'str'>\n",
      "roy <class 'str'>\n",
      "n y\n"
     ]
    }
   ],
   "source": [
    "a=\"Kinjal\"\n",
    "b='roy'\n",
    "print(a,type(a))\n",
    "print(b,type(b))\n",
    "print(a[2],b[2])"
   ]
  },
  {
   "cell_type": "markdown",
   "id": "dc429304",
   "metadata": {},
   "source": [
    "<b>Range</b>"
   ]
  },
  {
   "cell_type": "code",
   "execution_count": 60,
   "id": "e825314e",
   "metadata": {},
   "outputs": [
    {
     "name": "stdout",
     "output_type": "stream",
     "text": [
      "range(0, 10) <class 'range'>\n",
      "[0, 1, 2, 3, 4, 5, 6, 7, 8, 9] <class 'list'>\n",
      "[2, 3, 4, 5, 6, 7, 8, 9, 10, 11, 12, 13, 14, 15, 16, 17, 18] <class 'list'>\n",
      "[2, 12, 22] <class 'list'>\n",
      "[27, 17, 7] <class 'list'>\n",
      "[] <class 'list'>\n"
     ]
    }
   ],
   "source": [
    "a=range(10)\n",
    "print(a,type(a))\n",
    "\n",
    "b=list(a)\n",
    "print(b,type(b))\n",
    "\n",
    "#Range with 2 arguments. 1st one is the starting point, 2nd one is ending point\n",
    "c=range(2,19)\n",
    "d=list(c)\n",
    "print(d,type(d))\n",
    "\n",
    "#Range with 3 arguments. 1st one is the starting point, 2nd one is ending point, 3rd is the step\n",
    "e=range(2,27,10)\n",
    "f=list(e)\n",
    "print(f,type(f))\n",
    "\n",
    "#Range with 3 arguments but negetive step\n",
    "g=range(27,2,-10)\n",
    "h=list(g)\n",
    "print(h,type(h))\n",
    "\n",
    "#Range with 3 arguments but negetive step with irrational logic\n",
    "i=range(2,27,-10)\n",
    "j=list(i)\n",
    "print(j,type(j))"
   ]
  },
  {
   "cell_type": "code",
   "execution_count": 66,
   "id": "9abe3e34",
   "metadata": {},
   "outputs": [
    {
     "name": "stdout",
     "output_type": "stream",
     "text": [
      "[]\n"
     ]
    }
   ],
   "source": [
    "print(list(range(10,9,1)))"
   ]
  },
  {
   "cell_type": "markdown",
   "id": "79e71b64",
   "metadata": {},
   "source": [
    "<b>Set</b>"
   ]
  },
  {
   "cell_type": "code",
   "execution_count": 22,
   "id": "32a176ed",
   "metadata": {},
   "outputs": [
    {
     "name": "stdout",
     "output_type": "stream",
     "text": [
      "{2567, 12.9, 'a'} <class 'set'>\n"
     ]
    },
    {
     "ename": "TypeError",
     "evalue": "'set' object is not subscriptable",
     "output_type": "error",
     "traceback": [
      "\u001b[1;31m---------------------------------------------------------------------------\u001b[0m",
      "\u001b[1;31mTypeError\u001b[0m                                 Traceback (most recent call last)",
      "\u001b[1;32mC:\\Users\\KINJAL~1\\AppData\\Local\\Temp/ipykernel_12248/2598570489.py\u001b[0m in \u001b[0;36m<module>\u001b[1;34m\u001b[0m\n\u001b[0;32m      1\u001b[0m \u001b[0ma\u001b[0m\u001b[1;33m=\u001b[0m\u001b[0mset\u001b[0m\u001b[1;33m(\u001b[0m\u001b[1;33m[\u001b[0m\u001b[1;34m\"a\"\u001b[0m\u001b[1;33m,\u001b[0m\u001b[1;36m2567\u001b[0m\u001b[1;33m,\u001b[0m\u001b[1;36m12.9\u001b[0m\u001b[1;33m]\u001b[0m\u001b[1;33m)\u001b[0m\u001b[1;33m\u001b[0m\u001b[1;33m\u001b[0m\u001b[0m\n\u001b[0;32m      2\u001b[0m \u001b[0mprint\u001b[0m\u001b[1;33m(\u001b[0m\u001b[0ma\u001b[0m\u001b[1;33m,\u001b[0m\u001b[0mtype\u001b[0m\u001b[1;33m(\u001b[0m\u001b[0ma\u001b[0m\u001b[1;33m)\u001b[0m\u001b[1;33m)\u001b[0m\u001b[1;33m\u001b[0m\u001b[1;33m\u001b[0m\u001b[0m\n\u001b[1;32m----> 3\u001b[1;33m \u001b[0mprint\u001b[0m\u001b[1;33m(\u001b[0m\u001b[0ma\u001b[0m\u001b[1;33m[\u001b[0m\u001b[1;36m1\u001b[0m\u001b[1;33m]\u001b[0m\u001b[1;33m)\u001b[0m\u001b[1;33m\u001b[0m\u001b[1;33m\u001b[0m\u001b[0m\n\u001b[0m",
      "\u001b[1;31mTypeError\u001b[0m: 'set' object is not subscriptable"
     ]
    }
   ],
   "source": [
    "a=set([\"a\",2567,12.9])\n",
    "print(a,type(a))\n",
    "print(a[1]) #not valid"
   ]
  },
  {
   "cell_type": "code",
   "execution_count": 23,
   "id": "0b279980",
   "metadata": {},
   "outputs": [
    {
     "name": "stdout",
     "output_type": "stream",
     "text": [
      "{9.9, 'kinjal', 7868} <class 'set'>\n"
     ]
    }
   ],
   "source": [
    "#another way to define set\n",
    "\n",
    "a={\"kinjal\",7868,9.9}\n",
    "print(a,type(a))"
   ]
  },
  {
   "cell_type": "markdown",
   "id": "d6587ec5",
   "metadata": {},
   "source": [
    "<b>Dictionary</b>"
   ]
  },
  {
   "cell_type": "code",
   "execution_count": 67,
   "id": "fb374878",
   "metadata": {},
   "outputs": [
    {
     "name": "stdout",
     "output_type": "stream",
     "text": [
      "{'Kolkata': '700040', 'Delhi': '100010', 'Mumbai': '200020', 'Chennai': '300030'} <class 'dict'>\n"
     ]
    }
   ],
   "source": [
    "a={\n",
    "    'Kolkata':'700040',\n",
    "    'Delhi':'100010',\n",
    "    'Mumbai':'200020',\n",
    "    'Chennai':'300030',\n",
    "}\n",
    "print(a,type(a))"
   ]
  },
  {
   "cell_type": "code",
   "execution_count": 80,
   "id": "05079586",
   "metadata": {},
   "outputs": [
    {
     "name": "stdout",
     "output_type": "stream",
     "text": [
      "dict_keys(['Kolkata', 'Delhi', 'Mumbai', 'Chennai'])\n",
      "dict_values(['700040', '100010', '200020', '300030'])\n"
     ]
    },
    {
     "data": {
      "text/plain": [
       "'100010'"
      ]
     },
     "execution_count": 80,
     "metadata": {},
     "output_type": "execute_result"
    }
   ],
   "source": [
    "print(a.keys())\n",
    "print(a.values())\n",
    "a['Delhi']"
   ]
  },
  {
   "cell_type": "markdown",
   "id": "af5198db",
   "metadata": {},
   "source": [
    "<h1>Type conversion between Sequencial Data types</h1>"
   ]
  },
  {
   "cell_type": "code",
   "execution_count": 85,
   "id": "d458c631",
   "metadata": {},
   "outputs": [
    {
     "name": "stdout",
     "output_type": "stream",
     "text": [
      "(23, 387, 29) <class 'tuple'>\n",
      "[34, 28, 48] <class 'list'>\n"
     ]
    }
   ],
   "source": [
    "#List and Tuples are interchangeable using inbuild functions\n",
    "\n",
    "a=[23,387,29]\n",
    "b=tuple(a)\n",
    "\n",
    "c=(34,28,48)\n",
    "d=list(c)\n",
    "\n",
    "print(b,type(b))\n",
    "print(d,type(d))"
   ]
  },
  {
   "cell_type": "code",
   "execution_count": 90,
   "id": "671b10a7",
   "metadata": {},
   "outputs": [
    {
     "name": "stdout",
     "output_type": "stream",
     "text": [
      "['Kolkata', 'Delhi', 'Mumbai', 'Chennai'] <class 'list'>\n",
      "('Kolkata', 'Delhi', 'Mumbai', 'Chennai') <class 'tuple'>\n",
      "['700040', '100010', '200020', '300030'] <class 'list'>\n",
      "('700040', '100010', '200020', '300030') <class 'tuple'>\n",
      "['Kolkata', 'Delhi', 'Mumbai', 'Chennai'] <class 'list'>\n",
      "['Kolkata', 'Delhi', 'Mumbai', 'Chennai'] <class 'list'>\n"
     ]
    }
   ],
   "source": [
    "#Dictionary can be changed to List and Tuple both using and not using the .keys/.values\n",
    "a={\n",
    "    'Kolkata':'700040',\n",
    "    'Delhi':'100010',\n",
    "    'Mumbai':'200020',\n",
    "    'Chennai':'300030',\n",
    "}\n",
    "\n",
    "b=list(a)\n",
    "c=tuple(a)\n",
    "d=list(a.values())\n",
    "e=tuple(a.values())\n",
    "f=list(a.keys())\n",
    "g=list(a.keys())\n",
    "print(b, type(b))\n",
    "print(c, type(c))\n",
    "print(d, type(d))\n",
    "print(e, type(e))\n",
    "print(f, type(f))\n",
    "print(g, type(g))\n"
   ]
  },
  {
   "cell_type": "code",
   "execution_count": 21,
   "id": "aac034fd",
   "metadata": {},
   "outputs": [
    {
     "name": "stdout",
     "output_type": "stream",
     "text": [
      "['K', 'i', 'n', 'j', 'a', 'l'] <class 'list'>\n",
      "('K', 'i', 'n', 'j', 'a', 'l') <class 'tuple'>\n",
      "{'i', 'j', 'n', 'K', 'l', 'a'} <class 'set'>\n"
     ]
    }
   ],
   "source": [
    "#Type conversion from string to tuple or List\n",
    "\n",
    "a=\"Kinjal\"\n",
    "b=list(a)\n",
    "c=tuple(a)\n",
    "d=set(a)\n",
    "print(b,type(b))\n",
    "print(c,type(c))\n",
    "print(d,type(d))"
   ]
  },
  {
   "cell_type": "code",
   "execution_count": 15,
   "id": "34c9fa1b",
   "metadata": {},
   "outputs": [
    {
     "name": "stdout",
     "output_type": "stream",
     "text": [
      "[2567, 12.9, 'a'] <class 'list'>\n",
      "(2567, 12.9, 'a') <class 'tuple'>\n"
     ]
    }
   ],
   "source": [
    "a=set([\"a\",2567,12.9])\n",
    "b=list(a)\n",
    "c=tuple(a)\n",
    "\n",
    "print(b,type(b))\n",
    "print(c,type(c))"
   ]
  },
  {
   "cell_type": "markdown",
   "id": "e5b7dc69",
   "metadata": {},
   "source": [
    "<h1>Mutability and Extendibility of Lists and Tuples</h1>"
   ]
  },
  {
   "cell_type": "code",
   "execution_count": null,
   "id": "7ea8873c",
   "metadata": {},
   "outputs": [],
   "source": [
    "#Mutability Test\n",
    "\n",
    "a=[23,'Kinjal',36.7]\n",
    "print(a,type(a))\n",
    "b=(2534,'Lucknow',45.67)\n",
    "print(b,type(b))\n",
    "a[1]='Kim'\n",
    "b[1]='Kenjo'  #This will throw error because it is immutable\n",
    "\n",
    "print(a,type(a))\n",
    "print(b,type(b))"
   ]
  },
  {
   "cell_type": "code",
   "execution_count": 11,
   "id": "0baa4632",
   "metadata": {},
   "outputs": [
    {
     "name": "stdout",
     "output_type": "stream",
     "text": [
      "[23, 'Kinjal', 36.7] <class 'list'>\n",
      "[23, 'Kinjal', 36.7, 'Hi'] <class 'list'>\n",
      "[23, 'Kinjal', 36.7, 'Hi'] <class 'list'>\n",
      "(2534, 'Lucknow', 45.67) <class 'tuple'>\n",
      "(2534, 'Lucknow', 45.67) <class 'tuple'>\n",
      "(2534, 'Lucknow', 45.67, 78, 'Going') <class 'tuple'>\n"
     ]
    }
   ],
   "source": [
    "#Extendibility\n",
    "\n",
    "a=[23,'Kinjal',36.7]\n",
    "print(a,type(a))\n",
    "a.append('Hi')\n",
    "print(a,type(a))\n",
    "#a.append('Hello','Hell') #takes only one value to append\n",
    "print(a,type(a))\n",
    "\n",
    "b=(2534,'Lucknow',45.67)\n",
    "print(b,type(b))\n",
    "#b.append(78) #you can't use append to add more values to a tuple\n",
    "print(b,type(b))\n",
    "\n",
    "#One way to append data in Tuple\n",
    "c=(78,'Going')\n",
    "b=b+c\n",
    "print(b,type(b))"
   ]
  }
 ],
 "metadata": {
  "kernelspec": {
   "display_name": "Python 3 (ipykernel)",
   "language": "python",
   "name": "python3"
  },
  "language_info": {
   "codemirror_mode": {
    "name": "ipython",
    "version": 3
   },
   "file_extension": ".py",
   "mimetype": "text/x-python",
   "name": "python",
   "nbconvert_exporter": "python",
   "pygments_lexer": "ipython3",
   "version": "3.9.7"
  }
 },
 "nbformat": 4,
 "nbformat_minor": 5
}
