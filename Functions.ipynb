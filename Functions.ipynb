{
 "cells": [
  {
   "cell_type": "code",
   "execution_count": 1,
   "id": "6fddd0e0",
   "metadata": {},
   "outputs": [],
   "source": [
    "def greet():\n",
    "    print(\"Kinjal Roy\")\n",
    "    print(\"I am a good boy\")"
   ]
  },
  {
   "cell_type": "code",
   "execution_count": 2,
   "id": "720ae259",
   "metadata": {},
   "outputs": [
    {
     "name": "stdout",
     "output_type": "stream",
     "text": [
      "Kinjal Roy\n",
      "I am a good boy\n"
     ]
    }
   ],
   "source": [
    "greet()"
   ]
  },
  {
   "cell_type": "code",
   "execution_count": 3,
   "id": "3bf03c7d",
   "metadata": {},
   "outputs": [],
   "source": [
    "#function with Argument\n",
    "\n",
    "def greet_name(x):\n",
    "    print(\"Kinjal loves\", x)    "
   ]
  },
  {
   "cell_type": "code",
   "execution_count": 5,
   "id": "1b0b9eaf",
   "metadata": {},
   "outputs": [
    {
     "name": "stdout",
     "output_type": "stream",
     "text": [
      "Kinjal loves Pooja\n",
      "Kinjal loves Anastasia\n"
     ]
    }
   ],
   "source": [
    "greet_name(\"Pooja\")\n",
    "greet_name(\"Anastasia\")"
   ]
  },
  {
   "cell_type": "code",
   "execution_count": 8,
   "id": "41b047b4",
   "metadata": {},
   "outputs": [],
   "source": [
    "#function with multiple parameters\n",
    "\n",
    "def sum_num(a,b):\n",
    "    print(\"Sum is:\", a+b)"
   ]
  },
  {
   "cell_type": "code",
   "execution_count": 9,
   "id": "cfde9f70",
   "metadata": {},
   "outputs": [
    {
     "name": "stdout",
     "output_type": "stream",
     "text": [
      "Sum is: 11\n"
     ]
    }
   ],
   "source": [
    "sum_num(3,8)"
   ]
  },
  {
   "cell_type": "code",
   "execution_count": 12,
   "id": "8ec3674a",
   "metadata": {},
   "outputs": [],
   "source": [
    "#function returning value\n",
    "\n",
    "def sum_ret(a,b):\n",
    "    return (a+b)"
   ]
  },
  {
   "cell_type": "code",
   "execution_count": 14,
   "id": "6a76b899",
   "metadata": {},
   "outputs": [
    {
     "name": "stdout",
     "output_type": "stream",
     "text": [
      "The result of the sum is: 77\n"
     ]
    }
   ],
   "source": [
    "result=sum_ret(23,54)\n",
    "print(\"The result of the sum is:\",result)"
   ]
  },
  {
   "cell_type": "code",
   "execution_count": 15,
   "id": "f62140e1",
   "metadata": {},
   "outputs": [],
   "source": [
    "#passing variable number of arguments. Just a star is enough\n",
    "\n",
    "def sum_var(*x):\n",
    "    s=0\n",
    "    for i in x:\n",
    "        s=s+i\n",
    "    return s\n"
   ]
  },
  {
   "cell_type": "code",
   "execution_count": 17,
   "id": "23fbf85f",
   "metadata": {},
   "outputs": [
    {
     "name": "stdout",
     "output_type": "stream",
     "text": [
      "Result is 111\n"
     ]
    }
   ],
   "source": [
    "result=sum_var(5,3,27,76)\n",
    "print(\"Result is\",result)"
   ]
  },
  {
   "cell_type": "code",
   "execution_count": 21,
   "id": "b1e90a89",
   "metadata": {},
   "outputs": [
    {
     "name": "stdout",
     "output_type": "stream",
     "text": [
      "Result is 145\n"
     ]
    }
   ],
   "source": [
    "#passing the list as the argument for the same variable sum\n",
    "\n",
    "def sum_list(x):\n",
    "    s=0\n",
    "    for i in x:\n",
    "        s=s+i\n",
    "    return s\n",
    "\n",
    "t=[5,3,27,76,34]\n",
    "result=sum_list(t)\n",
    "print(\"Result is\",result)"
   ]
  },
  {
   "cell_type": "code",
   "execution_count": 22,
   "id": "dc2eb92c",
   "metadata": {},
   "outputs": [
    {
     "name": "stdout",
     "output_type": "stream",
     "text": [
      "Result is 145\n"
     ]
    }
   ],
   "source": [
    "#works fine with tuples also\n",
    "f=(5,3,27,76,34)\n",
    "result=sum_list(f)\n",
    "print(\"Result is\",result)"
   ]
  },
  {
   "cell_type": "code",
   "execution_count": 24,
   "id": "2e094460",
   "metadata": {},
   "outputs": [
    {
     "ename": "TypeError",
     "evalue": "unsupported operand type(s) for +: 'int' and 'str'",
     "output_type": "error",
     "traceback": [
      "\u001b[1;31m---------------------------------------------------------------------------\u001b[0m",
      "\u001b[1;31mTypeError\u001b[0m                                 Traceback (most recent call last)",
      "\u001b[1;32mC:\\Users\\KINJAL~1\\AppData\\Local\\Temp/ipykernel_14476/2960470107.py\u001b[0m in \u001b[0;36m<module>\u001b[1;34m\u001b[0m\n\u001b[0;32m      1\u001b[0m \u001b[0md\u001b[0m\u001b[1;33m=\u001b[0m\u001b[1;33m{\u001b[0m\u001b[1;34m\"a\"\u001b[0m\u001b[1;33m:\u001b[0m\u001b[1;36m12\u001b[0m\u001b[1;33m,\u001b[0m\u001b[1;34m\"b\"\u001b[0m\u001b[1;33m:\u001b[0m\u001b[1;36m3\u001b[0m\u001b[1;33m,\u001b[0m\u001b[1;34m\"c\"\u001b[0m\u001b[1;33m:\u001b[0m\u001b[1;36m78\u001b[0m\u001b[1;33m}\u001b[0m\u001b[1;33m\u001b[0m\u001b[1;33m\u001b[0m\u001b[0m\n\u001b[1;32m----> 2\u001b[1;33m \u001b[0mresult\u001b[0m\u001b[1;33m=\u001b[0m\u001b[0msum_list\u001b[0m\u001b[1;33m(\u001b[0m\u001b[0md\u001b[0m\u001b[1;33m)\u001b[0m\u001b[1;33m\u001b[0m\u001b[1;33m\u001b[0m\u001b[0m\n\u001b[0m\u001b[0;32m      3\u001b[0m \u001b[0mprint\u001b[0m\u001b[1;33m(\u001b[0m\u001b[1;34m\"Result is\"\u001b[0m\u001b[1;33m,\u001b[0m\u001b[0mresult\u001b[0m\u001b[1;33m)\u001b[0m\u001b[1;33m\u001b[0m\u001b[1;33m\u001b[0m\u001b[0m\n",
      "\u001b[1;32mC:\\Users\\KINJAL~1\\AppData\\Local\\Temp/ipykernel_14476/2364723110.py\u001b[0m in \u001b[0;36msum_list\u001b[1;34m(x)\u001b[0m\n\u001b[0;32m      4\u001b[0m     \u001b[0ms\u001b[0m\u001b[1;33m=\u001b[0m\u001b[1;36m0\u001b[0m\u001b[1;33m\u001b[0m\u001b[1;33m\u001b[0m\u001b[0m\n\u001b[0;32m      5\u001b[0m     \u001b[1;32mfor\u001b[0m \u001b[0mi\u001b[0m \u001b[1;32min\u001b[0m \u001b[0mx\u001b[0m\u001b[1;33m:\u001b[0m\u001b[1;33m\u001b[0m\u001b[1;33m\u001b[0m\u001b[0m\n\u001b[1;32m----> 6\u001b[1;33m         \u001b[0ms\u001b[0m\u001b[1;33m=\u001b[0m\u001b[0ms\u001b[0m\u001b[1;33m+\u001b[0m\u001b[0mi\u001b[0m\u001b[1;33m\u001b[0m\u001b[1;33m\u001b[0m\u001b[0m\n\u001b[0m\u001b[0;32m      7\u001b[0m     \u001b[1;32mreturn\u001b[0m \u001b[0ms\u001b[0m\u001b[1;33m\u001b[0m\u001b[1;33m\u001b[0m\u001b[0m\n\u001b[0;32m      8\u001b[0m \u001b[1;33m\u001b[0m\u001b[0m\n",
      "\u001b[1;31mTypeError\u001b[0m: unsupported operand type(s) for +: 'int' and 'str'"
     ]
    }
   ],
   "source": [
    "#won't work staright forward with dictionary. \n",
    "\n",
    "d={\"a\":12,\"b\":3,\"c\":78}\n",
    "result=sum_list(d)\n",
    "print(\"Result is\",result)"
   ]
  },
  {
   "cell_type": "code",
   "execution_count": 28,
   "id": "dab22cc7",
   "metadata": {},
   "outputs": [
    {
     "name": "stdout",
     "output_type": "stream",
     "text": [
      "first : Kinjal\n",
      "second : Kumar\n",
      "third : Roy\n"
     ]
    }
   ],
   "source": [
    "#keyworded arguments. Mind that *args get values in tuples but kwargs accepts values in dictionary\n",
    "\n",
    "def myfunc(**kwargs):\n",
    "    for key, value in kwargs.items():\n",
    "        print(key,\":\",value)\n",
    "        \n",
    "myfunc(first=\"Kinjal\",second=\"Kumar\",third=\"Roy\")"
   ]
  },
  {
   "cell_type": "code",
   "execution_count": null,
   "id": "0ffc5370",
   "metadata": {},
   "outputs": [],
   "source": [
    "#Argumnets can also be passed from the command line. refer to the pyhton document on how to run python scripts from the\n",
    "#commandline along with the arguments"
   ]
  },
  {
   "cell_type": "code",
   "execution_count": 1,
   "id": "a94325fd",
   "metadata": {},
   "outputs": [
    {
     "name": "stdout",
     "output_type": "stream",
     "text": [
      "7\n"
     ]
    }
   ],
   "source": [
    "#Lambda function. The format is Parameter:Return value\n",
    "\n",
    "func=lambda x:x+5\n",
    "print(func(2))"
   ]
  },
  {
   "cell_type": "code",
   "execution_count": 2,
   "id": "5b36c281",
   "metadata": {},
   "outputs": [
    {
     "name": "stdout",
     "output_type": "stream",
     "text": [
      "12\n"
     ]
    }
   ],
   "source": [
    "func2=lambda x,y:x*y\n",
    "print(func2(3,4))"
   ]
  },
  {
   "cell_type": "code",
   "execution_count": 5,
   "id": "c3a50576",
   "metadata": {},
   "outputs": [
    {
     "name": "stdout",
     "output_type": "stream",
     "text": [
      "8\n",
      "59\n",
      "28\n"
     ]
    }
   ],
   "source": [
    "#map can be used intuitively to generate results. in map() the first parametrer is the function and the second is the \n",
    "#iterable(list, tuples,etc.). The map will take each value from he iterable and apply the function on the element\n",
    "\n",
    "func=lambda x:x+5\n",
    "\n",
    "l=[3,54,23]\n",
    "\n",
    "result_ls=map(func,l)\n",
    "\n",
    "for i in result_ls:\n",
    "    print(i)"
   ]
  },
  {
   "cell_type": "code",
   "execution_count": 6,
   "id": "b9211878",
   "metadata": {},
   "outputs": [
    {
     "name": "stdout",
     "output_type": "stream",
     "text": [
      "54\n",
      "98\n",
      "22\n"
     ]
    }
   ],
   "source": [
    "#filter() function also works similarly. just if the condition is true it will print those\n",
    "\n",
    "l=[3,54,23,47,98,22]\n",
    "\n",
    "result_ls=filter(lambda x:x%2==0,l) #it will take up the values only for those whose divison by 2 gives 0 i.e. even numbers\n",
    "\n",
    "for i in result_ls:\n",
    "    print(i)"
   ]
  },
  {
   "cell_type": "code",
   "execution_count": 10,
   "id": "5d9701b3",
   "metadata": {},
   "outputs": [
    {
     "name": "stdout",
     "output_type": "stream",
     "text": [
      "64\n"
     ]
    }
   ],
   "source": [
    "#reduce will cumulatively evaluate the function\n",
    "\n",
    "from functools import reduce \n",
    "l=[2,4,8]\n",
    "\n",
    "result=reduce(lambda x,y:x*y,l)\n",
    "print((result))"
   ]
  },
  {
   "cell_type": "code",
   "execution_count": 17,
   "id": "e1466cdd",
   "metadata": {},
   "outputs": [
    {
     "name": "stdout",
     "output_type": "stream",
     "text": [
      "The factorial of 6 is 720\n"
     ]
    }
   ],
   "source": [
    "#Recursion\n",
    "\n",
    "def factorial(x):\n",
    "    \"\"\"This is a recursive function\n",
    "    to find the factorial of an integer\"\"\"\n",
    "\n",
    "    if x == 1:\n",
    "        return 1\n",
    "    else:\n",
    "        return (x * factorial(x-1))\n",
    "\n",
    "\n",
    "num = 6\n",
    "print(\"The factorial of\", num, \"is\", factorial(num))"
   ]
  },
  {
   "cell_type": "code",
   "execution_count": 18,
   "id": "0722f2ba",
   "metadata": {},
   "outputs": [
    {
     "name": "stdout",
     "output_type": "stream",
     "text": [
      "720\n"
     ]
    }
   ],
   "source": [
    "#Recursion using Lambda\n",
    "\n",
    "fact = lambda x: 1 if x == 0 else x * fact(x-1)\n",
    "print(fact(6))"
   ]
  },
  {
   "cell_type": "code",
   "execution_count": null,
   "id": "9a63e8d9",
   "metadata": {},
   "outputs": [],
   "source": []
  }
 ],
 "metadata": {
  "kernelspec": {
   "display_name": "Python 3 (ipykernel)",
   "language": "python",
   "name": "python3"
  },
  "language_info": {
   "codemirror_mode": {
    "name": "ipython",
    "version": 3
   },
   "file_extension": ".py",
   "mimetype": "text/x-python",
   "name": "python",
   "nbconvert_exporter": "python",
   "pygments_lexer": "ipython3",
   "version": "3.9.7"
  }
 },
 "nbformat": 4,
 "nbformat_minor": 5
}
