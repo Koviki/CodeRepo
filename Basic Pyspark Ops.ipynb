{
 "cells": [
  {
   "cell_type": "code",
   "execution_count": 1,
   "id": "43bc5bb5",
   "metadata": {},
   "outputs": [],
   "source": [
    "from pyspark.sql import SparkSession"
   ]
  },
  {
   "cell_type": "code",
   "execution_count": 2,
   "id": "e7691906",
   "metadata": {},
   "outputs": [
    {
     "name": "stdout",
     "output_type": "stream",
     "text": [
      "+------------------+-------------+---------+------+\n",
      "|           Fr_Name|Annual_Fr_Fee|Turn_Over|Emp_No|\n",
      "+------------------+-------------+---------+------+\n",
      "|          AB Corps|        10000|    25000|    10|\n",
      "|            Signet|        12000|    30000|    12|\n",
      "|             Focus|        15000|    40000|    13|\n",
      "|          Dry Pizz|        20000|    35000|    10|\n",
      "|         Good Rays|        22000|    50000|    20|\n",
      "|      Head Lickers|        23500|    45000|    18|\n",
      "|       Dress Foods|        25000|    55000|    19|\n",
      "|             Careo|        18000|    35000|    21|\n",
      "|             Bingo|        17000|    23000|    11|\n",
      "|         Crunchies|        10200|    19000|     9|\n",
      "|       Cheesy King|        35000|    45000|    20|\n",
      "|           Burgors|        23000|    35000|    16|\n",
      "|          UrbFoods|        37000|    45000|    23|\n",
      "|          CareSome|        21000|    23000|    14|\n",
      "|             Ohana|        13000|    23000|     8|\n",
      "|Rasputin's Kitchen|        34000|    60000|    18|\n",
      "|           jimmy's|        20000|    14144|    51|\n",
      "|           Kaggles|        26798|     7891|    22|\n",
      "|     The Levetomes|        27888|    42104|    51|\n",
      "|          Snacking|         7852|    49707|    57|\n",
      "+------------------+-------------+---------+------+\n",
      "only showing top 20 rows\n",
      "\n"
     ]
    }
   ],
   "source": [
    "#cREating Data Frame \n",
    "spark=SparkSession.builder.appName('sample').getOrCreate()\n",
    "df=spark.read.csv('D:\\Data Science\\Data Sets\\Data Sets\\Sales Data.csv',header=True,inferSchema=True)\n",
    "df.show()"
   ]
  },
  {
   "cell_type": "code",
   "execution_count": 3,
   "id": "676b0d71",
   "metadata": {},
   "outputs": [
    {
     "name": "stdout",
     "output_type": "stream",
     "text": [
      "+------------------+-------------+\n",
      "|           Fr_Name|Annual_Fr_Fee|\n",
      "+------------------+-------------+\n",
      "|          AB Corps|        10000|\n",
      "|            Signet|        12000|\n",
      "|             Focus|        15000|\n",
      "|          Dry Pizz|        20000|\n",
      "|         Good Rays|        22000|\n",
      "|      Head Lickers|        23500|\n",
      "|       Dress Foods|        25000|\n",
      "|             Careo|        18000|\n",
      "|             Bingo|        17000|\n",
      "|         Crunchies|        10200|\n",
      "|       Cheesy King|        35000|\n",
      "|           Burgors|        23000|\n",
      "|          UrbFoods|        37000|\n",
      "|          CareSome|        21000|\n",
      "|             Ohana|        13000|\n",
      "|Rasputin's Kitchen|        34000|\n",
      "|           jimmy's|        20000|\n",
      "|           Kaggles|        26798|\n",
      "|     The Levetomes|        27888|\n",
      "|          Snacking|         7852|\n",
      "+------------------+-------------+\n",
      "only showing top 20 rows\n",
      "\n"
     ]
    }
   ],
   "source": [
    "#Selecting only a few Columns\n",
    "df1=df.select('Fr_Name','Annual_Fr_Fee')\n",
    "df1.show()"
   ]
  },
  {
   "cell_type": "code",
   "execution_count": 5,
   "id": "cf52c7d6",
   "metadata": {},
   "outputs": [
    {
     "name": "stdout",
     "output_type": "stream",
     "text": [
      "+------------+-------------+\n",
      "|     Fr_Name|Annual_Fr_Fee|\n",
      "+------------+-------------+\n",
      "|    AB Corps|        10000|\n",
      "|      Signet|        12000|\n",
      "|       Focus|        15000|\n",
      "|    Dry Pizz|        20000|\n",
      "|   Good Rays|        22000|\n",
      "|Head Lickers|        23500|\n",
      "| Dress Foods|        25000|\n",
      "|       Careo|        18000|\n",
      "|       Bingo|        17000|\n",
      "|   Crunchies|        10200|\n",
      "| Cheesy King|        35000|\n",
      "|     Burgors|        23000|\n",
      "|    UrbFoods|        37000|\n",
      "|    CareSome|        21000|\n",
      "|       Ohana|        13000|\n",
      "+------------+-------------+\n",
      "\n"
     ]
    }
   ],
   "source": [
    "#showing the top 15 rows\n",
    "df1.limit(15).show()"
   ]
  },
  {
   "cell_type": "code",
   "execution_count": 8,
   "id": "43ac5699",
   "metadata": {},
   "outputs": [
    {
     "name": "stdout",
     "output_type": "stream",
     "text": [
      "+------------------+-------------+---------+------+\n",
      "|           Fr_Name|Annual_Fr_Fee|Turn_Over|Emp_No|\n",
      "+------------------+-------------+---------+------+\n",
      "|          AB Corps|        10000|    25000|    10|\n",
      "|            Signet|        12000|    30000|    12|\n",
      "|             Focus|        15000|    40000|    13|\n",
      "|          Dry Pizz|        20000|    35000|    10|\n",
      "|         Good Rays|        22000|    50000|    20|\n",
      "|      Head Lickers|         null|    45000|    18|\n",
      "|       Dress Foods|        25000|    55000|    19|\n",
      "|             Careo|        18000|    35000|    21|\n",
      "|             Bingo|        17000|    23000|    11|\n",
      "|         Crunchies|        10200|    19000|     9|\n",
      "|       Cheesy King|        35000|    45000|    20|\n",
      "|              null|        23000|    35000|    16|\n",
      "|          UrbFoods|        37000|    45000|    23|\n",
      "|          CareSome|        21000|    23000|    14|\n",
      "|             Ohana|        13000|    23000|     8|\n",
      "|Rasputin's Kitchen|        34000|    60000|    18|\n",
      "|           jimmy's|        20000|     null|    51|\n",
      "|           Kaggles|        26798|     7891|    22|\n",
      "|     The Levetomes|        27888|    42104|    51|\n",
      "|          Snacking|         7852|    49707|    57|\n",
      "+------------------+-------------+---------+------+\n",
      "only showing top 20 rows\n",
      "\n"
     ]
    }
   ],
   "source": [
    "from pyspark.sql import SparkSession\n",
    "spark=SparkSession.builder.appName('Sample').getOrCreate()\n",
    "df=spark.read.csv('D:\\Data Science\\Data Sets\\Data Sets\\Sales_null.csv',header=True,inferSchema=True)\n",
    "df.show()"
   ]
  },
  {
   "cell_type": "code",
   "execution_count": 9,
   "id": "138d2022",
   "metadata": {},
   "outputs": [
    {
     "name": "stdout",
     "output_type": "stream",
     "text": [
      "+------------------+-------------+---------+------+\n",
      "|           Fr_Name|Annual_Fr_Fee|Turn_Over|Emp_No|\n",
      "+------------------+-------------+---------+------+\n",
      "|          AB Corps|        10000|    25000|    10|\n",
      "|            Signet|        12000|    30000|    12|\n",
      "|             Focus|        15000|    40000|    13|\n",
      "|          Dry Pizz|        20000|    35000|    10|\n",
      "|         Good Rays|        22000|    50000|    20|\n",
      "|       Dress Foods|        25000|    55000|    19|\n",
      "|             Careo|        18000|    35000|    21|\n",
      "|             Bingo|        17000|    23000|    11|\n",
      "|         Crunchies|        10200|    19000|     9|\n",
      "|       Cheesy King|        35000|    45000|    20|\n",
      "|              null|        23000|    35000|    16|\n",
      "|          UrbFoods|        37000|    45000|    23|\n",
      "|          CareSome|        21000|    23000|    14|\n",
      "|             Ohana|        13000|    23000|     8|\n",
      "|Rasputin's Kitchen|        34000|    60000|    18|\n",
      "|           Kaggles|        26798|     7891|    22|\n",
      "|     The Levetomes|        27888|    42104|    51|\n",
      "|          Snacking|         7852|    49707|    57|\n",
      "|     Crashing Gate|        11175|    85362|    34|\n",
      "|           Forkers|        30916|    42230|    47|\n",
      "+------------------+-------------+---------+------+\n",
      "only showing top 20 rows\n",
      "\n"
     ]
    }
   ],
   "source": [
    "#drops the rows with Null values in aprticular Columns\n",
    "df1=df.dropna(subset=['Annual_Fr_Fee','Turn_Over'])\n",
    "df1.limit(500).show()"
   ]
  },
  {
   "cell_type": "code",
   "execution_count": 27,
   "id": "b5b6c863",
   "metadata": {},
   "outputs": [
    {
     "name": "stdout",
     "output_type": "stream",
     "text": [
      "+------------------+-------------+---------+------+\n",
      "|           Fr_Name|Annual_Fr_Fee|Turn_Over|Emp_No|\n",
      "+------------------+-------------+---------+------+\n",
      "|          AB Corps|        10000|    25000|    10|\n",
      "|            Signet|        12000|    30000|    12|\n",
      "|             Focus|        15000|    40000|    13|\n",
      "|          Dry Pizz|        20000|    35000|    10|\n",
      "|         Good Rays|        22000|    50000|    20|\n",
      "|      Head Lickers|         null|    45000|    18|\n",
      "|       Dress Foods|        25000|    55000|    19|\n",
      "|             Careo|        18000|    35000|    21|\n",
      "|             Bingo|        17000|    23000|    11|\n",
      "|         Crunchies|        10200|    19000|     9|\n",
      "|       Cheesy King|        35000|    45000|    20|\n",
      "|              null|        23000|    35000|    16|\n",
      "|          UrbFoods|        37000|    45000|    23|\n",
      "|          CareSome|        21000|    23000|    14|\n",
      "|             Ohana|        13000|    23000|     8|\n",
      "|Rasputin's Kitchen|        34000|    60000|    18|\n",
      "|           jimmy's|        20000|     null|    51|\n",
      "|           Kaggles|        26798|     7891|    22|\n",
      "|     The Levetomes|        27888|    42104|    51|\n",
      "|          Snacking|         7852|    49707|    57|\n",
      "+------------------+-------------+---------+------+\n",
      "only showing top 20 rows\n",
      "\n"
     ]
    }
   ],
   "source": [
    "from pyspark.sql import SparkSession\n",
    "spark=SparkSession.builder.appName('Sample').getOrCreate()\n",
    "df=spark.read.csv('D:\\Data Science\\Data Sets\\Data Sets\\Sales_null.csv',header=True,inferSchema=True)\n",
    "df.show()"
   ]
  },
  {
   "cell_type": "code",
   "execution_count": 23,
   "id": "acd8f83d",
   "metadata": {},
   "outputs": [
    {
     "name": "stdout",
     "output_type": "stream",
     "text": [
      "+------------------+-------------+---------+------+\n",
      "|           Fr_Name|Annual_Fr_Fee|Turn_Over|Emp_No|\n",
      "+------------------+-------------+---------+------+\n",
      "|          AB Corps|        10000|    25000|    10|\n",
      "|            Signet|        12000|    30000|    12|\n",
      "|             Focus|        15000|    40000|    13|\n",
      "|          Dry Pizz|        20000|    35000|    10|\n",
      "|         Good Rays|        22000|    50000|    20|\n",
      "|      Head Lickers|         null|    45000|    18|\n",
      "|       Dress Foods|        25000|    55000|    19|\n",
      "|             Careo|        18000|    35000|    21|\n",
      "|             Bingo|        17000|    23000|    11|\n",
      "|         Crunchies|        10200|    19000|     9|\n",
      "|       Cheesy King|        35000|    45000|    20|\n",
      "|              null|        23000|    35000|    16|\n",
      "|          UrbFoods|        37000|    45000|    23|\n",
      "|          CareSome|        21000|    23000|    14|\n",
      "|             Ohana|        13000|    23000|     8|\n",
      "|Rasputin's Kitchen|        34000|    60000|    18|\n",
      "|           jimmy's|        20000|999999999|    51|\n",
      "|           Kaggles|        26798|     7891|    22|\n",
      "|     The Levetomes|        27888|    42104|    51|\n",
      "|          Snacking|         7852|    49707|    57|\n",
      "+------------------+-------------+---------+------+\n",
      "only showing top 20 rows\n",
      "\n"
     ]
    }
   ],
   "source": [
    "#All columns with one value only\n",
    "df1=df.fillna(value=999999999,subset=['Turn_Over'])\n",
    "df1.show()"
   ]
  },
  {
   "cell_type": "code",
   "execution_count": 28,
   "id": "134d6186",
   "metadata": {},
   "outputs": [
    {
     "name": "stdout",
     "output_type": "stream",
     "text": [
      "+------------------+-------------+---------+------+\n",
      "|           Fr_Name|Annual_Fr_Fee|Turn_Over|Emp_No|\n",
      "+------------------+-------------+---------+------+\n",
      "|          AB Corps|        10000|    25000|    10|\n",
      "|            Signet|        12000|    30000|    12|\n",
      "|             Focus|        15000|    40000|    13|\n",
      "|          Dry Pizz|        20000|    35000|    10|\n",
      "|         Good Rays|        22000|    50000|    20|\n",
      "|      Head Lickers|    333333333|    45000|    18|\n",
      "|       Dress Foods|        25000|    55000|    19|\n",
      "|             Careo|        18000|    35000|    21|\n",
      "|             Bingo|        17000|    23000|    11|\n",
      "|         Crunchies|        10200|    19000|     9|\n",
      "|       Cheesy King|        35000|    45000|    20|\n",
      "|              null|        23000|    35000|    16|\n",
      "|          UrbFoods|        37000|    45000|    23|\n",
      "|          CareSome|        21000|    23000|    14|\n",
      "|             Ohana|        13000|    23000|     8|\n",
      "|Rasputin's Kitchen|        34000|    60000|    18|\n",
      "|           jimmy's|        20000|    99999|    51|\n",
      "|           Kaggles|        26798|     7891|    22|\n",
      "|     The Levetomes|        27888|    42104|    51|\n",
      "|          Snacking|         7852|    49707|    57|\n",
      "+------------------+-------------+---------+------+\n",
      "only showing top 20 rows\n",
      "\n"
     ]
    }
   ],
   "source": [
    "#different Fill na value for different column\n",
    "df1=df.fillna({'Turn_Over':99999,'Annual_Fr_Fee':333333333})\n",
    "df1.show()"
   ]
  },
  {
   "cell_type": "code",
   "execution_count": 31,
   "id": "2eccd573",
   "metadata": {},
   "outputs": [
    {
     "data": {
      "text/plain": [
       "[('Fr_Name', 'string'),\n",
       " ('Annual_Fr_Fee', 'int'),\n",
       " ('Turn_Over', 'int'),\n",
       " ('Emp_No', 'int')]"
      ]
     },
     "execution_count": 31,
     "metadata": {},
     "output_type": "execute_result"
    }
   ],
   "source": [
    "#knowing the data types of columns\n",
    "df.dtypes"
   ]
  },
  {
   "cell_type": "code",
   "execution_count": 33,
   "id": "f78edaf2",
   "metadata": {},
   "outputs": [
    {
     "data": {
      "text/plain": [
       "[('Fr_Name', 'string'),\n",
       " ('Annual_Fr_Fee', 'string'),\n",
       " ('Turn_Over', 'int'),\n",
       " ('Emp_No', 'int')]"
      ]
     },
     "execution_count": 33,
     "metadata": {},
     "output_type": "execute_result"
    }
   ],
   "source": [
    "#casting the datatype\n",
    "from pyspark.sql.functions import col\n",
    "df=df.withColumn('Annual_Fr_Fee',col('Annual_Fr_Fee').cast('string'))\n",
    "df.dtypes"
   ]
  },
  {
   "cell_type": "code",
   "execution_count": 35,
   "id": "c63aa248",
   "metadata": {},
   "outputs": [],
   "source": [
    "#joining pyspark data frame\n",
    "from pyspark.sql import SparkSession"
   ]
  },
  {
   "cell_type": "code",
   "execution_count": 37,
   "id": "2a8aef7b",
   "metadata": {},
   "outputs": [
    {
     "name": "stdout",
     "output_type": "stream",
     "text": [
      "+------+--------+------+-------+\n",
      "|Emp_Id|Emp_Name|Salary|Dept_Id|\n",
      "+------+--------+------+-------+\n",
      "|   100|     Ken| 45000|      2|\n",
      "|   101|     Sam| 50000|      4|\n",
      "|   102| Trudell| 60000|      3|\n",
      "|   103|   Stacy| 80000|      5|\n",
      "|   104|     Joe|110000|      2|\n",
      "|   105|     Ben|150000|      1|\n",
      "|   106|    Coco|200000|      3|\n",
      "|   107| Brigade|300000|      6|\n",
      "|   108|  Salmon|500000|      6|\n",
      "|   109|     Abu|700000|      8|\n",
      "+------+--------+------+-------+\n",
      "\n",
      "+-------+--------------+--------------------+\n",
      "|Dept_Id|     Dept_Name|         Description|\n",
      "+-------+--------------+--------------------+\n",
      "|      1|Top Management|        All the boss|\n",
      "|      2|    Sales Team| The people who sale|\n",
      "|      3|    Operations|The team fascilit...|\n",
      "|      4|      Accounts|      The money guys|\n",
      "|      5|      Strategy|        The planners|\n",
      "|      6|   House Staff|    The actuals gems|\n",
      "|      7|       Interns| Soon to be warriors|\n",
      "+-------+--------------+--------------------+\n",
      "\n"
     ]
    }
   ],
   "source": [
    "spark=SparkSession.builder.appName('Sample').getOrCreate()\n",
    "df1=spark.read.csv('D:\\Data Science\\Data Sets\\Employee_data_join.csv',header=True,inferSchema=True)\n",
    "df2=spark.read.csv('D:\\Data Science\\Data Sets\\Dept_Data_join.csv',header=True,inferSchema=True)\n",
    "df1.show()\n",
    "df2.show()"
   ]
  },
  {
   "cell_type": "code",
   "execution_count": 39,
   "id": "dd7b5a3a",
   "metadata": {},
   "outputs": [
    {
     "name": "stdout",
     "output_type": "stream",
     "text": [
      "+-------+------+--------+------+--------------+--------------------+\n",
      "|Dept_Id|Emp_Id|Emp_Name|Salary|     Dept_Name|         Description|\n",
      "+-------+------+--------+------+--------------+--------------------+\n",
      "|      1|   105|     Ben|150000|Top Management|        All the boss|\n",
      "|      2|   104|     Joe|110000|    Sales Team| The people who sale|\n",
      "|      2|   100|     Ken| 45000|    Sales Team| The people who sale|\n",
      "|      3|   106|    Coco|200000|    Operations|The team fascilit...|\n",
      "|      3|   102| Trudell| 60000|    Operations|The team fascilit...|\n",
      "|      4|   101|     Sam| 50000|      Accounts|      The money guys|\n",
      "|      5|   103|   Stacy| 80000|      Strategy|        The planners|\n",
      "|      6|   108|  Salmon|500000|   House Staff|    The actuals gems|\n",
      "|      6|   107| Brigade|300000|   House Staff|    The actuals gems|\n",
      "+-------+------+--------+------+--------------+--------------------+\n",
      "\n"
     ]
    }
   ],
   "source": [
    "#method 1\n",
    "df3=df1.join(df2,on='Dept_Id',how='inner')\n",
    "df3.show()"
   ]
  },
  {
   "cell_type": "code",
   "execution_count": 40,
   "id": "1b186aec",
   "metadata": {},
   "outputs": [
    {
     "name": "stdout",
     "output_type": "stream",
     "text": [
      "+------+--------+------+-------+-------+--------------+--------------------+\n",
      "|Emp_Id|Emp_Name|Salary|Dept_Id|Dept_Id|     Dept_Name|         Description|\n",
      "+------+--------+------+-------+-------+--------------+--------------------+\n",
      "|   105|     Ben|150000|      1|      1|Top Management|        All the boss|\n",
      "|   104|     Joe|110000|      2|      2|    Sales Team| The people who sale|\n",
      "|   100|     Ken| 45000|      2|      2|    Sales Team| The people who sale|\n",
      "|   106|    Coco|200000|      3|      3|    Operations|The team fascilit...|\n",
      "|   102| Trudell| 60000|      3|      3|    Operations|The team fascilit...|\n",
      "|   101|     Sam| 50000|      4|      4|      Accounts|      The money guys|\n",
      "|   103|   Stacy| 80000|      5|      5|      Strategy|        The planners|\n",
      "|   108|  Salmon|500000|      6|      6|   House Staff|    The actuals gems|\n",
      "|   107| Brigade|300000|      6|      6|   House Staff|    The actuals gems|\n",
      "+------+--------+------+-------+-------+--------------+--------------------+\n",
      "\n"
     ]
    }
   ],
   "source": [
    "#method2\n",
    "df3=df1.join(df2,df1['Dept_Id']==df2['Dept_Id'],how='inner')\n",
    "df3.show()"
   ]
  },
  {
   "cell_type": "code",
   "execution_count": 41,
   "id": "16711252",
   "metadata": {},
   "outputs": [
    {
     "name": "stdout",
     "output_type": "stream",
     "text": [
      "+------+--------+------+--------------+\n",
      "|Emp_Id|Emp_Name|Salary|     Dept_Name|\n",
      "+------+--------+------+--------------+\n",
      "|   100|     Ken| 45000|    Sales Team|\n",
      "|   101|     Sam| 50000|      Accounts|\n",
      "|   102| Trudell| 60000|    Operations|\n",
      "|   103|   Stacy| 80000|      Strategy|\n",
      "|   104|     Joe|110000|    Sales Team|\n",
      "|   105|     Ben|150000|Top Management|\n",
      "|   106|    Coco|200000|    Operations|\n",
      "|   107| Brigade|300000|   House Staff|\n",
      "|   108|  Salmon|500000|   House Staff|\n",
      "+------+--------+------+--------------+\n",
      "\n"
     ]
    }
   ],
   "source": [
    "df4=df3.select('Emp_Id','Emp_Name','Salary','Dept_Name')\n",
    "df4.show()"
   ]
  },
  {
   "cell_type": "code",
   "execution_count": 42,
   "id": "1d692547",
   "metadata": {},
   "outputs": [
    {
     "name": "stdout",
     "output_type": "stream",
     "text": [
      "+------+--------+------+--------------+\n",
      "|Emp_Id|Emp_Name|Salary|     Dept_Name|\n",
      "+------+--------+------+--------------+\n",
      "|   100|     Ken| 45000|    Sales Team|\n",
      "|   101|     Sam| 50000|      Accounts|\n",
      "|   102| Trudell| 60000|    Operations|\n",
      "|   103|   Stacy| 80000|      Strategy|\n",
      "|   104|     Joe|110000|    Sales Team|\n",
      "|   105|     Ben|150000|Top Management|\n",
      "|   106|    Coco|200000|    Operations|\n",
      "|   107| Brigade|300000|   House Staff|\n",
      "|   108|  Salmon|500000|   House Staff|\n",
      "+------+--------+------+--------------+\n",
      "\n"
     ]
    }
   ],
   "source": []
  },
  {
   "cell_type": "code",
   "execution_count": 44,
   "id": "ee7307c3",
   "metadata": {},
   "outputs": [
    {
     "name": "stdout",
     "output_type": "stream",
     "text": [
      "+-------+------+\n",
      "|OrderID|Amount|\n",
      "+-------+------+\n",
      "|  OR100| 25000|\n",
      "|  OR100|  2000|\n",
      "|  OR102| 30000|\n",
      "|  OR103| 45000|\n",
      "|  OR104|  5000|\n",
      "|  OR105|  5000|\n",
      "|  OR105| 15000|\n",
      "|  OR106|  7000|\n",
      "|  OR106|  3000|\n",
      "|  OR106| 20000|\n",
      "+-------+------+\n",
      "\n"
     ]
    }
   ],
   "source": [
    "df1=spark.read.csv('D:\\Data Science\\Data Sets\\Data Sets\\MasterData.csv',header=True,inferSchema=True)\n",
    "df2=df1.select('OrderID','Amount')\n",
    "df2.show()"
   ]
  },
  {
   "cell_type": "code",
   "execution_count": 50,
   "id": "4a355cf3",
   "metadata": {},
   "outputs": [
    {
     "name": "stdout",
     "output_type": "stream",
     "text": [
      "+-------+-----------+\n",
      "|OrderID|sum(Amount)|\n",
      "+-------+-----------+\n",
      "|  OR106|      30000|\n",
      "|  OR105|      20000|\n",
      "|  OR100|      27000|\n",
      "|  OR103|      45000|\n",
      "|  OR104|       5000|\n",
      "|  OR102|      30000|\n",
      "+-------+-----------+\n",
      "\n"
     ]
    }
   ],
   "source": [
    "#Group by\n",
    "from pyspark.sql.functions import sum\n",
    "df_group=df2.groupby('OrderID').agg(sum(('Amount'))).alias(\"New_same\")\n",
    "df_group.show()"
   ]
  },
  {
   "cell_type": "code",
   "execution_count": 51,
   "id": "0da46c25",
   "metadata": {},
   "outputs": [
    {
     "name": "stdout",
     "output_type": "stream",
     "text": [
      "+-------+------+------+\n",
      "|OrderID|Amount|Row_rn|\n",
      "+-------+------+------+\n",
      "|  OR100|  2000|     1|\n",
      "|  OR100| 25000|     2|\n",
      "|  OR102| 30000|     1|\n",
      "|  OR103| 45000|     1|\n",
      "|  OR104|  5000|     1|\n",
      "|  OR105|  5000|     1|\n",
      "|  OR105| 15000|     2|\n",
      "|  OR106|  3000|     1|\n",
      "|  OR106|  7000|     2|\n",
      "|  OR106| 20000|     3|\n",
      "+-------+------+------+\n",
      "\n"
     ]
    }
   ],
   "source": [
    "#Window function\n",
    "from pyspark.sql.window import Window\n",
    "from pyspark.sql import functions as F\n",
    "window_spec=Window.partitionBy('OrderID').orderBy('Amount')\n",
    "\n",
    "df_rn=df2.withColumn('Row_rn',F.row_number().over(window_spec))\n",
    "df_rn.show()"
   ]
  },
  {
   "cell_type": "code",
   "execution_count": 53,
   "id": "f4c42da3",
   "metadata": {},
   "outputs": [
    {
     "name": "stdout",
     "output_type": "stream",
     "text": [
      "+-------+------+-----+----+\n",
      "|OrderID|Amount|   LD|  LG|\n",
      "+-------+------+-----+----+\n",
      "|  OR100|  2000|25000|null|\n",
      "|  OR100| 25000| null|2000|\n",
      "|  OR102| 30000| null|null|\n",
      "|  OR103| 45000| null|null|\n",
      "|  OR104|  5000| null|null|\n",
      "|  OR105|  5000|15000|null|\n",
      "|  OR105| 15000| null|5000|\n",
      "|  OR106|  3000| 7000|null|\n",
      "|  OR106|  7000|20000|3000|\n",
      "|  OR106| 20000| null|7000|\n",
      "+-------+------+-----+----+\n",
      "\n"
     ]
    }
   ],
   "source": [
    "#lead and lag\n",
    "window_spec=Window.partitionBy('OrderID').orderBy('Amount')\n",
    "df_wn=df2.withColumn('LD',F.lead('Amount').over(window_spec)) \\\n",
    "         .withColumn('LG',F.lag('Amount').over(window_spec))\n",
    "df_wn.show()"
   ]
  },
  {
   "cell_type": "code",
   "execution_count": null,
   "id": "d82b6d08",
   "metadata": {},
   "outputs": [],
   "source": []
  }
 ],
 "metadata": {
  "kernelspec": {
   "display_name": "Python 3 (ipykernel)",
   "language": "python",
   "name": "python3"
  },
  "language_info": {
   "codemirror_mode": {
    "name": "ipython",
    "version": 3
   },
   "file_extension": ".py",
   "mimetype": "text/x-python",
   "name": "python",
   "nbconvert_exporter": "python",
   "pygments_lexer": "ipython3",
   "version": "3.9.7"
  }
 },
 "nbformat": 4,
 "nbformat_minor": 5
}
