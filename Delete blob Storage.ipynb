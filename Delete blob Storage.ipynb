{
 "cells": [
  {
   "cell_type": "code",
   "execution_count": 1,
   "id": "78cf4cea",
   "metadata": {},
   "outputs": [],
   "source": [
    "#Testing Blob Delete\n",
    "\n",
    "from azure.storage.blob import BlobServiceClient, BlobClient, ContainerClient, __version__"
   ]
  },
  {
   "cell_type": "code",
   "execution_count": 2,
   "id": "88e81633",
   "metadata": {},
   "outputs": [],
   "source": [
    "CONNECTION_STRING=\"DefaultEndpointsProtocol=https;AccountName=aepdata;AccountKey=vAg0yQrQM7PQzZWnSJg6s3RSsYsvSYVWLj0FyB67yrgjoXt4a++h0hf090uEIeSTRd0wzxvPV7N6+AStflik3Q==;EndpointSuffix=core.windows.net\"\n",
    "source_container_name=\"aep-training-data\"\n",
    "\n",
    "source_file_path=\"Dump1/Bad Record Set.csv\"\n",
    "\n",
    "account_name = \"aepdata\"\n",
    "\n",
    "blob_service_client = BlobServiceClient.from_connection_string(CONNECTION_STRING)\n",
    "\n",
    "remove_blob = blob_service_client.get_blob_client(source_container_name, source_file_path)\n",
    "remove_blob.delete_blob()"
   ]
  },
  {
   "cell_type": "code",
   "execution_count": null,
   "id": "25548fdb",
   "metadata": {},
   "outputs": [],
   "source": []
  }
 ],
 "metadata": {
  "kernelspec": {
   "display_name": "Python 3 (ipykernel)",
   "language": "python",
   "name": "python3"
  },
  "language_info": {
   "codemirror_mode": {
    "name": "ipython",
    "version": 3
   },
   "file_extension": ".py",
   "mimetype": "text/x-python",
   "name": "python",
   "nbconvert_exporter": "python",
   "pygments_lexer": "ipython3",
   "version": "3.9.7"
  }
 },
 "nbformat": 4,
 "nbformat_minor": 5
}
