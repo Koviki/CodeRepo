{
 "cells": [
  {
   "cell_type": "code",
   "execution_count": 9,
   "id": "e48c4af3",
   "metadata": {},
   "outputs": [],
   "source": [
    "import tweepy\n",
    "import pandas as pd \n",
    "import json\n",
    "from datetime import datetime\n",
    "import s3fs \n",
    "\n",
    "def run_twitter_etl():\n",
    "    consumer_key = \"*******\" \n",
    "    consumer_secret = \"*******\" \n",
    "    access_key = \"*******\"\n",
    "    access_secret = \"*******\"\n",
    "    \n",
    "    # Twitter authentication\n",
    "    auth = tweepy.OAuthHandler(access_key, access_secret)   \n",
    "    auth.set_access_token(consumer_key, consumer_secret) \n",
    "\n",
    "    # # # Creating an API object \n",
    "    api = tweepy.API(auth)\n",
    "    tweets = api.user_timeline(screen_name='@elonmusk', \n",
    "                            # 200 is the maximum allowed count\n",
    "                            count=5,\n",
    "                            include_rts = False,\n",
    "                            # Necessary to keep full_text \n",
    "                            # otherwise only the first 140 words are extracted\n",
    "                            tweet_mode = 'extended'\n",
    "                            )\n",
    "\n",
    "    list = []\n",
    "    for tweet in tweets:\n",
    "        text = tweet._json[\"full_text\"]\n",
    "\n",
    "        refined_tweet = {\"user\": tweet.user.screen_name,\n",
    "                        'text' : text,\n",
    "                        'favorite_count' : tweet.favorite_count,\n",
    "                        'retweet_count' : tweet.retweet_count,\n",
    "                        'created_at' : tweet.created_at}\n",
    "        \n",
    "        list.append(refined_tweet)\n",
    "\n",
    "    df = pd.DataFrame(list)\n",
    "    df.to_csv('D://refined_tweets.csv')\n"
   ]
  },
  {
   "cell_type": "code",
   "execution_count": null,
   "id": "2ffaba85",
   "metadata": {},
   "outputs": [],
   "source": [
    "run_twitter_etl()"
   ]
  },
  {
   "cell_type": "code",
   "execution_count": null,
   "id": "dd060400",
   "metadata": {},
   "outputs": [],
   "source": []
  }
 ],
 "metadata": {
  "kernelspec": {
   "display_name": "Python 3 (ipykernel)",
   "language": "python",
   "name": "python3"
  },
  "language_info": {
   "codemirror_mode": {
    "name": "ipython",
    "version": 3
   },
   "file_extension": ".py",
   "mimetype": "text/x-python",
   "name": "python",
   "nbconvert_exporter": "python",
   "pygments_lexer": "ipython3",
   "version": "3.9.7"
  }
 },
 "nbformat": 4,
 "nbformat_minor": 5
}
