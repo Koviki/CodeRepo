{
 "cells": [
  {
   "cell_type": "markdown",
   "id": "a9aec464",
   "metadata": {},
   "source": [
    "# Tutorial for Scikit Learn"
   ]
  },
  {
   "cell_type": "markdown",
   "id": "f55cc36d",
   "metadata": {},
   "source": [
    "<b>PreProcessing</b>"
   ]
  },
  {
   "cell_type": "code",
   "execution_count": 1,
   "id": "d7a0b8fe",
   "metadata": {},
   "outputs": [],
   "source": [
    "import sklearn.preprocessing"
   ]
  },
  {
   "cell_type": "code",
   "execution_count": 2,
   "id": "f9dfbddf",
   "metadata": {},
   "outputs": [],
   "source": [
    "from sklearn import preprocessing"
   ]
  },
  {
   "cell_type": "code",
   "execution_count": 11,
   "id": "0c0d9aeb",
   "metadata": {},
   "outputs": [],
   "source": [
    "import numpy as np\n",
    "import matplotlib.pyplot as p"
   ]
  },
  {
   "cell_type": "code",
   "execution_count": 6,
   "id": "2b927ffe",
   "metadata": {},
   "outputs": [],
   "source": [
    "X_train = np.array ([[1,-1,2],\n",
    "                    [2,0,0],\n",
    "                    [0,1,-1]]\n",
    ")"
   ]
  },
  {
   "cell_type": "code",
   "execution_count": 7,
   "id": "09ac66d4",
   "metadata": {},
   "outputs": [
    {
     "data": {
      "text/plain": [
       "array([[ 1, -1,  2],\n",
       "       [ 2,  0,  0],\n",
       "       [ 0,  1, -1]])"
      ]
     },
     "execution_count": 7,
     "metadata": {},
     "output_type": "execute_result"
    }
   ],
   "source": [
    "X_train"
   ]
  },
  {
   "cell_type": "code",
   "execution_count": 8,
   "id": "d1e88e31",
   "metadata": {},
   "outputs": [
    {
     "data": {
      "text/plain": [
       "array([[ 0.        , -1.22474487,  1.33630621],\n",
       "       [ 1.22474487,  0.        , -0.26726124],\n",
       "       [-1.22474487,  1.22474487, -1.06904497]])"
      ]
     },
     "execution_count": 8,
     "metadata": {},
     "output_type": "execute_result"
    }
   ],
   "source": [
    "X_scaled = preprocessing.scale(X_train)\n",
    "X_scaled"
   ]
  },
  {
   "cell_type": "code",
   "execution_count": 10,
   "id": "ef53155c",
   "metadata": {},
   "outputs": [
    {
     "data": {
      "text/plain": [
       "array([0., 0., 0.])"
      ]
     },
     "execution_count": 10,
     "metadata": {},
     "output_type": "execute_result"
    }
   ],
   "source": [
    "X_scaled.mean(axis=0)"
   ]
  },
  {
   "cell_type": "code",
   "execution_count": 12,
   "id": "42d92106",
   "metadata": {},
   "outputs": [
    {
     "data": {
      "text/plain": [
       "array([1., 1., 1.])"
      ]
     },
     "execution_count": 12,
     "metadata": {},
     "output_type": "execute_result"
    }
   ],
   "source": [
    "X_scaled.std(axis=0)"
   ]
  },
  {
   "cell_type": "markdown",
   "id": "336a3b8e",
   "metadata": {},
   "source": [
    "<b>Min Max Scalar</b>"
   ]
  },
  {
   "cell_type": "code",
   "execution_count": 13,
   "id": "fb4d68ae",
   "metadata": {},
   "outputs": [],
   "source": [
    "#Highest value will be considered as 1 and the lowest will be considered as 0. Likewise rest of the data will be scaled."
   ]
  },
  {
   "cell_type": "code",
   "execution_count": 14,
   "id": "38e10ceb",
   "metadata": {},
   "outputs": [
    {
     "data": {
      "text/plain": [
       "array([[ 15,  -1,   2],\n",
       "       [  2,   0,   0],\n",
       "       [  0,   1, -44]])"
      ]
     },
     "execution_count": 14,
     "metadata": {},
     "output_type": "execute_result"
    }
   ],
   "source": [
    "X_train1 = np.array ([[15,-1,2],\n",
    "                    [2,0,0],\n",
    "                    [0,1,-44]]\n",
    ")\n",
    "X_train1"
   ]
  },
  {
   "cell_type": "code",
   "execution_count": 15,
   "id": "4e4b2e6b",
   "metadata": {},
   "outputs": [
    {
     "data": {
      "text/plain": [
       "array([[1.        , 0.        , 1.        ],\n",
       "       [0.13333333, 0.5       , 0.95652174],\n",
       "       [0.        , 1.        , 0.        ]])"
      ]
     },
     "execution_count": 15,
     "metadata": {},
     "output_type": "execute_result"
    }
   ],
   "source": [
    "min_max_scalar = preprocessing.MinMaxScaler()\n",
    "X_train_min_max = min_max_scalar.fit_transform(X_train1)\n",
    "X_train_min_max"
   ]
  },
  {
   "cell_type": "code",
   "execution_count": 16,
   "id": "bc9ed297",
   "metadata": {},
   "outputs": [
    {
     "data": {
      "text/plain": [
       "array([[1.        , 0.        , 1.        ],\n",
       "       [0.13333333, 0.5       , 0.95652174],\n",
       "       [0.        , 1.        , 0.        ]])"
      ]
     },
     "execution_count": 16,
     "metadata": {},
     "output_type": "execute_result"
    }
   ],
   "source": [
    "X_train_min_max = preprocessing.MinMaxScaler().fit_transform(X_train1)\n",
    "X_train_min_max "
   ]
  },
  {
   "cell_type": "code",
   "execution_count": 17,
   "id": "b330af59",
   "metadata": {},
   "outputs": [],
   "source": [
    "#both the codes in Ln 15 and Ln 16 are same."
   ]
  },
  {
   "cell_type": "markdown",
   "id": "6540fa31",
   "metadata": {},
   "source": [
    "<b>Normalization</b>"
   ]
  },
  {
   "cell_type": "code",
   "execution_count": 18,
   "id": "b00478bf",
   "metadata": {},
   "outputs": [],
   "source": [
    "#Scaling train samples to unit norms"
   ]
  },
  {
   "cell_type": "code",
   "execution_count": 20,
   "id": "942c4407",
   "metadata": {},
   "outputs": [
    {
     "data": {
      "text/plain": [
       "array([[ 0.40824829, -0.40824829,  0.81649658],\n",
       "       [ 1.        ,  0.        ,  0.        ],\n",
       "       [ 0.        ,  0.70710678, -0.70710678]])"
      ]
     },
     "execution_count": 20,
     "metadata": {},
     "output_type": "execute_result"
    }
   ],
   "source": [
    "X_normalized = preprocessing.normalize(X_train,norm='l2')\n",
    "X_normalized"
   ]
  },
  {
   "cell_type": "markdown",
   "id": "2ee75dd6",
   "metadata": {},
   "source": [
    "<b>Encoding Categorical Value</b>"
   ]
  },
  {
   "cell_type": "code",
   "execution_count": 29,
   "id": "2ff9e67c",
   "metadata": {},
   "outputs": [],
   "source": [
    "#Alphabetically the values are designated. if its Male and Female, the since F comes before M Female will be 0 and Male will be 1"
   ]
  },
  {
   "cell_type": "code",
   "execution_count": 23,
   "id": "5c7fe2a4",
   "metadata": {},
   "outputs": [
    {
     "data": {
      "text/plain": [
       "OrdinalEncoder()"
      ]
     },
     "execution_count": 23,
     "metadata": {},
     "output_type": "execute_result"
    }
   ],
   "source": [
    "enc = preprocessing.OrdinalEncoder()\n",
    "X=[['Male','Ken','32'],['Female','Koyal','28']]\n",
    "enc.fit(X)"
   ]
  },
  {
   "cell_type": "code",
   "execution_count": 28,
   "id": "3d124e54",
   "metadata": {},
   "outputs": [
    {
     "data": {
      "text/plain": [
       "array([[1., 0., 1.]])"
      ]
     },
     "execution_count": 28,
     "metadata": {},
     "output_type": "execute_result"
    }
   ],
   "source": [
    "enc.transform([['Male','Ken','32']])"
   ]
  },
  {
   "cell_type": "markdown",
   "id": "71664e15",
   "metadata": {},
   "source": [
    "<b>One Hot Encoding</b>"
   ]
  },
  {
   "cell_type": "code",
   "execution_count": 31,
   "id": "0d81b7c1",
   "metadata": {},
   "outputs": [],
   "source": [
    "#Converts the string values into a combinations of 1 and 0"
   ]
  },
  {
   "cell_type": "code",
   "execution_count": 32,
   "id": "cbefc483",
   "metadata": {},
   "outputs": [
    {
     "data": {
      "text/plain": [
       "array([[0., 0., 1.],\n",
       "       [0., 1., 0.],\n",
       "       [1., 0., 0.]])"
      ]
     },
     "execution_count": 32,
     "metadata": {},
     "output_type": "execute_result"
    }
   ],
   "source": [
    "from sklearn.feature_extraction import DictVectorizer\n",
    "onehot_encoder = DictVectorizer()\n",
    "instances = [\n",
    "            {'state':'West Bengal'},\n",
    "            {'state':'Tamil Nadu'},\n",
    "            {'state':'Kashmir'}\n",
    "]\n",
    "onehot_encoder.fit_transform(instances).toarray()"
   ]
  },
  {
   "cell_type": "markdown",
   "id": "ab212148",
   "metadata": {},
   "source": [
    "<b>Handling Missing Values</b>"
   ]
  },
  {
   "cell_type": "code",
   "execution_count": 33,
   "id": "6595aa51",
   "metadata": {},
   "outputs": [
    {
     "data": {
      "text/html": [
       "<div>\n",
       "<style scoped>\n",
       "    .dataframe tbody tr th:only-of-type {\n",
       "        vertical-align: middle;\n",
       "    }\n",
       "\n",
       "    .dataframe tbody tr th {\n",
       "        vertical-align: top;\n",
       "    }\n",
       "\n",
       "    .dataframe thead th {\n",
       "        text-align: right;\n",
       "    }\n",
       "</style>\n",
       "<table border=\"1\" class=\"dataframe\">\n",
       "  <thead>\n",
       "    <tr style=\"text-align: right;\">\n",
       "      <th></th>\n",
       "      <th>0</th>\n",
       "      <th>1</th>\n",
       "    </tr>\n",
       "  </thead>\n",
       "  <tbody>\n",
       "    <tr>\n",
       "      <th>0</th>\n",
       "      <td>as</td>\n",
       "      <td>df</td>\n",
       "    </tr>\n",
       "    <tr>\n",
       "      <th>1</th>\n",
       "      <td>NaN</td>\n",
       "      <td>sr</td>\n",
       "    </tr>\n",
       "    <tr>\n",
       "      <th>2</th>\n",
       "      <td>qd</td>\n",
       "      <td>NaN</td>\n",
       "    </tr>\n",
       "  </tbody>\n",
       "</table>\n",
       "</div>"
      ],
      "text/plain": [
       "     0    1\n",
       "0   as   df\n",
       "1  NaN   sr\n",
       "2   qd  NaN"
      ]
     },
     "execution_count": 33,
     "metadata": {},
     "output_type": "execute_result"
    }
   ],
   "source": [
    "import pandas as pd\n",
    "df = pd.DataFrame ([[\"as\",\"df\"],\n",
    "                   [np.nan,\"sr\"],\n",
    "                   [\"qd\",np.nan]])\n",
    "df"
   ]
  },
  {
   "cell_type": "code",
   "execution_count": 35,
   "id": "35648443",
   "metadata": {},
   "outputs": [
    {
     "data": {
      "text/plain": [
       "array([['as', 'df'],\n",
       "       ['as', 'sr'],\n",
       "       ['qd', 'df']], dtype=object)"
      ]
     },
     "execution_count": 35,
     "metadata": {},
     "output_type": "execute_result"
    }
   ],
   "source": [
    "from sklearn.impute import SimpleImputer\n",
    "imp=SimpleImputer(missing_values=np.nan, strategy=\"most_frequent\")\n",
    "imp.fit_transform(df)"
   ]
  },
  {
   "cell_type": "markdown",
   "id": "27e0fd1a",
   "metadata": {},
   "source": [
    "<b>Reading the data</b>"
   ]
  },
  {
   "cell_type": "code",
   "execution_count": 1,
   "id": "bd07cdb1",
   "metadata": {},
   "outputs": [
    {
     "data": {
      "text/html": [
       "<div>\n",
       "<style scoped>\n",
       "    .dataframe tbody tr th:only-of-type {\n",
       "        vertical-align: middle;\n",
       "    }\n",
       "\n",
       "    .dataframe tbody tr th {\n",
       "        vertical-align: top;\n",
       "    }\n",
       "\n",
       "    .dataframe thead th {\n",
       "        text-align: right;\n",
       "    }\n",
       "</style>\n",
       "<table border=\"1\" class=\"dataframe\">\n",
       "  <thead>\n",
       "    <tr style=\"text-align: right;\">\n",
       "      <th></th>\n",
       "      <th>Fr_Name</th>\n",
       "      <th>Annual_Fr_Fee</th>\n",
       "      <th>Turn_Over</th>\n",
       "      <th>Emp_No</th>\n",
       "    </tr>\n",
       "  </thead>\n",
       "  <tbody>\n",
       "    <tr>\n",
       "      <th>0</th>\n",
       "      <td>AB Corps</td>\n",
       "      <td>10000</td>\n",
       "      <td>25000</td>\n",
       "      <td>10</td>\n",
       "    </tr>\n",
       "    <tr>\n",
       "      <th>1</th>\n",
       "      <td>Signet</td>\n",
       "      <td>12000</td>\n",
       "      <td>30000</td>\n",
       "      <td>12</td>\n",
       "    </tr>\n",
       "    <tr>\n",
       "      <th>2</th>\n",
       "      <td>Focus</td>\n",
       "      <td>15000</td>\n",
       "      <td>40000</td>\n",
       "      <td>13</td>\n",
       "    </tr>\n",
       "    <tr>\n",
       "      <th>3</th>\n",
       "      <td>Dry Pizz</td>\n",
       "      <td>20000</td>\n",
       "      <td>35000</td>\n",
       "      <td>10</td>\n",
       "    </tr>\n",
       "    <tr>\n",
       "      <th>4</th>\n",
       "      <td>Good Rays</td>\n",
       "      <td>22000</td>\n",
       "      <td>50000</td>\n",
       "      <td>20</td>\n",
       "    </tr>\n",
       "    <tr>\n",
       "      <th>5</th>\n",
       "      <td>Head Lickers</td>\n",
       "      <td>23500</td>\n",
       "      <td>45000</td>\n",
       "      <td>18</td>\n",
       "    </tr>\n",
       "    <tr>\n",
       "      <th>6</th>\n",
       "      <td>Dress Foods</td>\n",
       "      <td>25000</td>\n",
       "      <td>55000</td>\n",
       "      <td>19</td>\n",
       "    </tr>\n",
       "    <tr>\n",
       "      <th>7</th>\n",
       "      <td>Careo</td>\n",
       "      <td>18000</td>\n",
       "      <td>35000</td>\n",
       "      <td>21</td>\n",
       "    </tr>\n",
       "    <tr>\n",
       "      <th>8</th>\n",
       "      <td>Bingo</td>\n",
       "      <td>17000</td>\n",
       "      <td>23000</td>\n",
       "      <td>11</td>\n",
       "    </tr>\n",
       "    <tr>\n",
       "      <th>9</th>\n",
       "      <td>Crunchies</td>\n",
       "      <td>10200</td>\n",
       "      <td>19000</td>\n",
       "      <td>9</td>\n",
       "    </tr>\n",
       "    <tr>\n",
       "      <th>10</th>\n",
       "      <td>Cheesy King</td>\n",
       "      <td>35000</td>\n",
       "      <td>45000</td>\n",
       "      <td>20</td>\n",
       "    </tr>\n",
       "    <tr>\n",
       "      <th>11</th>\n",
       "      <td>Burgors</td>\n",
       "      <td>23000</td>\n",
       "      <td>35000</td>\n",
       "      <td>16</td>\n",
       "    </tr>\n",
       "    <tr>\n",
       "      <th>12</th>\n",
       "      <td>UrbFoods</td>\n",
       "      <td>37000</td>\n",
       "      <td>45000</td>\n",
       "      <td>23</td>\n",
       "    </tr>\n",
       "    <tr>\n",
       "      <th>13</th>\n",
       "      <td>CareSome</td>\n",
       "      <td>21000</td>\n",
       "      <td>23000</td>\n",
       "      <td>14</td>\n",
       "    </tr>\n",
       "  </tbody>\n",
       "</table>\n",
       "</div>"
      ],
      "text/plain": [
       "         Fr_Name  Annual_Fr_Fee  Turn_Over  Emp_No\n",
       "0       AB Corps          10000      25000      10\n",
       "1         Signet          12000      30000      12\n",
       "2          Focus          15000      40000      13\n",
       "3       Dry Pizz          20000      35000      10\n",
       "4      Good Rays          22000      50000      20\n",
       "5   Head Lickers          23500      45000      18\n",
       "6    Dress Foods          25000      55000      19\n",
       "7          Careo          18000      35000      21\n",
       "8          Bingo          17000      23000      11\n",
       "9      Crunchies          10200      19000       9\n",
       "10   Cheesy King          35000      45000      20\n",
       "11       Burgors          23000      35000      16\n",
       "12      UrbFoods          37000      45000      23\n",
       "13      CareSome          21000      23000      14"
      ]
     },
     "execution_count": 1,
     "metadata": {},
     "output_type": "execute_result"
    }
   ],
   "source": [
    "import pandas as pd\n",
    "df=pd.read_csv(\"D:\\Data Science\\Sales Data.csv\")\n",
    "df.head(20)"
   ]
  },
  {
   "cell_type": "markdown",
   "id": "8ad4fff8",
   "metadata": {},
   "source": [
    "<b>Understanding Loc function</b>"
   ]
  },
  {
   "cell_type": "code",
   "execution_count": 39,
   "id": "aae2575a",
   "metadata": {},
   "outputs": [
    {
     "data": {
      "text/plain": [
       "Fr_Name          Focus\n",
       "Annual_Fr_Fee    15000\n",
       "Turn_Over        40000\n",
       "Emp_No              13\n",
       "Name: 2, dtype: object"
      ]
     },
     "execution_count": 39,
     "metadata": {},
     "output_type": "execute_result"
    }
   ],
   "source": [
    "df.loc[2,:] #row number is the first parameter and : is for all columns"
   ]
  },
  {
   "cell_type": "code",
   "execution_count": 40,
   "id": "ea9f2764",
   "metadata": {},
   "outputs": [
    {
     "data": {
      "text/html": [
       "<div>\n",
       "<style scoped>\n",
       "    .dataframe tbody tr th:only-of-type {\n",
       "        vertical-align: middle;\n",
       "    }\n",
       "\n",
       "    .dataframe tbody tr th {\n",
       "        vertical-align: top;\n",
       "    }\n",
       "\n",
       "    .dataframe thead th {\n",
       "        text-align: right;\n",
       "    }\n",
       "</style>\n",
       "<table border=\"1\" class=\"dataframe\">\n",
       "  <thead>\n",
       "    <tr style=\"text-align: right;\">\n",
       "      <th></th>\n",
       "      <th>Fr_Name</th>\n",
       "      <th>Annual_Fr_Fee</th>\n",
       "      <th>Turn_Over</th>\n",
       "      <th>Emp_No</th>\n",
       "    </tr>\n",
       "  </thead>\n",
       "  <tbody>\n",
       "    <tr>\n",
       "      <th>0</th>\n",
       "      <td>AB Corps</td>\n",
       "      <td>10000</td>\n",
       "      <td>25000</td>\n",
       "      <td>10</td>\n",
       "    </tr>\n",
       "    <tr>\n",
       "      <th>1</th>\n",
       "      <td>Signet</td>\n",
       "      <td>12000</td>\n",
       "      <td>30000</td>\n",
       "      <td>12</td>\n",
       "    </tr>\n",
       "    <tr>\n",
       "      <th>12</th>\n",
       "      <td>UrbFoods</td>\n",
       "      <td>37000</td>\n",
       "      <td>45000</td>\n",
       "      <td>23</td>\n",
       "    </tr>\n",
       "  </tbody>\n",
       "</table>\n",
       "</div>"
      ],
      "text/plain": [
       "     Fr_Name  Annual_Fr_Fee  Turn_Over  Emp_No\n",
       "0   AB Corps          10000      25000      10\n",
       "1     Signet          12000      30000      12\n",
       "12  UrbFoods          37000      45000      23"
      ]
     },
     "execution_count": 40,
     "metadata": {},
     "output_type": "execute_result"
    }
   ],
   "source": [
    "df.loc[[0,1,12],:] #selecting rows 0,1,12 and all columns"
   ]
  },
  {
   "cell_type": "code",
   "execution_count": 41,
   "id": "70ec2255",
   "metadata": {},
   "outputs": [
    {
     "data": {
      "text/html": [
       "<div>\n",
       "<style scoped>\n",
       "    .dataframe tbody tr th:only-of-type {\n",
       "        vertical-align: middle;\n",
       "    }\n",
       "\n",
       "    .dataframe tbody tr th {\n",
       "        vertical-align: top;\n",
       "    }\n",
       "\n",
       "    .dataframe thead th {\n",
       "        text-align: right;\n",
       "    }\n",
       "</style>\n",
       "<table border=\"1\" class=\"dataframe\">\n",
       "  <thead>\n",
       "    <tr style=\"text-align: right;\">\n",
       "      <th></th>\n",
       "      <th>Fr_Name</th>\n",
       "      <th>Annual_Fr_Fee</th>\n",
       "      <th>Turn_Over</th>\n",
       "      <th>Emp_No</th>\n",
       "    </tr>\n",
       "  </thead>\n",
       "  <tbody>\n",
       "    <tr>\n",
       "      <th>0</th>\n",
       "      <td>AB Corps</td>\n",
       "      <td>10000</td>\n",
       "      <td>25000</td>\n",
       "      <td>10</td>\n",
       "    </tr>\n",
       "    <tr>\n",
       "      <th>1</th>\n",
       "      <td>Signet</td>\n",
       "      <td>12000</td>\n",
       "      <td>30000</td>\n",
       "      <td>12</td>\n",
       "    </tr>\n",
       "    <tr>\n",
       "      <th>2</th>\n",
       "      <td>Focus</td>\n",
       "      <td>15000</td>\n",
       "      <td>40000</td>\n",
       "      <td>13</td>\n",
       "    </tr>\n",
       "    <tr>\n",
       "      <th>3</th>\n",
       "      <td>Dry Pizz</td>\n",
       "      <td>20000</td>\n",
       "      <td>35000</td>\n",
       "      <td>10</td>\n",
       "    </tr>\n",
       "    <tr>\n",
       "      <th>4</th>\n",
       "      <td>Good Rays</td>\n",
       "      <td>22000</td>\n",
       "      <td>50000</td>\n",
       "      <td>20</td>\n",
       "    </tr>\n",
       "    <tr>\n",
       "      <th>5</th>\n",
       "      <td>Head Lickers</td>\n",
       "      <td>23500</td>\n",
       "      <td>45000</td>\n",
       "      <td>18</td>\n",
       "    </tr>\n",
       "  </tbody>\n",
       "</table>\n",
       "</div>"
      ],
      "text/plain": [
       "        Fr_Name  Annual_Fr_Fee  Turn_Over  Emp_No\n",
       "0      AB Corps          10000      25000      10\n",
       "1        Signet          12000      30000      12\n",
       "2         Focus          15000      40000      13\n",
       "3      Dry Pizz          20000      35000      10\n",
       "4     Good Rays          22000      50000      20\n",
       "5  Head Lickers          23500      45000      18"
      ]
     },
     "execution_count": 41,
     "metadata": {},
     "output_type": "execute_result"
    }
   ],
   "source": [
    "df.loc[0:5,:] #selecting rows from 0th to 5th and all columns"
   ]
  },
  {
   "cell_type": "code",
   "execution_count": 42,
   "id": "7b51d3b6",
   "metadata": {},
   "outputs": [
    {
     "data": {
      "text/plain": [
       "0     25000\n",
       "1     30000\n",
       "2     40000\n",
       "3     35000\n",
       "4     50000\n",
       "5     45000\n",
       "6     55000\n",
       "7     35000\n",
       "8     23000\n",
       "9     19000\n",
       "10    45000\n",
       "11    35000\n",
       "12    45000\n",
       "13    23000\n",
       "Name: Turn_Over, dtype: int64"
      ]
     },
     "execution_count": 42,
     "metadata": {},
     "output_type": "execute_result"
    }
   ],
   "source": [
    "df.loc[:,'Turn_Over'] #all rows but only one column Turn_Over"
   ]
  },
  {
   "cell_type": "code",
   "execution_count": 44,
   "id": "9440b3f9",
   "metadata": {},
   "outputs": [
    {
     "data": {
      "text/html": [
       "<div>\n",
       "<style scoped>\n",
       "    .dataframe tbody tr th:only-of-type {\n",
       "        vertical-align: middle;\n",
       "    }\n",
       "\n",
       "    .dataframe tbody tr th {\n",
       "        vertical-align: top;\n",
       "    }\n",
       "\n",
       "    .dataframe thead th {\n",
       "        text-align: right;\n",
       "    }\n",
       "</style>\n",
       "<table border=\"1\" class=\"dataframe\">\n",
       "  <thead>\n",
       "    <tr style=\"text-align: right;\">\n",
       "      <th></th>\n",
       "      <th>Fr_Name</th>\n",
       "      <th>Turn_Over</th>\n",
       "    </tr>\n",
       "  </thead>\n",
       "  <tbody>\n",
       "    <tr>\n",
       "      <th>0</th>\n",
       "      <td>AB Corps</td>\n",
       "      <td>25000</td>\n",
       "    </tr>\n",
       "    <tr>\n",
       "      <th>1</th>\n",
       "      <td>Signet</td>\n",
       "      <td>30000</td>\n",
       "    </tr>\n",
       "    <tr>\n",
       "      <th>2</th>\n",
       "      <td>Focus</td>\n",
       "      <td>40000</td>\n",
       "    </tr>\n",
       "    <tr>\n",
       "      <th>3</th>\n",
       "      <td>Dry Pizz</td>\n",
       "      <td>35000</td>\n",
       "    </tr>\n",
       "    <tr>\n",
       "      <th>4</th>\n",
       "      <td>Good Rays</td>\n",
       "      <td>50000</td>\n",
       "    </tr>\n",
       "    <tr>\n",
       "      <th>5</th>\n",
       "      <td>Head Lickers</td>\n",
       "      <td>45000</td>\n",
       "    </tr>\n",
       "    <tr>\n",
       "      <th>6</th>\n",
       "      <td>Dress Foods</td>\n",
       "      <td>55000</td>\n",
       "    </tr>\n",
       "    <tr>\n",
       "      <th>7</th>\n",
       "      <td>Careo</td>\n",
       "      <td>35000</td>\n",
       "    </tr>\n",
       "    <tr>\n",
       "      <th>8</th>\n",
       "      <td>Bingo</td>\n",
       "      <td>23000</td>\n",
       "    </tr>\n",
       "    <tr>\n",
       "      <th>9</th>\n",
       "      <td>Crunchies</td>\n",
       "      <td>19000</td>\n",
       "    </tr>\n",
       "    <tr>\n",
       "      <th>10</th>\n",
       "      <td>Cheesy King</td>\n",
       "      <td>45000</td>\n",
       "    </tr>\n",
       "    <tr>\n",
       "      <th>11</th>\n",
       "      <td>Burgors</td>\n",
       "      <td>35000</td>\n",
       "    </tr>\n",
       "    <tr>\n",
       "      <th>12</th>\n",
       "      <td>UrbFoods</td>\n",
       "      <td>45000</td>\n",
       "    </tr>\n",
       "    <tr>\n",
       "      <th>13</th>\n",
       "      <td>CareSome</td>\n",
       "      <td>23000</td>\n",
       "    </tr>\n",
       "  </tbody>\n",
       "</table>\n",
       "</div>"
      ],
      "text/plain": [
       "         Fr_Name  Turn_Over\n",
       "0       AB Corps      25000\n",
       "1         Signet      30000\n",
       "2          Focus      40000\n",
       "3       Dry Pizz      35000\n",
       "4      Good Rays      50000\n",
       "5   Head Lickers      45000\n",
       "6    Dress Foods      55000\n",
       "7          Careo      35000\n",
       "8          Bingo      23000\n",
       "9      Crunchies      19000\n",
       "10   Cheesy King      45000\n",
       "11       Burgors      35000\n",
       "12      UrbFoods      45000\n",
       "13      CareSome      23000"
      ]
     },
     "execution_count": 44,
     "metadata": {},
     "output_type": "execute_result"
    }
   ],
   "source": [
    "df.loc[:,['Fr_Name','Turn_Over']] #All rows and a few columns"
   ]
  },
  {
   "cell_type": "code",
   "execution_count": 46,
   "id": "e938664d",
   "metadata": {},
   "outputs": [
    {
     "data": {
      "text/html": [
       "<div>\n",
       "<style scoped>\n",
       "    .dataframe tbody tr th:only-of-type {\n",
       "        vertical-align: middle;\n",
       "    }\n",
       "\n",
       "    .dataframe tbody tr th {\n",
       "        vertical-align: top;\n",
       "    }\n",
       "\n",
       "    .dataframe thead th {\n",
       "        text-align: right;\n",
       "    }\n",
       "</style>\n",
       "<table border=\"1\" class=\"dataframe\">\n",
       "  <thead>\n",
       "    <tr style=\"text-align: right;\">\n",
       "      <th></th>\n",
       "      <th>Fr_Name</th>\n",
       "      <th>Annual_Fr_Fee</th>\n",
       "      <th>Turn_Over</th>\n",
       "    </tr>\n",
       "  </thead>\n",
       "  <tbody>\n",
       "    <tr>\n",
       "      <th>0</th>\n",
       "      <td>AB Corps</td>\n",
       "      <td>10000</td>\n",
       "      <td>25000</td>\n",
       "    </tr>\n",
       "    <tr>\n",
       "      <th>1</th>\n",
       "      <td>Signet</td>\n",
       "      <td>12000</td>\n",
       "      <td>30000</td>\n",
       "    </tr>\n",
       "    <tr>\n",
       "      <th>2</th>\n",
       "      <td>Focus</td>\n",
       "      <td>15000</td>\n",
       "      <td>40000</td>\n",
       "    </tr>\n",
       "    <tr>\n",
       "      <th>3</th>\n",
       "      <td>Dry Pizz</td>\n",
       "      <td>20000</td>\n",
       "      <td>35000</td>\n",
       "    </tr>\n",
       "    <tr>\n",
       "      <th>4</th>\n",
       "      <td>Good Rays</td>\n",
       "      <td>22000</td>\n",
       "      <td>50000</td>\n",
       "    </tr>\n",
       "    <tr>\n",
       "      <th>5</th>\n",
       "      <td>Head Lickers</td>\n",
       "      <td>23500</td>\n",
       "      <td>45000</td>\n",
       "    </tr>\n",
       "    <tr>\n",
       "      <th>6</th>\n",
       "      <td>Dress Foods</td>\n",
       "      <td>25000</td>\n",
       "      <td>55000</td>\n",
       "    </tr>\n",
       "    <tr>\n",
       "      <th>7</th>\n",
       "      <td>Careo</td>\n",
       "      <td>18000</td>\n",
       "      <td>35000</td>\n",
       "    </tr>\n",
       "    <tr>\n",
       "      <th>8</th>\n",
       "      <td>Bingo</td>\n",
       "      <td>17000</td>\n",
       "      <td>23000</td>\n",
       "    </tr>\n",
       "    <tr>\n",
       "      <th>9</th>\n",
       "      <td>Crunchies</td>\n",
       "      <td>10200</td>\n",
       "      <td>19000</td>\n",
       "    </tr>\n",
       "    <tr>\n",
       "      <th>10</th>\n",
       "      <td>Cheesy King</td>\n",
       "      <td>35000</td>\n",
       "      <td>45000</td>\n",
       "    </tr>\n",
       "    <tr>\n",
       "      <th>11</th>\n",
       "      <td>Burgors</td>\n",
       "      <td>23000</td>\n",
       "      <td>35000</td>\n",
       "    </tr>\n",
       "    <tr>\n",
       "      <th>12</th>\n",
       "      <td>UrbFoods</td>\n",
       "      <td>37000</td>\n",
       "      <td>45000</td>\n",
       "    </tr>\n",
       "    <tr>\n",
       "      <th>13</th>\n",
       "      <td>CareSome</td>\n",
       "      <td>21000</td>\n",
       "      <td>23000</td>\n",
       "    </tr>\n",
       "  </tbody>\n",
       "</table>\n",
       "</div>"
      ],
      "text/plain": [
       "         Fr_Name  Annual_Fr_Fee  Turn_Over\n",
       "0       AB Corps          10000      25000\n",
       "1         Signet          12000      30000\n",
       "2          Focus          15000      40000\n",
       "3       Dry Pizz          20000      35000\n",
       "4      Good Rays          22000      50000\n",
       "5   Head Lickers          23500      45000\n",
       "6    Dress Foods          25000      55000\n",
       "7          Careo          18000      35000\n",
       "8          Bingo          17000      23000\n",
       "9      Crunchies          10200      19000\n",
       "10   Cheesy King          35000      45000\n",
       "11       Burgors          23000      35000\n",
       "12      UrbFoods          37000      45000\n",
       "13      CareSome          21000      23000"
      ]
     },
     "execution_count": 46,
     "metadata": {},
     "output_type": "execute_result"
    }
   ],
   "source": [
    "df.loc[:,'Fr_Name':'Turn_Over'] #all rows and all columns starting from Fr_Name till Turn_Over only"
   ]
  },
  {
   "cell_type": "code",
   "execution_count": 47,
   "id": "981d5d88",
   "metadata": {},
   "outputs": [
    {
     "data": {
      "text/html": [
       "<div>\n",
       "<style scoped>\n",
       "    .dataframe tbody tr th:only-of-type {\n",
       "        vertical-align: middle;\n",
       "    }\n",
       "\n",
       "    .dataframe tbody tr th {\n",
       "        vertical-align: top;\n",
       "    }\n",
       "\n",
       "    .dataframe thead th {\n",
       "        text-align: right;\n",
       "    }\n",
       "</style>\n",
       "<table border=\"1\" class=\"dataframe\">\n",
       "  <thead>\n",
       "    <tr style=\"text-align: right;\">\n",
       "      <th></th>\n",
       "      <th>Fr_Name</th>\n",
       "      <th>Annual_Fr_Fee</th>\n",
       "      <th>Turn_Over</th>\n",
       "      <th>Emp_No</th>\n",
       "    </tr>\n",
       "  </thead>\n",
       "  <tbody>\n",
       "    <tr>\n",
       "      <th>0</th>\n",
       "      <td>AB Corps</td>\n",
       "      <td>10000</td>\n",
       "      <td>25000</td>\n",
       "      <td>10</td>\n",
       "    </tr>\n",
       "    <tr>\n",
       "      <th>1</th>\n",
       "      <td>Signet</td>\n",
       "      <td>12000</td>\n",
       "      <td>30000</td>\n",
       "      <td>12</td>\n",
       "    </tr>\n",
       "    <tr>\n",
       "      <th>2</th>\n",
       "      <td>Focus</td>\n",
       "      <td>15000</td>\n",
       "      <td>40000</td>\n",
       "      <td>13</td>\n",
       "    </tr>\n",
       "    <tr>\n",
       "      <th>3</th>\n",
       "      <td>Dry Pizz</td>\n",
       "      <td>20000</td>\n",
       "      <td>35000</td>\n",
       "      <td>10</td>\n",
       "    </tr>\n",
       "    <tr>\n",
       "      <th>4</th>\n",
       "      <td>Good Rays</td>\n",
       "      <td>22000</td>\n",
       "      <td>50000</td>\n",
       "      <td>20</td>\n",
       "    </tr>\n",
       "    <tr>\n",
       "      <th>5</th>\n",
       "      <td>Head Lickers</td>\n",
       "      <td>23500</td>\n",
       "      <td>45000</td>\n",
       "      <td>18</td>\n",
       "    </tr>\n",
       "    <tr>\n",
       "      <th>6</th>\n",
       "      <td>Dress Foods</td>\n",
       "      <td>25000</td>\n",
       "      <td>55000</td>\n",
       "      <td>19</td>\n",
       "    </tr>\n",
       "    <tr>\n",
       "      <th>7</th>\n",
       "      <td>Careo</td>\n",
       "      <td>18000</td>\n",
       "      <td>35000</td>\n",
       "      <td>21</td>\n",
       "    </tr>\n",
       "    <tr>\n",
       "      <th>8</th>\n",
       "      <td>Bingo</td>\n",
       "      <td>17000</td>\n",
       "      <td>23000</td>\n",
       "      <td>11</td>\n",
       "    </tr>\n",
       "    <tr>\n",
       "      <th>9</th>\n",
       "      <td>Crunchies</td>\n",
       "      <td>10200</td>\n",
       "      <td>19000</td>\n",
       "      <td>9</td>\n",
       "    </tr>\n",
       "    <tr>\n",
       "      <th>10</th>\n",
       "      <td>Cheesy King</td>\n",
       "      <td>35000</td>\n",
       "      <td>45000</td>\n",
       "      <td>20</td>\n",
       "    </tr>\n",
       "    <tr>\n",
       "      <th>11</th>\n",
       "      <td>Burgors</td>\n",
       "      <td>23000</td>\n",
       "      <td>35000</td>\n",
       "      <td>16</td>\n",
       "    </tr>\n",
       "    <tr>\n",
       "      <th>12</th>\n",
       "      <td>UrbFoods</td>\n",
       "      <td>37000</td>\n",
       "      <td>45000</td>\n",
       "      <td>23</td>\n",
       "    </tr>\n",
       "    <tr>\n",
       "      <th>13</th>\n",
       "      <td>CareSome</td>\n",
       "      <td>21000</td>\n",
       "      <td>23000</td>\n",
       "      <td>14</td>\n",
       "    </tr>\n",
       "  </tbody>\n",
       "</table>\n",
       "</div>"
      ],
      "text/plain": [
       "         Fr_Name  Annual_Fr_Fee  Turn_Over  Emp_No\n",
       "0       AB Corps          10000      25000      10\n",
       "1         Signet          12000      30000      12\n",
       "2          Focus          15000      40000      13\n",
       "3       Dry Pizz          20000      35000      10\n",
       "4      Good Rays          22000      50000      20\n",
       "5   Head Lickers          23500      45000      18\n",
       "6    Dress Foods          25000      55000      19\n",
       "7          Careo          18000      35000      21\n",
       "8          Bingo          17000      23000      11\n",
       "9      Crunchies          10200      19000       9\n",
       "10   Cheesy King          35000      45000      20\n",
       "11       Burgors          23000      35000      16\n",
       "12      UrbFoods          37000      45000      23\n",
       "13      CareSome          21000      23000      14"
      ]
     },
     "execution_count": 47,
     "metadata": {},
     "output_type": "execute_result"
    }
   ],
   "source": [
    "df"
   ]
  },
  {
   "cell_type": "code",
   "execution_count": 51,
   "id": "dd552832",
   "metadata": {},
   "outputs": [
    {
     "data": {
      "text/html": [
       "<div>\n",
       "<style scoped>\n",
       "    .dataframe tbody tr th:only-of-type {\n",
       "        vertical-align: middle;\n",
       "    }\n",
       "\n",
       "    .dataframe tbody tr th {\n",
       "        vertical-align: top;\n",
       "    }\n",
       "\n",
       "    .dataframe thead th {\n",
       "        text-align: right;\n",
       "    }\n",
       "</style>\n",
       "<table border=\"1\" class=\"dataframe\">\n",
       "  <thead>\n",
       "    <tr style=\"text-align: right;\">\n",
       "      <th></th>\n",
       "      <th>Fr_Name</th>\n",
       "      <th>Annual_Fr_Fee</th>\n",
       "      <th>Turn_Over</th>\n",
       "      <th>Emp_No</th>\n",
       "    </tr>\n",
       "  </thead>\n",
       "  <tbody>\n",
       "    <tr>\n",
       "      <th>0</th>\n",
       "      <td>AB Corps</td>\n",
       "      <td>10000</td>\n",
       "      <td>25000</td>\n",
       "      <td>10</td>\n",
       "    </tr>\n",
       "    <tr>\n",
       "      <th>3</th>\n",
       "      <td>Dry Pizz</td>\n",
       "      <td>20000</td>\n",
       "      <td>35000</td>\n",
       "      <td>10</td>\n",
       "    </tr>\n",
       "  </tbody>\n",
       "</table>\n",
       "</div>"
      ],
      "text/plain": [
       "    Fr_Name  Annual_Fr_Fee  Turn_Over  Emp_No\n",
       "0  AB Corps          10000      25000      10\n",
       "3  Dry Pizz          20000      35000      10"
      ]
     },
     "execution_count": 51,
     "metadata": {},
     "output_type": "execute_result"
    }
   ],
   "source": [
    "df.loc[df.Emp_No==10] #all rows with Emp_No=10"
   ]
  },
  {
   "cell_type": "code",
   "execution_count": 60,
   "id": "6969292d",
   "metadata": {},
   "outputs": [
    {
     "data": {
      "text/plain": [
       "0    AB Corps\n",
       "3    Dry Pizz\n",
       "Name: Fr_Name, dtype: object"
      ]
     },
     "execution_count": 60,
     "metadata": {},
     "output_type": "execute_result"
    }
   ],
   "source": [
    "df.loc[df.Emp_No==10,'Fr_Name'] #all rows with Emp_No=10 but just with Fr_Name"
   ]
  },
  {
   "cell_type": "code",
   "execution_count": 2,
   "id": "f0abab7c",
   "metadata": {},
   "outputs": [
    {
     "data": {
      "text/html": [
       "<div>\n",
       "<style scoped>\n",
       "    .dataframe tbody tr th:only-of-type {\n",
       "        vertical-align: middle;\n",
       "    }\n",
       "\n",
       "    .dataframe tbody tr th {\n",
       "        vertical-align: top;\n",
       "    }\n",
       "\n",
       "    .dataframe thead th {\n",
       "        text-align: right;\n",
       "    }\n",
       "</style>\n",
       "<table border=\"1\" class=\"dataframe\">\n",
       "  <thead>\n",
       "    <tr style=\"text-align: right;\">\n",
       "      <th></th>\n",
       "      <th>Fr_Name</th>\n",
       "      <th>Annual_Fr_Fee</th>\n",
       "    </tr>\n",
       "  </thead>\n",
       "  <tbody>\n",
       "    <tr>\n",
       "      <th>0</th>\n",
       "      <td>AB Corps</td>\n",
       "      <td>10000</td>\n",
       "    </tr>\n",
       "    <tr>\n",
       "      <th>1</th>\n",
       "      <td>Signet</td>\n",
       "      <td>12000</td>\n",
       "    </tr>\n",
       "    <tr>\n",
       "      <th>2</th>\n",
       "      <td>Focus</td>\n",
       "      <td>15000</td>\n",
       "    </tr>\n",
       "    <tr>\n",
       "      <th>3</th>\n",
       "      <td>Dry Pizz</td>\n",
       "      <td>20000</td>\n",
       "    </tr>\n",
       "    <tr>\n",
       "      <th>4</th>\n",
       "      <td>Good Rays</td>\n",
       "      <td>22000</td>\n",
       "    </tr>\n",
       "    <tr>\n",
       "      <th>5</th>\n",
       "      <td>Head Lickers</td>\n",
       "      <td>23500</td>\n",
       "    </tr>\n",
       "    <tr>\n",
       "      <th>6</th>\n",
       "      <td>Dress Foods</td>\n",
       "      <td>25000</td>\n",
       "    </tr>\n",
       "    <tr>\n",
       "      <th>7</th>\n",
       "      <td>Careo</td>\n",
       "      <td>18000</td>\n",
       "    </tr>\n",
       "    <tr>\n",
       "      <th>8</th>\n",
       "      <td>Bingo</td>\n",
       "      <td>17000</td>\n",
       "    </tr>\n",
       "    <tr>\n",
       "      <th>9</th>\n",
       "      <td>Crunchies</td>\n",
       "      <td>10200</td>\n",
       "    </tr>\n",
       "    <tr>\n",
       "      <th>10</th>\n",
       "      <td>Cheesy King</td>\n",
       "      <td>35000</td>\n",
       "    </tr>\n",
       "    <tr>\n",
       "      <th>11</th>\n",
       "      <td>Burgors</td>\n",
       "      <td>23000</td>\n",
       "    </tr>\n",
       "    <tr>\n",
       "      <th>12</th>\n",
       "      <td>UrbFoods</td>\n",
       "      <td>37000</td>\n",
       "    </tr>\n",
       "    <tr>\n",
       "      <th>13</th>\n",
       "      <td>CareSome</td>\n",
       "      <td>21000</td>\n",
       "    </tr>\n",
       "  </tbody>\n",
       "</table>\n",
       "</div>"
      ],
      "text/plain": [
       "         Fr_Name  Annual_Fr_Fee\n",
       "0       AB Corps          10000\n",
       "1         Signet          12000\n",
       "2          Focus          15000\n",
       "3       Dry Pizz          20000\n",
       "4      Good Rays          22000\n",
       "5   Head Lickers          23500\n",
       "6    Dress Foods          25000\n",
       "7          Careo          18000\n",
       "8          Bingo          17000\n",
       "9      Crunchies          10200\n",
       "10   Cheesy King          35000\n",
       "11       Burgors          23000\n",
       "12      UrbFoods          37000\n",
       "13      CareSome          21000"
      ]
     },
     "execution_count": 2,
     "metadata": {},
     "output_type": "execute_result"
    }
   ],
   "source": [
    "df.iloc[:,0:2] #iloc calls with the indexes of the rows and columns. the numbers here denotes the numbers"
   ]
  },
  {
   "cell_type": "code",
   "execution_count": 3,
   "id": "b81b17d1",
   "metadata": {},
   "outputs": [],
   "source": [
    "#In iloc where the indexes are mentioned, it doesnt consider the last number but in loc it does."
   ]
  },
  {
   "cell_type": "code",
   "execution_count": 5,
   "id": "12859959",
   "metadata": {},
   "outputs": [
    {
     "data": {
      "text/html": [
       "<div>\n",
       "<style scoped>\n",
       "    .dataframe tbody tr th:only-of-type {\n",
       "        vertical-align: middle;\n",
       "    }\n",
       "\n",
       "    .dataframe tbody tr th {\n",
       "        vertical-align: top;\n",
       "    }\n",
       "\n",
       "    .dataframe thead th {\n",
       "        text-align: right;\n",
       "    }\n",
       "</style>\n",
       "<table border=\"1\" class=\"dataframe\">\n",
       "  <thead>\n",
       "    <tr style=\"text-align: right;\">\n",
       "      <th></th>\n",
       "      <th>Fr_Name</th>\n",
       "      <th>Annual_Fr_Fee</th>\n",
       "      <th>Turn_Over</th>\n",
       "      <th>Emp_No</th>\n",
       "    </tr>\n",
       "  </thead>\n",
       "  <tbody>\n",
       "    <tr>\n",
       "      <th>0</th>\n",
       "      <td>AB Corps</td>\n",
       "      <td>10000</td>\n",
       "      <td>25000</td>\n",
       "      <td>10</td>\n",
       "    </tr>\n",
       "    <tr>\n",
       "      <th>1</th>\n",
       "      <td>Signet</td>\n",
       "      <td>12000</td>\n",
       "      <td>30000</td>\n",
       "      <td>12</td>\n",
       "    </tr>\n",
       "    <tr>\n",
       "      <th>2</th>\n",
       "      <td>Focus</td>\n",
       "      <td>15000</td>\n",
       "      <td>40000</td>\n",
       "      <td>13</td>\n",
       "    </tr>\n",
       "    <tr>\n",
       "      <th>3</th>\n",
       "      <td>Dry Pizz</td>\n",
       "      <td>20000</td>\n",
       "      <td>35000</td>\n",
       "      <td>10</td>\n",
       "    </tr>\n",
       "    <tr>\n",
       "      <th>4</th>\n",
       "      <td>Good Rays</td>\n",
       "      <td>22000</td>\n",
       "      <td>50000</td>\n",
       "      <td>20</td>\n",
       "    </tr>\n",
       "  </tbody>\n",
       "</table>\n",
       "</div>"
      ],
      "text/plain": [
       "     Fr_Name  Annual_Fr_Fee  Turn_Over  Emp_No\n",
       "0   AB Corps          10000      25000      10\n",
       "1     Signet          12000      30000      12\n",
       "2      Focus          15000      40000      13\n",
       "3   Dry Pizz          20000      35000      10\n",
       "4  Good Rays          22000      50000      20"
      ]
     },
     "execution_count": 5,
     "metadata": {},
     "output_type": "execute_result"
    }
   ],
   "source": [
    "df[0:5] #by default it takes iloc values and the row number is considered rather than column"
   ]
  },
  {
   "cell_type": "markdown",
   "id": "2ec46443",
   "metadata": {},
   "source": [
    "<b>Plotting with MatplotLib</b>"
   ]
  },
  {
   "cell_type": "code",
   "execution_count": 6,
   "id": "e5931461",
   "metadata": {},
   "outputs": [
    {
     "data": {
      "text/html": [
       "<div>\n",
       "<style scoped>\n",
       "    .dataframe tbody tr th:only-of-type {\n",
       "        vertical-align: middle;\n",
       "    }\n",
       "\n",
       "    .dataframe tbody tr th {\n",
       "        vertical-align: top;\n",
       "    }\n",
       "\n",
       "    .dataframe thead th {\n",
       "        text-align: right;\n",
       "    }\n",
       "</style>\n",
       "<table border=\"1\" class=\"dataframe\">\n",
       "  <thead>\n",
       "    <tr style=\"text-align: right;\">\n",
       "      <th></th>\n",
       "      <th>Fr_Name</th>\n",
       "      <th>Annual_Fr_Fee</th>\n",
       "      <th>Turn_Over</th>\n",
       "      <th>Emp_No</th>\n",
       "    </tr>\n",
       "  </thead>\n",
       "  <tbody>\n",
       "    <tr>\n",
       "      <th>0</th>\n",
       "      <td>AB Corps</td>\n",
       "      <td>10000</td>\n",
       "      <td>25000</td>\n",
       "      <td>10</td>\n",
       "    </tr>\n",
       "    <tr>\n",
       "      <th>1</th>\n",
       "      <td>Signet</td>\n",
       "      <td>12000</td>\n",
       "      <td>30000</td>\n",
       "      <td>12</td>\n",
       "    </tr>\n",
       "    <tr>\n",
       "      <th>2</th>\n",
       "      <td>Focus</td>\n",
       "      <td>15000</td>\n",
       "      <td>40000</td>\n",
       "      <td>13</td>\n",
       "    </tr>\n",
       "    <tr>\n",
       "      <th>3</th>\n",
       "      <td>Dry Pizz</td>\n",
       "      <td>20000</td>\n",
       "      <td>35000</td>\n",
       "      <td>10</td>\n",
       "    </tr>\n",
       "    <tr>\n",
       "      <th>4</th>\n",
       "      <td>Good Rays</td>\n",
       "      <td>22000</td>\n",
       "      <td>50000</td>\n",
       "      <td>20</td>\n",
       "    </tr>\n",
       "    <tr>\n",
       "      <th>5</th>\n",
       "      <td>Head Lickers</td>\n",
       "      <td>23500</td>\n",
       "      <td>45000</td>\n",
       "      <td>18</td>\n",
       "    </tr>\n",
       "    <tr>\n",
       "      <th>6</th>\n",
       "      <td>Dress Foods</td>\n",
       "      <td>25000</td>\n",
       "      <td>55000</td>\n",
       "      <td>19</td>\n",
       "    </tr>\n",
       "    <tr>\n",
       "      <th>7</th>\n",
       "      <td>Careo</td>\n",
       "      <td>18000</td>\n",
       "      <td>35000</td>\n",
       "      <td>21</td>\n",
       "    </tr>\n",
       "    <tr>\n",
       "      <th>8</th>\n",
       "      <td>Bingo</td>\n",
       "      <td>17000</td>\n",
       "      <td>23000</td>\n",
       "      <td>11</td>\n",
       "    </tr>\n",
       "    <tr>\n",
       "      <th>9</th>\n",
       "      <td>Crunchies</td>\n",
       "      <td>10200</td>\n",
       "      <td>19000</td>\n",
       "      <td>9</td>\n",
       "    </tr>\n",
       "    <tr>\n",
       "      <th>10</th>\n",
       "      <td>Cheesy King</td>\n",
       "      <td>35000</td>\n",
       "      <td>45000</td>\n",
       "      <td>20</td>\n",
       "    </tr>\n",
       "    <tr>\n",
       "      <th>11</th>\n",
       "      <td>Burgors</td>\n",
       "      <td>23000</td>\n",
       "      <td>35000</td>\n",
       "      <td>16</td>\n",
       "    </tr>\n",
       "    <tr>\n",
       "      <th>12</th>\n",
       "      <td>UrbFoods</td>\n",
       "      <td>37000</td>\n",
       "      <td>45000</td>\n",
       "      <td>23</td>\n",
       "    </tr>\n",
       "    <tr>\n",
       "      <th>13</th>\n",
       "      <td>CareSome</td>\n",
       "      <td>21000</td>\n",
       "      <td>23000</td>\n",
       "      <td>14</td>\n",
       "    </tr>\n",
       "  </tbody>\n",
       "</table>\n",
       "</div>"
      ],
      "text/plain": [
       "         Fr_Name  Annual_Fr_Fee  Turn_Over  Emp_No\n",
       "0       AB Corps          10000      25000      10\n",
       "1         Signet          12000      30000      12\n",
       "2          Focus          15000      40000      13\n",
       "3       Dry Pizz          20000      35000      10\n",
       "4      Good Rays          22000      50000      20\n",
       "5   Head Lickers          23500      45000      18\n",
       "6    Dress Foods          25000      55000      19\n",
       "7          Careo          18000      35000      21\n",
       "8          Bingo          17000      23000      11\n",
       "9      Crunchies          10200      19000       9\n",
       "10   Cheesy King          35000      45000      20\n",
       "11       Burgors          23000      35000      16\n",
       "12      UrbFoods          37000      45000      23\n",
       "13      CareSome          21000      23000      14"
      ]
     },
     "execution_count": 6,
     "metadata": {},
     "output_type": "execute_result"
    }
   ],
   "source": [
    "df"
   ]
  },
  {
   "cell_type": "markdown",
   "id": "44133b23",
   "metadata": {},
   "source": [
    "<b>Simple Linear Regression</b>"
   ]
  },
  {
   "cell_type": "code",
   "execution_count": 2,
   "id": "95a11ab4",
   "metadata": {},
   "outputs": [],
   "source": [
    "X=df.iloc[:,[1]].values\n",
    "y=df.iloc[:,2].values #assigning the arrays with values"
   ]
  },
  {
   "cell_type": "code",
   "execution_count": 5,
   "id": "c2369ef8",
   "metadata": {},
   "outputs": [
    {
     "data": {
      "image/png": "[encoded data removed]",
      "text/plain": [
       "<Figure size 432x288 with 1 Axes>"
      ]
     },
     "metadata": {
      "needs_background": "light"
     },
     "output_type": "display_data"
    }
   ],
   "source": [
    "p.scatter(X,y,color='red')\n",
    "p.title('Annual Fee vs Turn Over')\n",
    "p.xlabel('Annual Franchise Fee')\n",
    "p.ylabel('Turn Over')\n",
    "p.show()"
   ]
  },
  {
   "cell_type": "markdown",
   "id": "734852f8",
   "metadata": {},
   "source": [
    "<b>Splitting the data</b>"
   ]
  },
  {
   "cell_type": "code",
   "execution_count": 6,
   "id": "29d08293",
   "metadata": {},
   "outputs": [],
   "source": [
    "from sklearn.model_selection import train_test_split"
   ]
  },
  {
   "cell_type": "code",
   "execution_count": 7,
   "id": "31ee0f61",
   "metadata": {},
   "outputs": [],
   "source": [
    "X_train, X_test, y_train, y_test = train_test_split(X, y, test_size=2/5, random_state=0)"
   ]
  },
  {
   "cell_type": "code",
   "execution_count": 8,
   "id": "126b25c3",
   "metadata": {},
   "outputs": [
    {
     "name": "stdout",
     "output_type": "stream",
     "text": [
      "Intercept (b0) = 17685.14\n",
      "b1= 0.83\n"
     ]
    }
   ],
   "source": [
    "from sklearn.linear_model import LinearRegression\n",
    "regressor = LinearRegression()\n",
    "regressor.fit(X_train, y_train)\n",
    "print(\"Intercept (b0) = %.2f\" %regressor.intercept_)\n",
    "print(\"b1= %.2f\" %regressor.coef_)\n",
    "\n",
    "y_prediction = regressor.predict(X_test)"
   ]
  },
  {
   "cell_type": "code",
   "execution_count": 9,
   "id": "4f0c5b99",
   "metadata": {},
   "outputs": [],
   "source": [
    "y_predict = regressor.predict(X_test)"
   ]
  },
  {
   "cell_type": "code",
   "execution_count": 13,
   "id": "6c75733b",
   "metadata": {},
   "outputs": [
    {
     "name": "stdout",
     "output_type": "stream",
     "text": [
      "Mean Squared Error: 132765626.02\n",
      "Root Mean Squared Error: 11522.40\n"
     ]
    }
   ],
   "source": [
    "from sklearn.metrics import mean_squared_error\n",
    "print(\"Mean Squared Error: %.2f\" %mean_squared_error(y_test,y_predict))\n",
    "print(\"Root Mean Squared Error: %.2f\" %np.sqrt(mean_squared_error(y_test,y_predict)))"
   ]
  },
  {
   "cell_type": "code",
   "execution_count": 46,
   "id": "90f61663",
   "metadata": {},
   "outputs": [
    {
     "data": {
      "image/png": "[encoded data removed]",
      "text/plain": [
       "<Figure size 432x288 with 1 Axes>"
      ]
     },
     "metadata": {
      "needs_background": "light"
     },
     "output_type": "display_data"
    }
   ],
   "source": [
    "p.scatter(X,y,color='red')\n",
    "p.plot(X_train,regressor.predict(X_train), color='green')\n",
    "p.title('Annual Fee vs Turn Over')\n",
    "p.xlabel('Annual Franchise Fee')\n",
    "p.ylabel('Turn Over')\n",
    "p.show()"
   ]
  },
  {
   "cell_type": "code",
   "execution_count": 12,
   "id": "a676d7b8",
   "metadata": {},
   "outputs": [
    {
     "data": {
      "text/html": [
       "<div>\n",
       "<style scoped>\n",
       "    .dataframe tbody tr th:only-of-type {\n",
       "        vertical-align: middle;\n",
       "    }\n",
       "\n",
       "    .dataframe tbody tr th {\n",
       "        vertical-align: top;\n",
       "    }\n",
       "\n",
       "    .dataframe thead th {\n",
       "        text-align: right;\n",
       "    }\n",
       "</style>\n",
       "<table border=\"1\" class=\"dataframe\">\n",
       "  <thead>\n",
       "    <tr style=\"text-align: right;\">\n",
       "      <th></th>\n",
       "      <th>Annual Franchise Fee</th>\n",
       "      <th>Actual Turn Over</th>\n",
       "      <th>Expected Turn Over</th>\n",
       "      <th>Performance</th>\n",
       "    </tr>\n",
       "  </thead>\n",
       "  <tbody>\n",
       "    <tr>\n",
       "      <th>0</th>\n",
       "      <td>10000</td>\n",
       "      <td>25000</td>\n",
       "      <td>25984.406574</td>\n",
       "      <td>-984.406574</td>\n",
       "    </tr>\n",
       "    <tr>\n",
       "      <th>1</th>\n",
       "      <td>12000</td>\n",
       "      <td>30000</td>\n",
       "      <td>27644.260656</td>\n",
       "      <td>2355.739344</td>\n",
       "    </tr>\n",
       "    <tr>\n",
       "      <th>2</th>\n",
       "      <td>15000</td>\n",
       "      <td>40000</td>\n",
       "      <td>30134.041779</td>\n",
       "      <td>9865.958221</td>\n",
       "    </tr>\n",
       "    <tr>\n",
       "      <th>3</th>\n",
       "      <td>20000</td>\n",
       "      <td>35000</td>\n",
       "      <td>34283.676983</td>\n",
       "      <td>716.323017</td>\n",
       "    </tr>\n",
       "    <tr>\n",
       "      <th>4</th>\n",
       "      <td>22000</td>\n",
       "      <td>50000</td>\n",
       "      <td>35943.531065</td>\n",
       "      <td>14056.468935</td>\n",
       "    </tr>\n",
       "    <tr>\n",
       "      <th>5</th>\n",
       "      <td>23500</td>\n",
       "      <td>45000</td>\n",
       "      <td>37188.421627</td>\n",
       "      <td>7811.578373</td>\n",
       "    </tr>\n",
       "    <tr>\n",
       "      <th>6</th>\n",
       "      <td>25000</td>\n",
       "      <td>55000</td>\n",
       "      <td>38433.312188</td>\n",
       "      <td>16566.687812</td>\n",
       "    </tr>\n",
       "    <tr>\n",
       "      <th>7</th>\n",
       "      <td>18000</td>\n",
       "      <td>35000</td>\n",
       "      <td>32623.822901</td>\n",
       "      <td>2376.177099</td>\n",
       "    </tr>\n",
       "    <tr>\n",
       "      <th>8</th>\n",
       "      <td>17000</td>\n",
       "      <td>23000</td>\n",
       "      <td>31793.895860</td>\n",
       "      <td>-8793.895860</td>\n",
       "    </tr>\n",
       "    <tr>\n",
       "      <th>9</th>\n",
       "      <td>10200</td>\n",
       "      <td>19000</td>\n",
       "      <td>26150.391982</td>\n",
       "      <td>-7150.391982</td>\n",
       "    </tr>\n",
       "    <tr>\n",
       "      <th>10</th>\n",
       "      <td>35000</td>\n",
       "      <td>45000</td>\n",
       "      <td>46732.582598</td>\n",
       "      <td>-1732.582598</td>\n",
       "    </tr>\n",
       "    <tr>\n",
       "      <th>11</th>\n",
       "      <td>23000</td>\n",
       "      <td>35000</td>\n",
       "      <td>36773.458106</td>\n",
       "      <td>-1773.458106</td>\n",
       "    </tr>\n",
       "    <tr>\n",
       "      <th>12</th>\n",
       "      <td>37000</td>\n",
       "      <td>45000</td>\n",
       "      <td>48392.436680</td>\n",
       "      <td>-3392.436680</td>\n",
       "    </tr>\n",
       "    <tr>\n",
       "      <th>13</th>\n",
       "      <td>21000</td>\n",
       "      <td>23000</td>\n",
       "      <td>35113.604024</td>\n",
       "      <td>-12113.604024</td>\n",
       "    </tr>\n",
       "  </tbody>\n",
       "</table>\n",
       "</div>"
      ],
      "text/plain": [
       "    Annual Franchise Fee  Actual Turn Over  Expected Turn Over   Performance\n",
       "0                  10000             25000        25984.406574   -984.406574\n",
       "1                  12000             30000        27644.260656   2355.739344\n",
       "2                  15000             40000        30134.041779   9865.958221\n",
       "3                  20000             35000        34283.676983    716.323017\n",
       "4                  22000             50000        35943.531065  14056.468935\n",
       "5                  23500             45000        37188.421627   7811.578373\n",
       "6                  25000             55000        38433.312188  16566.687812\n",
       "7                  18000             35000        32623.822901   2376.177099\n",
       "8                  17000             23000        31793.895860  -8793.895860\n",
       "9                  10200             19000        26150.391982  -7150.391982\n",
       "10                 35000             45000        46732.582598  -1732.582598\n",
       "11                 23000             35000        36773.458106  -1773.458106\n",
       "12                 37000             45000        48392.436680  -3392.436680\n",
       "13                 21000             23000        35113.604024 -12113.604024"
      ]
     },
     "execution_count": 12,
     "metadata": {},
     "output_type": "execute_result"
    }
   ],
   "source": [
    "import pandas as pd\n",
    "df2=pd.DataFrame({\"Annual Franchise Fee\":X.flatten(),\"Actual Turn Over\":y,\"Expected Turn Over\":regressor.predict(X),\"Performance\":(y-regressor.predict(X))})\n",
    "df2"
   ]
  },
  {
   "cell_type": "code",
   "execution_count": 13,
   "id": "df853150",
   "metadata": {},
   "outputs": [],
   "source": [
    "df2.to_csv(\"D:\\Data Science\\Sales Performance.csv\")"
   ]
  },
  {
   "cell_type": "markdown",
   "id": "ef1c915e",
   "metadata": {},
   "source": [
    "<b>Multiple Regression</b>"
   ]
  },
  {
   "cell_type": "code",
   "execution_count": 14,
   "id": "8e0fb620",
   "metadata": {},
   "outputs": [],
   "source": [
    "#in Linear Regression there dependent variable depends on a single independent variable. wheras in Multiple regression\n",
    "#single dependent variable depends on multiple independent variable. That means single y but multiple x."
   ]
  },
  {
   "cell_type": "code",
   "execution_count": 15,
   "id": "db515c23",
   "metadata": {},
   "outputs": [],
   "source": [
    "import pandas as pd\n",
    "import numpy as np\n",
    "import matplotlib.pyplot as p"
   ]
  },
  {
   "cell_type": "code",
   "execution_count": 16,
   "id": "9105fd69",
   "metadata": {},
   "outputs": [
    {
     "data": {
      "text/html": [
       "<div>\n",
       "<style scoped>\n",
       "    .dataframe tbody tr th:only-of-type {\n",
       "        vertical-align: middle;\n",
       "    }\n",
       "\n",
       "    .dataframe tbody tr th {\n",
       "        vertical-align: top;\n",
       "    }\n",
       "\n",
       "    .dataframe thead th {\n",
       "        text-align: right;\n",
       "    }\n",
       "</style>\n",
       "<table border=\"1\" class=\"dataframe\">\n",
       "  <thead>\n",
       "    <tr style=\"text-align: right;\">\n",
       "      <th></th>\n",
       "      <th>Fr_Name</th>\n",
       "      <th>Annual_Fr_Fee</th>\n",
       "      <th>Turn_Over</th>\n",
       "      <th>Emp_No</th>\n",
       "    </tr>\n",
       "  </thead>\n",
       "  <tbody>\n",
       "    <tr>\n",
       "      <th>0</th>\n",
       "      <td>AB Corps</td>\n",
       "      <td>10000</td>\n",
       "      <td>25000</td>\n",
       "      <td>10</td>\n",
       "    </tr>\n",
       "    <tr>\n",
       "      <th>1</th>\n",
       "      <td>Signet</td>\n",
       "      <td>12000</td>\n",
       "      <td>30000</td>\n",
       "      <td>12</td>\n",
       "    </tr>\n",
       "    <tr>\n",
       "      <th>2</th>\n",
       "      <td>Focus</td>\n",
       "      <td>15000</td>\n",
       "      <td>40000</td>\n",
       "      <td>13</td>\n",
       "    </tr>\n",
       "    <tr>\n",
       "      <th>3</th>\n",
       "      <td>Dry Pizz</td>\n",
       "      <td>20000</td>\n",
       "      <td>35000</td>\n",
       "      <td>10</td>\n",
       "    </tr>\n",
       "    <tr>\n",
       "      <th>4</th>\n",
       "      <td>Good Rays</td>\n",
       "      <td>22000</td>\n",
       "      <td>50000</td>\n",
       "      <td>20</td>\n",
       "    </tr>\n",
       "    <tr>\n",
       "      <th>5</th>\n",
       "      <td>Head Lickers</td>\n",
       "      <td>23500</td>\n",
       "      <td>45000</td>\n",
       "      <td>18</td>\n",
       "    </tr>\n",
       "    <tr>\n",
       "      <th>6</th>\n",
       "      <td>Dress Foods</td>\n",
       "      <td>25000</td>\n",
       "      <td>55000</td>\n",
       "      <td>19</td>\n",
       "    </tr>\n",
       "    <tr>\n",
       "      <th>7</th>\n",
       "      <td>Careo</td>\n",
       "      <td>18000</td>\n",
       "      <td>35000</td>\n",
       "      <td>21</td>\n",
       "    </tr>\n",
       "    <tr>\n",
       "      <th>8</th>\n",
       "      <td>Bingo</td>\n",
       "      <td>17000</td>\n",
       "      <td>23000</td>\n",
       "      <td>11</td>\n",
       "    </tr>\n",
       "    <tr>\n",
       "      <th>9</th>\n",
       "      <td>Crunchies</td>\n",
       "      <td>10200</td>\n",
       "      <td>19000</td>\n",
       "      <td>9</td>\n",
       "    </tr>\n",
       "    <tr>\n",
       "      <th>10</th>\n",
       "      <td>Cheesy King</td>\n",
       "      <td>35000</td>\n",
       "      <td>45000</td>\n",
       "      <td>20</td>\n",
       "    </tr>\n",
       "    <tr>\n",
       "      <th>11</th>\n",
       "      <td>Burgors</td>\n",
       "      <td>23000</td>\n",
       "      <td>35000</td>\n",
       "      <td>16</td>\n",
       "    </tr>\n",
       "    <tr>\n",
       "      <th>12</th>\n",
       "      <td>UrbFoods</td>\n",
       "      <td>37000</td>\n",
       "      <td>45000</td>\n",
       "      <td>23</td>\n",
       "    </tr>\n",
       "    <tr>\n",
       "      <th>13</th>\n",
       "      <td>CareSome</td>\n",
       "      <td>21000</td>\n",
       "      <td>23000</td>\n",
       "      <td>14</td>\n",
       "    </tr>\n",
       "  </tbody>\n",
       "</table>\n",
       "</div>"
      ],
      "text/plain": [
       "         Fr_Name  Annual_Fr_Fee  Turn_Over  Emp_No\n",
       "0       AB Corps          10000      25000      10\n",
       "1         Signet          12000      30000      12\n",
       "2          Focus          15000      40000      13\n",
       "3       Dry Pizz          20000      35000      10\n",
       "4      Good Rays          22000      50000      20\n",
       "5   Head Lickers          23500      45000      18\n",
       "6    Dress Foods          25000      55000      19\n",
       "7          Careo          18000      35000      21\n",
       "8          Bingo          17000      23000      11\n",
       "9      Crunchies          10200      19000       9\n",
       "10   Cheesy King          35000      45000      20\n",
       "11       Burgors          23000      35000      16\n",
       "12      UrbFoods          37000      45000      23\n",
       "13      CareSome          21000      23000      14"
      ]
     },
     "execution_count": 16,
     "metadata": {},
     "output_type": "execute_result"
    }
   ],
   "source": [
    "df"
   ]
  },
  {
   "cell_type": "code",
   "execution_count": 28,
   "id": "ea10f17f",
   "metadata": {},
   "outputs": [],
   "source": [
    "X=df.iloc[:,[1,3]].values\n",
    "y=df.iloc[:,2].values #assigning the arrays with values"
   ]
  },
  {
   "cell_type": "code",
   "execution_count": 29,
   "id": "ec8ad3d8",
   "metadata": {},
   "outputs": [
    {
     "data": {
      "text/plain": [
       "array([[10000,    10],\n",
       "       [12000,    12],\n",
       "       [15000,    13],\n",
       "       [20000,    10],\n",
       "       [22000,    20],\n",
       "       [23500,    18],\n",
       "       [25000,    19],\n",
       "       [18000,    21],\n",
       "       [17000,    11],\n",
       "       [10200,     9],\n",
       "       [35000,    20],\n",
       "       [23000,    16],\n",
       "       [37000,    23],\n",
       "       [21000,    14]], dtype=int64)"
      ]
     },
     "execution_count": 29,
     "metadata": {},
     "output_type": "execute_result"
    }
   ],
   "source": [
    "X"
   ]
  },
  {
   "cell_type": "code",
   "execution_count": 30,
   "id": "a4822ae0",
   "metadata": {},
   "outputs": [],
   "source": [
    "from sklearn.model_selection import train_test_split\n",
    "X_train, X_test, y_train, y_test = train_test_split(X,y, test_size=1/5,random_state=0)"
   ]
  },
  {
   "cell_type": "code",
   "execution_count": 33,
   "id": "284a8b1f",
   "metadata": {},
   "outputs": [
    {
     "name": "stdout",
     "output_type": "stream",
     "text": [
      "Intercept 14513.39\n",
      "Theta values\n",
      "[4.49854832e-01 7.00423793e+02]\n"
     ]
    }
   ],
   "source": [
    "from sklearn.linear_model import LinearRegression\n",
    "regressor = LinearRegression()\n",
    "regressor.fit(X_train,y_train)\n",
    "print(\"Intercept %.2f\" %regressor.intercept_)\n",
    "print(\"Theta values\")\n",
    "print (regressor.coef_)"
   ]
  },
  {
   "cell_type": "code",
   "execution_count": 34,
   "id": "2bdd0338",
   "metadata": {},
   "outputs": [],
   "source": [
    "y_predict=regressor.predict(X_test)"
   ]
  },
  {
   "cell_type": "code",
   "execution_count": 36,
   "id": "6f49feaa",
   "metadata": {},
   "outputs": [
    {
     "data": {
      "text/html": [
       "<div>\n",
       "<style scoped>\n",
       "    .dataframe tbody tr th:only-of-type {\n",
       "        vertical-align: middle;\n",
       "    }\n",
       "\n",
       "    .dataframe tbody tr th {\n",
       "        vertical-align: top;\n",
       "    }\n",
       "\n",
       "    .dataframe thead th {\n",
       "        text-align: right;\n",
       "    }\n",
       "</style>\n",
       "<table border=\"1\" class=\"dataframe\">\n",
       "  <thead>\n",
       "    <tr style=\"text-align: right;\">\n",
       "      <th></th>\n",
       "      <th>Annual Franchise Fee</th>\n",
       "      <th>Actual Turn Over</th>\n",
       "      <th>Expected Turn Over</th>\n",
       "      <th>Performance</th>\n",
       "    </tr>\n",
       "  </thead>\n",
       "  <tbody>\n",
       "    <tr>\n",
       "      <th>0</th>\n",
       "      <td>10000</td>\n",
       "      <td>25000</td>\n",
       "      <td>26016.174397</td>\n",
       "      <td>-1016.174397</td>\n",
       "    </tr>\n",
       "    <tr>\n",
       "      <th>1</th>\n",
       "      <td>12000</td>\n",
       "      <td>30000</td>\n",
       "      <td>28316.731647</td>\n",
       "      <td>1683.268353</td>\n",
       "    </tr>\n",
       "    <tr>\n",
       "      <th>2</th>\n",
       "      <td>15000</td>\n",
       "      <td>40000</td>\n",
       "      <td>30366.719936</td>\n",
       "      <td>9633.280064</td>\n",
       "    </tr>\n",
       "    <tr>\n",
       "      <th>3</th>\n",
       "      <td>20000</td>\n",
       "      <td>35000</td>\n",
       "      <td>30514.722716</td>\n",
       "      <td>4485.277284</td>\n",
       "    </tr>\n",
       "    <tr>\n",
       "      <th>4</th>\n",
       "      <td>22000</td>\n",
       "      <td>50000</td>\n",
       "      <td>38418.670311</td>\n",
       "      <td>11581.329689</td>\n",
       "    </tr>\n",
       "    <tr>\n",
       "      <th>5</th>\n",
       "      <td>23500</td>\n",
       "      <td>45000</td>\n",
       "      <td>37692.604973</td>\n",
       "      <td>7307.395027</td>\n",
       "    </tr>\n",
       "    <tr>\n",
       "      <th>6</th>\n",
       "      <td>25000</td>\n",
       "      <td>55000</td>\n",
       "      <td>39067.811013</td>\n",
       "      <td>15932.188987</td>\n",
       "    </tr>\n",
       "    <tr>\n",
       "      <th>7</th>\n",
       "      <td>18000</td>\n",
       "      <td>35000</td>\n",
       "      <td>37319.674777</td>\n",
       "      <td>-2319.674777</td>\n",
       "    </tr>\n",
       "    <tr>\n",
       "      <th>8</th>\n",
       "      <td>17000</td>\n",
       "      <td>23000</td>\n",
       "      <td>29865.582013</td>\n",
       "      <td>-6865.582013</td>\n",
       "    </tr>\n",
       "    <tr>\n",
       "      <th>9</th>\n",
       "      <td>10200</td>\n",
       "      <td>19000</td>\n",
       "      <td>25405.721570</td>\n",
       "      <td>-6405.721570</td>\n",
       "    </tr>\n",
       "    <tr>\n",
       "      <th>10</th>\n",
       "      <td>35000</td>\n",
       "      <td>45000</td>\n",
       "      <td>44266.783125</td>\n",
       "      <td>733.216875</td>\n",
       "    </tr>\n",
       "    <tr>\n",
       "      <th>11</th>\n",
       "      <td>23000</td>\n",
       "      <td>35000</td>\n",
       "      <td>36066.829970</td>\n",
       "      <td>-1066.829970</td>\n",
       "    </tr>\n",
       "    <tr>\n",
       "      <th>12</th>\n",
       "      <td>37000</td>\n",
       "      <td>45000</td>\n",
       "      <td>47267.764168</td>\n",
       "      <td>-2267.764168</td>\n",
       "    </tr>\n",
       "    <tr>\n",
       "      <th>13</th>\n",
       "      <td>21000</td>\n",
       "      <td>23000</td>\n",
       "      <td>33766.272720</td>\n",
       "      <td>-10766.272720</td>\n",
       "    </tr>\n",
       "  </tbody>\n",
       "</table>\n",
       "</div>"
      ],
      "text/plain": [
       "    Annual Franchise Fee  Actual Turn Over  Expected Turn Over   Performance\n",
       "0                  10000             25000        26016.174397  -1016.174397\n",
       "1                  12000             30000        28316.731647   1683.268353\n",
       "2                  15000             40000        30366.719936   9633.280064\n",
       "3                  20000             35000        30514.722716   4485.277284\n",
       "4                  22000             50000        38418.670311  11581.329689\n",
       "5                  23500             45000        37692.604973   7307.395027\n",
       "6                  25000             55000        39067.811013  15932.188987\n",
       "7                  18000             35000        37319.674777  -2319.674777\n",
       "8                  17000             23000        29865.582013  -6865.582013\n",
       "9                  10200             19000        25405.721570  -6405.721570\n",
       "10                 35000             45000        44266.783125    733.216875\n",
       "11                 23000             35000        36066.829970  -1066.829970\n",
       "12                 37000             45000        47267.764168  -2267.764168\n",
       "13                 21000             23000        33766.272720 -10766.272720"
      ]
     },
     "execution_count": 36,
     "metadata": {},
     "output_type": "execute_result"
    }
   ],
   "source": [
    "df2=pd.DataFrame({\"Annual Franchise Fee\":df.iloc[:,1],\"Actual Turn Over\":y,\"Expected Turn Over\":regressor.predict(X),\"Performance\":(y-regressor.predict(X))})\n",
    "df2"
   ]
  },
  {
   "cell_type": "markdown",
   "id": "1de2c809",
   "metadata": {},
   "source": [
    "<b>Random Forest</b>"
   ]
  },
  {
   "cell_type": "code",
   "execution_count": 1,
   "id": "e511e003",
   "metadata": {},
   "outputs": [],
   "source": [
    "import pandas as pd\n",
    "import matplotlib.pyplot as plt\n",
    "import numpy as np"
   ]
  },
  {
   "cell_type": "code",
   "execution_count": 4,
   "id": "e98c1e2e",
   "metadata": {},
   "outputs": [
    {
     "data": {
      "text/html": [
       "<div>\n",
       "<style scoped>\n",
       "    .dataframe tbody tr th:only-of-type {\n",
       "        vertical-align: middle;\n",
       "    }\n",
       "\n",
       "    .dataframe tbody tr th {\n",
       "        vertical-align: top;\n",
       "    }\n",
       "\n",
       "    .dataframe thead th {\n",
       "        text-align: right;\n",
       "    }\n",
       "</style>\n",
       "<table border=\"1\" class=\"dataframe\">\n",
       "  <thead>\n",
       "    <tr style=\"text-align: right;\">\n",
       "      <th></th>\n",
       "      <th>Position</th>\n",
       "      <th>Level</th>\n",
       "      <th>Salary</th>\n",
       "    </tr>\n",
       "  </thead>\n",
       "  <tbody>\n",
       "    <tr>\n",
       "      <th>0</th>\n",
       "      <td>Business Analyst</td>\n",
       "      <td>1</td>\n",
       "      <td>45000</td>\n",
       "    </tr>\n",
       "    <tr>\n",
       "      <th>1</th>\n",
       "      <td>Junior Consultant</td>\n",
       "      <td>2</td>\n",
       "      <td>50000</td>\n",
       "    </tr>\n",
       "    <tr>\n",
       "      <th>2</th>\n",
       "      <td>Senior Consultant</td>\n",
       "      <td>3</td>\n",
       "      <td>60000</td>\n",
       "    </tr>\n",
       "    <tr>\n",
       "      <th>3</th>\n",
       "      <td>Manager</td>\n",
       "      <td>4</td>\n",
       "      <td>80000</td>\n",
       "    </tr>\n",
       "    <tr>\n",
       "      <th>4</th>\n",
       "      <td>Country Manager</td>\n",
       "      <td>5</td>\n",
       "      <td>110000</td>\n",
       "    </tr>\n",
       "    <tr>\n",
       "      <th>5</th>\n",
       "      <td>Regional Manager</td>\n",
       "      <td>6</td>\n",
       "      <td>150000</td>\n",
       "    </tr>\n",
       "    <tr>\n",
       "      <th>6</th>\n",
       "      <td>Partner</td>\n",
       "      <td>7</td>\n",
       "      <td>200000</td>\n",
       "    </tr>\n",
       "    <tr>\n",
       "      <th>7</th>\n",
       "      <td>Senior Partner</td>\n",
       "      <td>8</td>\n",
       "      <td>300000</td>\n",
       "    </tr>\n",
       "    <tr>\n",
       "      <th>8</th>\n",
       "      <td>C-Level</td>\n",
       "      <td>9</td>\n",
       "      <td>500000</td>\n",
       "    </tr>\n",
       "    <tr>\n",
       "      <th>9</th>\n",
       "      <td>CEO</td>\n",
       "      <td>10</td>\n",
       "      <td>700000</td>\n",
       "    </tr>\n",
       "  </tbody>\n",
       "</table>\n",
       "</div>"
      ],
      "text/plain": [
       "            Position  Level   Salary\n",
       "0   Business Analyst       1   45000\n",
       "1  Junior Consultant       2   50000\n",
       "2  Senior Consultant       3   60000\n",
       "3            Manager       4   80000\n",
       "4    Country Manager       5  110000\n",
       "5   Regional Manager       6  150000\n",
       "6            Partner       7  200000\n",
       "7     Senior Partner       8  300000\n",
       "8            C-Level       9  500000\n",
       "9                CEO      10  700000"
      ]
     },
     "execution_count": 4,
     "metadata": {},
     "output_type": "execute_result"
    }
   ],
   "source": [
    "df=pd.read_csv(\"D://Data Science//Employee Salary.csv\")\n",
    "df"
   ]
  },
  {
   "cell_type": "code",
   "execution_count": 7,
   "id": "88c3d553",
   "metadata": {},
   "outputs": [],
   "source": [
    "X=df.iloc[:,1:2].values\n",
    "y=df.iloc[:,2].values"
   ]
  },
  {
   "cell_type": "code",
   "execution_count": 9,
   "id": "38392910",
   "metadata": {},
   "outputs": [
    {
     "data": {
      "text/plain": [
       "RandomForestRegressor(n_estimators=50, random_state=0)"
      ]
     },
     "execution_count": 9,
     "metadata": {},
     "output_type": "execute_result"
    }
   ],
   "source": [
    "from sklearn.ensemble import RandomForestRegressor\n",
    "regressor=RandomForestRegressor(n_estimators=50, random_state=0)\n",
    "regressor.fit(X,y)"
   ]
  },
  {
   "cell_type": "code",
   "execution_count": 16,
   "id": "092b2f84",
   "metadata": {},
   "outputs": [
    {
     "data": {
      "text/plain": [
       "array([366000.])"
      ]
     },
     "execution_count": 16,
     "metadata": {},
     "output_type": "execute_result"
    }
   ],
   "source": [
    "y_predict=regressor.predict([[8.5]])\n",
    "y_predict"
   ]
  },
  {
   "cell_type": "code",
   "execution_count": 26,
   "id": "53091bcc",
   "metadata": {},
   "outputs": [
    {
     "data": {
      "text/plain": [
       "Text(0, 0.5, 'Salary')"
      ]
     },
     "execution_count": 26,
     "metadata": {},
     "output_type": "execute_result"
    },
    {
     "data": {
      "image/png": "[encoded data removed]",
      "text/plain": [
       "<Figure size 432x288 with 1 Axes>"
      ]
     },
     "metadata": {
      "needs_background": "light"
     },
     "output_type": "display_data"
    }
   ],
   "source": [
    "X_grid=np.arange(min(X), max(X),0.01)\n",
    "X_grid=X_grid.reshape(len(X_grid),1)\n",
    "plt.scatter(8.5,regressor.predict([[8.5]]),color='purple')\n",
    "plt.text(8.5,regressor.predict([[8.5]]),'([{}, {})'.format(8.5, regressor.predict([[8.5]])))\n",
    "plt.scatter(X,y,color='red')\n",
    "plt.plot(X_grid,regressor.predict(X_grid),color='blue')\n",
    "plt.title('Random Forest Regression')\n",
    "plt.xlabel('Position')\n",
    "plt.ylabel('Salary')"
   ]
  },
  {
   "cell_type": "markdown",
   "id": "947ca5e6",
   "metadata": {},
   "source": [
    "<b>Polynomial Regression</b>"
   ]
  },
  {
   "cell_type": "code",
   "execution_count": 27,
   "id": "c48ce52d",
   "metadata": {},
   "outputs": [
    {
     "data": {
      "text/plain": [
       "LinearRegression()"
      ]
     },
     "execution_count": 27,
     "metadata": {},
     "output_type": "execute_result"
    }
   ],
   "source": [
    "from sklearn.linear_model import LinearRegression\n",
    "lin_reg=LinearRegression()\n",
    "lin_reg.fit(X,y)"
   ]
  },
  {
   "cell_type": "code",
   "execution_count": 31,
   "id": "5707c940",
   "metadata": {},
   "outputs": [
    {
     "data": {
      "text/plain": [
       "LinearRegression()"
      ]
     },
     "execution_count": 31,
     "metadata": {},
     "output_type": "execute_result"
    }
   ],
   "source": [
    "from sklearn.preprocessing import PolynomialFeatures\n",
    "poly_reg=PolynomialFeatures(degree=4)\n",
    "X_poly=poly_reg.fit_transform(X)\n",
    "poly_reg.fit(X_poly,y)\n",
    "lin_reg2 = LinearRegression()\n",
    "lin_reg2.fit(X_poly,y)"
   ]
  },
  {
   "cell_type": "code",
   "execution_count": 32,
   "id": "f15edddd",
   "metadata": {},
   "outputs": [
    {
     "data": {
      "text/plain": [
       "Text(0, 0.5, 'Salary')"
      ]
     },
     "execution_count": 32,
     "metadata": {},
     "output_type": "execute_result"
    },
    {
     "data": {
      "image/png": "[encoded data removed]",
      "text/plain": [
       "<Figure size 432x288 with 1 Axes>"
      ]
     },
     "metadata": {
      "needs_background": "light"
     },
     "output_type": "display_data"
    }
   ],
   "source": [
    "#Linear Regression\n",
    "plt.scatter(X,y,color='red')\n",
    "plt.plot(X, lin_reg.predict(X), color='blue')\n",
    "plt.title('Linear Regression')\n",
    "plt.xlabel('Position')\n",
    "plt.ylabel('Salary')"
   ]
  },
  {
   "cell_type": "code",
   "execution_count": 33,
   "id": "5d183e6e",
   "metadata": {},
   "outputs": [
    {
     "data": {
      "image/png": "[encoded data removed]",
      "text/plain": [
       "<Figure size 432x288 with 1 Axes>"
      ]
     },
     "metadata": {
      "needs_background": "light"
     },
     "output_type": "display_data"
    }
   ],
   "source": [
    "#Polynomial Regression\n",
    "plt.scatter(X,y,color='red')\n",
    "plt.plot(X, lin_reg2.predict(poly_reg.fit_transform(X)), color='blue')\n",
    "plt.title('Polynomial Regression')\n",
    "plt.xlabel('Position')\n",
    "plt.ylabel('Salary')\n",
    "plt.show()"
   ]
  },
  {
   "cell_type": "code",
   "execution_count": 39,
   "id": "5c186f3c",
   "metadata": {},
   "outputs": [
    {
     "data": {
      "text/plain": [
       "array([413045.45454545])"
      ]
     },
     "execution_count": 39,
     "metadata": {},
     "output_type": "execute_result"
    }
   ],
   "source": [
    "#results by both Models\n",
    "lin_reg.predict([[8.5]])"
   ]
  },
  {
   "cell_type": "code",
   "execution_count": 38,
   "id": "f5c6b22b",
   "metadata": {},
   "outputs": [
    {
     "data": {
      "text/plain": [
       "array([388443.23645105])"
      ]
     },
     "execution_count": 38,
     "metadata": {},
     "output_type": "execute_result"
    }
   ],
   "source": [
    "lin_reg2.predict(poly_reg.fit_transform([[8.5]])) #closer to the actual value"
   ]
  },
  {
   "cell_type": "code",
   "execution_count": null,
   "id": "d75854b5",
   "metadata": {},
   "outputs": [],
   "source": []
  }
 ],
 "metadata": {
  "kernelspec": {
   "display_name": "Python 3 (ipykernel)",
   "language": "python",
   "name": "python3"
  },
  "language_info": {
   "codemirror_mode": {
    "name": "ipython",
    "version": 3
   },
   "file_extension": ".py",
   "mimetype": "text/x-python",
   "name": "python",
   "nbconvert_exporter": "python",
   "pygments_lexer": "ipython3",
   "version": "3.9.7"
  }
 },
 "nbformat": 4,
 "nbformat_minor": 5
}
