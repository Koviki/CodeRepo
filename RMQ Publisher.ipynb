{
 "cells": [
  {
   "cell_type": "code",
   "execution_count": 8,
   "id": "1352f16f",
   "metadata": {},
   "outputs": [],
   "source": [
    "import csv\n",
    "import pika\n",
    "import time"
   ]
  },
  {
   "cell_type": "code",
   "execution_count": 9,
   "id": "c0eda131",
   "metadata": {},
   "outputs": [],
   "source": [
    "# Replace 'my_csv_file.csv' with the path to your CSV file\n",
    "csv_file_path = r'C:\\Users\\Kinjal Roy\\Desktop\\my_csv_file.csv'"
   ]
  },
  {
   "cell_type": "code",
   "execution_count": 14,
   "id": "c1bb55f5",
   "metadata": {},
   "outputs": [],
   "source": [
    "# RabbitMQ connection parameters\n",
    "rabbitmq_host = 'localhost'\n",
    "exchange_name = 'my_exchange'\n",
    "routing_key = 'my_routing_key'"
   ]
  },
  {
   "cell_type": "code",
   "execution_count": 15,
   "id": "59eac90c",
   "metadata": {},
   "outputs": [],
   "source": [
    "# Connect to RabbitMQ\n",
    "connection = pika.BlockingConnection(pika.ConnectionParameters(host=rabbitmq_host))\n",
    "channel = connection.channel()"
   ]
  },
  {
   "cell_type": "code",
   "execution_count": 16,
   "id": "a23ccfab",
   "metadata": {},
   "outputs": [
    {
     "data": {
      "text/plain": [
       "<METHOD(['channel_number=1', 'frame_type=1', 'method=<Exchange.DeclareOk>'])>"
      ]
     },
     "execution_count": 16,
     "metadata": {},
     "output_type": "execute_result"
    }
   ],
   "source": [
    "# Declare the exchange, if it doesn't already exist\n",
    "channel.exchange_declare(exchange=exchange_name, exchange_type='direct', durable=True)\n"
   ]
  },
  {
   "cell_type": "code",
   "execution_count": 17,
   "id": "6f7499a4",
   "metadata": {},
   "outputs": [
    {
     "name": "stdout",
     "output_type": "stream",
     "text": [
      "Sent: a,b,c\n",
      "Sent: a,b,c\n",
      "Sent: d,e,f\n",
      "Sent: g,h,i\n"
     ]
    }
   ],
   "source": [
    "# Open the CSV file\n",
    "with open(csv_file_path, mode='r', encoding='utf-8') as csvfile:\n",
    "    reader = csv.reader(csvfile)\n",
    "    for row in reader:\n",
    "        message = ','.join(row)  # Convert the CSV row to a comma-separated string\n",
    "        # Publish the message to the exchange\n",
    "        channel.basic_publish(exchange=exchange_name, routing_key=routing_key, body=message)\n",
    "        print(f\"Sent: {message}\")\n",
    "        time.sleep(3)\n",
    "\n",
    "# Close the connection\n",
    "connection.close()"
   ]
  },
  {
   "cell_type": "code",
   "execution_count": null,
   "id": "dc26a194",
   "metadata": {},
   "outputs": [],
   "source": []
  }
 ],
 "metadata": {
  "kernelspec": {
   "display_name": "Python 3 (ipykernel)",
   "language": "python",
   "name": "python3"
  },
  "language_info": {
   "codemirror_mode": {
    "name": "ipython",
    "version": 3
   },
   "file_extension": ".py",
   "mimetype": "text/x-python",
   "name": "python",
   "nbconvert_exporter": "python",
   "pygments_lexer": "ipython3",
   "version": "3.9.7"
  }
 },
 "nbformat": 4,
 "nbformat_minor": 5
}
