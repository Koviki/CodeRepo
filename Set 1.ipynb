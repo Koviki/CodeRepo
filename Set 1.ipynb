{
 "cells": [
  {
   "cell_type": "markdown",
   "id": "4c8594b1",
   "metadata": {},
   "source": [
    "<h>Create a parent class Office with the attributes technology/tools, department name, and the number of employees belongs to each department, with the office_directory method in the class that displays(prints) the department name,  the technology/tools used and the number of employees belongs to each department.\n",
    "Create a child class Employee with the attributes employee name, and years of experience, with employee_directory method in the class that displays(prints) the employee name, with their department name, with years of experience.\n",
    "</h>"
   ]
  },
  {
   "cell_type": "code",
   "execution_count": 2,
   "id": "d051ca95",
   "metadata": {},
   "outputs": [],
   "source": [
    "class Office:\n",
    "    def __init__(self, tools, dept_name, emp_count):\n",
    "        self.tools = tools\n",
    "        self.dept_name = dept_name\n",
    "        self.emp_count = emp_count\n",
    "    \n",
    "    def office_directory(self):\n",
    "        print(f\"Department: {self.dept_name}\")\n",
    "        print(f\"Technology: {self.tools}\")\n",
    "        print(f\"Number of Employees: {self.emp_count}\")\n",
    "        \n",
    "\n",
    "class Employee(Office):\n",
    "    def __init__(self, name, exp_years, tools, dept_name, emp_count):\n",
    "        super().__init__(tools, dept_name, emp_count)\n",
    "        self.name = name\n",
    "        self.exp_years = exp_years\n",
    "    \n",
    "    def employee_directory(self):\n",
    "        print(f\"Name: {self.name}\")\n",
    "        super().office_directory()\n",
    "        print(f\"Years of Experience: {self.exp_years}\")\n"
   ]
  },
  {
   "cell_type": "code",
   "execution_count": 3,
   "id": "26919029",
   "metadata": {},
   "outputs": [
    {
     "name": "stdout",
     "output_type": "stream",
     "text": [
      "Department: IT\n",
      "Technology: Python, Redshift\n",
      "Number of Employees: 5\n",
      "Name: Kinjal Roy\n",
      "Department: Tech\n",
      "Technology: Microsoft Office, Salesforce\n",
      "Number of Employees: 8\n",
      "Years of Experience: 5\n"
     ]
    }
   ],
   "source": [
    "office = Office(\"Python, Redshift\", \"IT\", 5)\n",
    "office.office_directory()\n",
    "\n",
    "employee = Employee(\"Kinjal Roy\", 5, \"Microsoft Office, Salesforce\", \"Tech\", 8)\n",
    "employee.employee_directory()\n"
   ]
  },
  {
   "cell_type": "markdown",
   "id": "cbd73941",
   "metadata": {},
   "source": [
    "<h>Convert Roman numerals to Integer values.\n",
    "</h>"
   ]
  },
  {
   "cell_type": "code",
   "execution_count": 4,
   "id": "b20f4fd8",
   "metadata": {},
   "outputs": [],
   "source": [
    "def roman_to_int(s):\n",
    "    roman_dict = {\n",
    "        \"I\": 1,\n",
    "        \"V\": 5,\n",
    "        \"X\": 10,\n",
    "        \"L\": 50,\n",
    "        \"C\": 100,\n",
    "        \"D\": 500,\n",
    "        \"M\": 1000,\n",
    "    }\n",
    "    result = 0\n",
    "    prev_val = 0\n",
    "    \n",
    "    for c in s[::-1]:\n",
    "        curr_val = roman_dict[c]\n",
    "        if curr_val < prev_val:\n",
    "            result -= curr_val\n",
    "        else:\n",
    "            result += curr_val\n",
    "        prev_val = curr_val\n",
    "    \n",
    "    return result\n"
   ]
  },
  {
   "cell_type": "code",
   "execution_count": 10,
   "id": "30225540",
   "metadata": {},
   "outputs": [
    {
     "name": "stdout",
     "output_type": "stream",
     "text": [
      "3\n",
      "4\n",
      "1012\n"
     ]
    }
   ],
   "source": [
    "print(roman_to_int(\"III\"))\n",
    "print(roman_to_int(\"IV\"))\n",
    "print(roman_to_int(\"MXII\"))\n"
   ]
  },
  {
   "cell_type": "markdown",
   "id": "6713e71d",
   "metadata": {},
   "source": [
    "<h>Sort the array and remove the duplicates in-place such that each unique element appears only once. The relative order of the elements should be kept the same.\n",
    "Do not allocate extra space for another array. You must do this by modifying the input array in-place</h>"
   ]
  },
  {
   "cell_type": "code",
   "execution_count": 44,
   "id": "730f85db",
   "metadata": {},
   "outputs": [],
   "source": [
    "def remove_duplicates(nums):\n",
    "    nums.sort()\n",
    "    i = 0\n",
    "    j = 1\n",
    "    \n",
    "    \n",
    "    while j < len(nums):\n",
    "        if nums[i] == nums[j]:\n",
    "            j += 1\n",
    "        else:\n",
    "            i += 1\n",
    "            nums[i] = nums[j]\n",
    "            j += 1\n",
    "    \n",
    "    \n",
    "    nums[:] = nums[:i+1]\n"
   ]
  },
  {
   "cell_type": "code",
   "execution_count": 45,
   "id": "fbc46085",
   "metadata": {},
   "outputs": [
    {
     "name": "stdout",
     "output_type": "stream",
     "text": [
      "[1, 2, 3, 4, 5, 78, 91, 98]\n"
     ]
    }
   ],
   "source": [
    "nums = [91,78,1, 3, 2, 2, 4, 3, 5,98]\n",
    "remove_duplicates(nums)\n",
    "print(nums) \n"
   ]
  },
  {
   "cell_type": "markdown",
   "id": "1f6bff9b",
   "metadata": {},
   "source": [
    "<h>With a text file phone.txt that contains a list of phone numbers (one per line)\n",
    "validate whether the input phone number is valid phone or not.\n",
    "assume that a valid phone number must appear in one of the following two formats: \n",
    "(xxx) xxx-xxxx (or) xxx-xxx-xxxx (x means a digit)\n",
    "</h>"
   ]
  },
  {
   "cell_type": "code",
   "execution_count": 46,
   "id": "0300cede",
   "metadata": {},
   "outputs": [
    {
     "name": "stdout",
     "output_type": "stream",
     "text": [
      "(123) 456-7890 is a valid phone number\n",
      "234-567-8901 is a valid phone number\n",
      "(123) 456 7890 is not a valid phone number\n",
      "1234567890 is not a valid phone number\n",
      "+98304929341 is not a valid phone number\n"
     ]
    }
   ],
   "source": [
    "import re\n",
    "\n",
    "phone_numbers = ['(123) 456-7890', '234-567-8901', '(123) 456 7890', '1234567890','+98304929341']\n",
    "\n",
    "for number in phone_numbers:\n",
    "    if re.match(r'^\\(\\d{3}\\) \\d{3}-\\d{4}$|^\\d{3}-\\d{3}-\\d{4}$', number):\n",
    "        print(f'{number} is a valid phone number')\n",
    "    else:\n",
    "        print(f'{number} is not a valid phone number')\n"
   ]
  },
  {
   "cell_type": "markdown",
   "id": "24297357",
   "metadata": {},
   "source": [
    "<h>Find the length of the longest substring without repeating characters in the input string.</h>"
   ]
  },
  {
   "cell_type": "code",
   "execution_count": 47,
   "id": "15c33859",
   "metadata": {},
   "outputs": [],
   "source": [
    "def longest_substring_without_repeating(s):\n",
    "    n = len(s)\n",
    "    max_len = 0\n",
    "    char_set = set()\n",
    "    i = j = 0\n",
    "    \n",
    "    while i < n and j < n:\n",
    "        if s[j] not in char_set:\n",
    "            char_set.add(s[j])\n",
    "            j += 1\n",
    "            max_len = max(max_len, j-i)\n",
    "        else:\n",
    "            char_set.remove(s[i])\n",
    "            i += 1\n",
    "            \n",
    "    return max_len\n"
   ]
  },
  {
   "cell_type": "code",
   "execution_count": 48,
   "id": "79cceade",
   "metadata": {},
   "outputs": [
    {
     "name": "stdout",
     "output_type": "stream",
     "text": [
      "7\n"
     ]
    }
   ],
   "source": [
    "input_str = 'jskdhkinjskdh'\n",
    "print(longest_substring_without_repeating(input_str))\n"
   ]
  },
  {
   "cell_type": "markdown",
   "id": "17101a05",
   "metadata": {},
   "source": [
    "<h>Get the input sentence as liner and an input string as s, return the index of the first occurrence of s in liner, or -1 if s is not part of liner.</h>"
   ]
  },
  {
   "cell_type": "code",
   "execution_count": 49,
   "id": "d637ca28",
   "metadata": {},
   "outputs": [],
   "source": [
    "def substring_index(liner, s):\n",
    "    return liner.find(s)\n"
   ]
  },
  {
   "cell_type": "code",
   "execution_count": 50,
   "id": "db6dcb59",
   "metadata": {},
   "outputs": [
    {
     "name": "stdout",
     "output_type": "stream",
     "text": [
      "12\n"
     ]
    }
   ],
   "source": [
    "liner = 'Kinjal is a good boy. No. He is a very good boy actually.'\n",
    "s = 'good'\n",
    "print(substring_index(liner, s))\n"
   ]
  },
  {
   "cell_type": "markdown",
   "id": "726b46a7",
   "metadata": {},
   "source": [
    "<h>Get the input string containing only parantheses as characters ‘(‘ and ‘)’, return the length of the longest valid (well-formed) parentheses substring.</h>"
   ]
  },
  {
   "cell_type": "code",
   "execution_count": 33,
   "id": "030a4090",
   "metadata": {},
   "outputs": [],
   "source": [
    "def longest_valid_parentheses(s):\n",
    "    stack = [-1]\n",
    "    max_len = 0\n",
    "    \n",
    "    for i in range(len(s)):\n",
    "        if s[i] == '(':\n",
    "            stack.append(i)\n",
    "        else:\n",
    "            stack.pop()\n",
    "            if len(stack) == 0:\n",
    "                stack.append(i)\n",
    "            else:\n",
    "                max_len = max(max_len, i - stack[-1])\n",
    "                \n",
    "    return max_len\n"
   ]
  },
  {
   "cell_type": "code",
   "execution_count": 39,
   "id": "2bc94c09",
   "metadata": {},
   "outputs": [
    {
     "name": "stdout",
     "output_type": "stream",
     "text": [
      "8\n"
     ]
    }
   ],
   "source": [
    "s1 = '()((()))(('\n",
    "\n",
    "print(longest_valid_parentheses(s1)) \n"
   ]
  },
  {
   "cell_type": "markdown",
   "id": "79030ac9",
   "metadata": {},
   "source": [
    "<h>Get the input integer n, and an integer t, return the count of t appearing in all positive integers less than or equal to n.</h>"
   ]
  },
  {
   "cell_type": "code",
   "execution_count": 42,
   "id": "1d4f4838",
   "metadata": {},
   "outputs": [],
   "source": [
    "def occurrences(n, t):\n",
    "    count = 0\n",
    "    for i in range(1, n+1):\n",
    "        count += str(i).count(str(t))\n",
    "    return count\n"
   ]
  },
  {
   "cell_type": "code",
   "execution_count": 43,
   "id": "58320604",
   "metadata": {},
   "outputs": [
    {
     "name": "stdout",
     "output_type": "stream",
     "text": [
      "9\n"
     ]
    }
   ],
   "source": [
    "n = 25\n",
    "t = 2\n",
    "print(occurrences(n, t))  # Output: 9\n"
   ]
  },
  {
   "cell_type": "code",
   "execution_count": null,
   "id": "8e7da2b1",
   "metadata": {},
   "outputs": [],
   "source": []
  }
 ],
 "metadata": {
  "kernelspec": {
   "display_name": "Python 3 (ipykernel)",
   "language": "python",
   "name": "python3"
  },
  "language_info": {
   "codemirror_mode": {
    "name": "ipython",
    "version": 3
   },
   "file_extension": ".py",
   "mimetype": "text/x-python",
   "name": "python",
   "nbconvert_exporter": "python",
   "pygments_lexer": "ipython3",
   "version": "3.9.7"
  }
 },
 "nbformat": 4,
 "nbformat_minor": 5
}
